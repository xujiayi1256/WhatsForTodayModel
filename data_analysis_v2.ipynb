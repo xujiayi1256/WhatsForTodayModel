{
 "cells": [
  {
   "cell_type": "markdown",
   "id": "53930064-0d43-4515-abea-ad9bf6f1199c",
   "metadata": {},
   "source": [
    "# What's For Today"
   ]
  },
  {
   "cell_type": "markdown",
   "id": "5921a438-5dc4-485b-b8eb-21ed72593465",
   "metadata": {},
   "source": [
    "## 1.1 Data Import"
   ]
  },
  {
   "cell_type": "code",
   "execution_count": 2,
   "id": "4a463bed-b332-4c2b-a5c6-27e1e60d890d",
   "metadata": {},
   "outputs": [
    {
     "name": "stdout",
     "output_type": "stream",
     "text": [
      "The autoreload extension is already loaded. To reload it, use:\n",
      "  %reload_ext autoreload\n"
     ]
    }
   ],
   "source": [
    "%load_ext autoreload\n",
    "%autoreload 2\n",
    "\n",
    "import pandas as pd\n",
    "import jieba\n",
    "import simplejson\n",
    "from sklearn.preprocessing import StandardScaler\n",
    "import matplotlib.pyplot as plt\n",
    "import seaborn as sns\n",
    "from string import ascii_letters\n",
    "import numpy as np\n",
    "\n",
    "from pandas_profiling import ProfileReport\n",
    "\n",
    "from sklearn.model_selection import train_test_split\n",
    "from sklearn.feature_extraction.text import TfidfVectorizer\n",
    "from sklearn.naive_bayes import MultinomialNB\n",
    "from sklearn.metrics import roc_auc_score, f1_score\n",
    "\n",
    "from clean import split_score,split_review,run,recommendation\n",
    "from nlp import nlp_score,review_clean,score_trans,pred_score"
   ]
  },
  {
   "cell_type": "code",
   "execution_count": 15,
   "id": "9cb43d9f-6c1c-4f36-a741-ab9fbf68b398",
   "metadata": {
    "tags": []
   },
   "outputs": [
    {
     "name": "stdout",
     "output_type": "stream",
     "text": [
      "0.8926637082933747\n",
      "CPU times: user 1min 39s, sys: 410 ms, total: 1min 39s\n",
      "Wall time: 1min 40s\n"
     ]
    }
   ],
   "source": [
    "%%time\n",
    "d_info = pd.read_csv(\"raw_data/dianping_info_test3.csv\",encoding='utf-8')\n",
    "d_review = pd.read_csv(\"raw_data/dianping_review_v3.csv\",encoding='utf-8')\n",
    "\n",
    "df = run(\"dianping_info_test3.csv\",\"dianping_review_v3.csv\")"
   ]
  },
  {
   "cell_type": "code",
   "execution_count": 16,
   "id": "de5480c5-3632-4405-aa3e-2787056352f3",
   "metadata": {},
   "outputs": [],
   "source": [
    "df.to_csv('raw_data/cleaned_data.csv')"
   ]
  },
  {
   "cell_type": "markdown",
   "id": "d52c8463-d8b7-4d3c-84b2-0a25673d5e5a",
   "metadata": {},
   "source": [
    "## 1.2 Data Analysis"
   ]
  },
  {
   "cell_type": "markdown",
   "id": "df9859c0-42f9-4ae5-bcb3-83e755e0dc3d",
   "metadata": {},
   "source": [
    "### 1.2.1 Review Score Histplot"
   ]
  },
  {
   "cell_type": "code",
   "execution_count": null,
   "id": "f2426017-b9c9-4b2a-97b7-f714b4dbf6a9",
   "metadata": {
    "tags": []
   },
   "outputs": [],
   "source": [
    "plt.figure(figsize=(20, 4))\n",
    "\n",
    "plt.subplot(1, 4, 1)\n",
    "plt.title('Total Score')\n",
    "sns.histplot(df['total_review_score'], kde=True,bins=10)\n",
    "\n",
    "plt.subplot(1, 4, 2)\n",
    "plt.title('Taste Score')\n",
    "sns.histplot(df['taste'], kde=True,bins=10, color='orange')\n",
    "\n",
    "plt.subplot(1, 4, 3)\n",
    "plt.title('Surroundings Score')\n",
    "sns.histplot(df['surroundings'], kde=True, color='r',bins=10)\n",
    "\n",
    "plt.subplot(1, 4, 4)\n",
    "plt.title('Service Score')\n",
    "sns.histplot(df['service'], kde=True, color='g',bins=10);"
   ]
  },
  {
   "cell_type": "markdown",
   "id": "4eef9eea-fcb3-42e8-8acc-5472332552dc",
   "metadata": {},
   "source": [
    "### 1.2.2 Features Correlation"
   ]
  },
  {
   "cell_type": "code",
   "execution_count": null,
   "id": "902486be-da00-44fc-aba7-24feb035e3b5",
   "metadata": {},
   "outputs": [],
   "source": [
    "df_analysis = df.drop(columns=['restaurant_id','restaurant','address','tag1','tag2'])"
   ]
  },
  {
   "cell_type": "code",
   "execution_count": null,
   "id": "2a24bbe4-3fae-4fc1-bce0-69acaa190ef9",
   "metadata": {},
   "outputs": [],
   "source": [
    "scaler = StandardScaler()\n",
    "scaler.fit(df_analysis)\n",
    "df_transformed = pd.DataFrame(scaler.transform(df_analysis), columns = df_analysis.columns)"
   ]
  },
  {
   "cell_type": "code",
   "execution_count": null,
   "id": "db446001-7c04-4280-b3b3-a801f27f2e0d",
   "metadata": {},
   "outputs": [],
   "source": [
    "corrMatrix = round(df_transformed.corr(),2)\n",
    "plt.figure(figsize=(14, 10))\n",
    "plt.title(\"Features Correlation\",fontsize=20)\n",
    "mask = np.triu(np.ones_like(corrMatrix, dtype=bool))\n",
    "cmap = sns.color_palette(\"mako\", as_cmap=True)\n",
    "sns.heatmap(corrMatrix, annot=True, cmap=cmap, mask=mask)\n",
    "plt.show();"
   ]
  },
  {
   "cell_type": "code",
   "execution_count": null,
   "id": "01213868-3948-4a8a-8989-83ed29da545f",
   "metadata": {},
   "outputs": [],
   "source": [
    "df_wc = review_clean(d_review)\n",
    "df_wc['target'] = df_wc['用户总分'].map(lambda x:score_trans(x))"
   ]
  },
  {
   "cell_type": "code",
   "execution_count": null,
   "id": "88a7d833-113d-4010-8d11-926d6562e831",
   "metadata": {},
   "outputs": [],
   "source": [
    "def extract_keywords(text, mode = \"TF-IDF\", topK = 30, allowPOS = [\"n\", \"v\"]):\n",
    "    keyword_ls = []\n",
    "    if mode == \"TF-IDF\":\n",
    "        for key in analyse.extract_tags(text, topK = topK, withWeight = False, allowPOS = allowPOS):\n",
    "            keyword_ls.append(key)\n",
    "        \n",
    "        keyword_df = pd.DataFrame(keyword_ls, columns = [\"关键词\"])\n",
    "        return keyword_df\n",
    "    \n",
    "    else:\n",
    "        for key in analyse.textrank(text, topK = topK, withWeight = False, allowPOS = allowPOS):\n",
    "            keyword_ls.append(key)\n",
    "        \n",
    "        keyword_df = pd.DataFrame(keyword_ls, columns = [\"关键词\"])\n",
    "        return keyword_df"
   ]
  },
  {
   "cell_type": "code",
   "execution_count": null,
   "id": "c9fd3310-bed1-442e-8262-f418b287b799",
   "metadata": {},
   "outputs": [],
   "source": [
    "def extract_most_frequent(text, mode = \"normal\", topK = 30):\n",
    "    stopwords_ls = open(\"raw_data/cn_stopwords.txt\", encoding = \"utf-8\").read().splitlines()\n",
    "    \n",
    "    if mode == \"normal\":\n",
    "        words = jieba.lcut(text)\n",
    "    else:\n",
    "        words = jieba.lcut_for_search(text)\n",
    "    \n",
    "    words = [word for word in words if word not in stopwords_ls]\n",
    "        \n",
    "    keyword_ls = {}\n",
    "    for keyword in words:\n",
    "        if len(keyword) < 2:\n",
    "            continue\n",
    "        if keyword in keyword_ls:\n",
    "            keyword_ls[keyword] += 1\n",
    "        else:\n",
    "            keyword_ls[keyword] = 1\n",
    "            \n",
    "    keyword_df = pd.DataFrame(sorted(keyword_ls.items(), key = lambda x: x[1], reverse = True), columns = [\"高频词\", \"词频\"])[0:topK]\n",
    "    return keyword_df"
   ]
  },
  {
   "cell_type": "code",
   "execution_count": null,
   "id": "1cbeb81a-44ff-4ec6-98f8-47d5fbb8e77f",
   "metadata": {},
   "outputs": [],
   "source": [
    "text_negative = \" \".join(df_wc[df_wc['店铺id'] == \"l1KkGwL9nhdbxYJG\"][\"评论内容\"])"
   ]
  },
  {
   "cell_type": "code",
   "execution_count": 18,
   "id": "e6ceadcc-3ed3-46c4-915a-b97be53d4bed",
   "metadata": {
    "tags": []
   },
   "outputs": [
    {
     "data": {
      "text/plain": [
       "[{'price_per_person': 130,\n",
       "  'restaurant_id': 'G5G3IjgmSzR5K3Sq',\n",
       "  'restaurant': '侬家宴·本帮江浙小海鲜(西康店)',\n",
       "  'address': '活\\uf5d7\\uf286\\uf867\\uf5bc\\uf5bc\\ue2ef',\n",
       "  'total_review_score': 4.8,\n",
       "  'tag1': '上海本帮菜',\n",
       "  'tag2': '南京西路',\n",
       "  'taste': 4.8,\n",
       "  'surroundings': 4.8,\n",
       "  'service': 4.8,\n",
       "  'medium_review_number': 130,\n",
       "  'good_review_number': 1655,\n",
       "  'bad_review_number': 42,\n",
       "  'total_review_number': 1827,\n",
       "  'no_queues': 5.0,\n",
       "  'nlp_score': 0.8685666666666666,\n",
       "  'cuisine': '本帮江浙菜',\n",
       "  'district': '静安区',\n",
       "  'no_queues%': 0.0027367268746579,\n",
       "  'rank': 1},\n",
       " {'price_per_person': 129,\n",
       "  'restaurant_id': 'H1HuoCFIrRX3Cra1',\n",
       "  'restaurant': '名厨本帮馆',\n",
       "  'address': '汝\\uf6fe\\uedbb11\\ueab7\\ue2ef',\n",
       "  'total_review_score': 4.5,\n",
       "  'tag1': '上海本帮菜',\n",
       "  'tag2': '西藏南路/世博会馆',\n",
       "  'taste': 4.6,\n",
       "  'surroundings': 4.0,\n",
       "  'service': 4.1,\n",
       "  'medium_review_number': 364,\n",
       "  'good_review_number': 3115,\n",
       "  'bad_review_number': 203,\n",
       "  'total_review_number': 3682,\n",
       "  'no_queues': 21.0,\n",
       "  'nlp_score': 0.8377333333333333,\n",
       "  'cuisine': '本帮江浙菜',\n",
       "  'district': '黄浦区',\n",
       "  'no_queues%': 0.0057034220532319,\n",
       "  'rank': 2},\n",
       " {'price_per_person': 151,\n",
       "  'restaurant_id': 'k3iBZigsmsbWnu4F',\n",
       "  'restaurant': '上海1号私藏菜(黄浦店)',\n",
       "  'address': '活藏\\uf6fe\\uf286\\uede5\\uf2a3\\uf274\\ue2ef\\ueeaa\\uee06\\ue594\\ue1d2\\uf83d\\uf834（靠银淮\\uef42云\\uf286）',\n",
       "  'total_review_score': 4.3,\n",
       "  'tag1': '上海本帮菜',\n",
       "  'tag2': '人民广场/南京路',\n",
       "  'taste': 4.1,\n",
       "  'surroundings': 4.1,\n",
       "  'service': 3.8,\n",
       "  'medium_review_number': 1799,\n",
       "  'good_review_number': 11297,\n",
       "  'bad_review_number': 797,\n",
       "  'total_review_number': 13893,\n",
       "  'no_queues': 31.0,\n",
       "  'nlp_score': 0.8289333333333334,\n",
       "  'cuisine': '本帮江浙菜',\n",
       "  'district': '黄浦区',\n",
       "  'no_queues%': 0.002231339523501,\n",
       "  'rank': 3}]"
      ]
     },
     "execution_count": 18,
     "metadata": {},
     "output_type": "execute_result"
    }
   ],
   "source": [
    "recommendation(district = '全部', cuisine = '本帮江浙菜')"
   ]
  }
 ],
 "metadata": {
  "kernelspec": {
   "display_name": "Python 3 (ipykernel)",
   "language": "python",
   "name": "python3"
  },
  "language_info": {
   "codemirror_mode": {
    "name": "ipython",
    "version": 3
   },
   "file_extension": ".py",
   "mimetype": "text/x-python",
   "name": "python",
   "nbconvert_exporter": "python",
   "pygments_lexer": "ipython3",
   "version": "3.8.12"
  }
 },
 "nbformat": 4,
 "nbformat_minor": 5
}

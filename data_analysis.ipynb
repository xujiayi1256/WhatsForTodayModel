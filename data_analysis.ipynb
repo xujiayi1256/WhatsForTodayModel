{
 "cells": [
  {
   "cell_type": "code",
   "execution_count": 1,
   "id": "3143e796-57dc-4946-a235-d58effd914d0",
   "metadata": {},
   "outputs": [],
   "source": [
    "import matplotlib.pyplot as plt\n",
    "import os\n",
    "import pandas as pd\n",
    "import numpy as np\n",
    "import simplejson"
   ]
  },
  {
   "cell_type": "code",
   "execution_count": 2,
   "id": "becee6ee-13f6-4d90-99e9-adc36bd05389",
   "metadata": {},
   "outputs": [],
   "source": [
    "from clean import split_score,split_review,run"
   ]
  },
  {
   "cell_type": "code",
   "execution_count": 13,
   "id": "894b9aef-5ad8-4ed6-a442-ba85e0fab9b6",
   "metadata": {},
   "outputs": [
    {
     "data": {
      "text/plain": [
       "Index(['price_per_person', 'restaurant_id', 'restaurant', 'address',\n",
       "       'total_review_score', 'tag1', 'tag2', 'total_review_number', 'taste',\n",
       "       'surroundings', 'service', 'recommendation_1', 'recommendation_2',\n",
       "       'recommendation_3', 'medium_review_number', 'good_review_number',\n",
       "       'bad_review_number', 'no_queues'],\n",
       "      dtype='object')"
      ]
     },
     "execution_count": 13,
     "metadata": {},
     "output_type": "execute_result"
    }
   ],
   "source": [
    "df = run(\"dianping_info.xlsx\",\"dianping_review.xlsx\")\n",
    "df.columns"
   ]
  },
  {
   "cell_type": "code",
   "execution_count": 14,
   "id": "9130e278-9298-4603-9b52-ce661d267f3b",
   "metadata": {},
   "outputs": [
    {
     "data": {
      "text/html": [
       "<div>\n",
       "<style scoped>\n",
       "    .dataframe tbody tr th:only-of-type {\n",
       "        vertical-align: middle;\n",
       "    }\n",
       "\n",
       "    .dataframe tbody tr th {\n",
       "        vertical-align: top;\n",
       "    }\n",
       "\n",
       "    .dataframe thead th {\n",
       "        text-align: right;\n",
       "    }\n",
       "</style>\n",
       "<table border=\"1\" class=\"dataframe\">\n",
       "  <thead>\n",
       "    <tr style=\"text-align: right;\">\n",
       "      <th></th>\n",
       "      <th>price_per_person</th>\n",
       "      <th>restaurant_id</th>\n",
       "      <th>restaurant</th>\n",
       "      <th>address</th>\n",
       "      <th>total_review_score</th>\n",
       "      <th>tag1</th>\n",
       "      <th>tag2</th>\n",
       "      <th>total_review_number</th>\n",
       "      <th>taste</th>\n",
       "      <th>surroundings</th>\n",
       "      <th>service</th>\n",
       "      <th>recommendation_1</th>\n",
       "      <th>recommendation_2</th>\n",
       "      <th>recommendation_3</th>\n",
       "      <th>medium_review_number</th>\n",
       "      <th>good_review_number</th>\n",
       "      <th>bad_review_number</th>\n",
       "      <th>no_queues</th>\n",
       "      <th>no_queues%</th>\n",
       "    </tr>\n",
       "  </thead>\n",
       "  <tbody>\n",
       "    <tr>\n",
       "      <th>0</th>\n",
       "      <td>359</td>\n",
       "      <td>k4izwDTOIfiYQDsF</td>\n",
       "      <td>上隐水产海鲜刺身自助餐·甄选(淮海百盛店)</td>\n",
       "      <td>淮海中路918号百盛购物中心7楼</td>\n",
       "      <td>4.5</td>\n",
       "      <td>自助餐</td>\n",
       "      <td>淮海路</td>\n",
       "      <td>21190</td>\n",
       "      <td>4.6</td>\n",
       "      <td>4.2</td>\n",
       "      <td>4.5</td>\n",
       "      <td>牡丹虾</td>\n",
       "      <td>鲍鱼</td>\n",
       "      <td>鹅肝</td>\n",
       "      <td>2236</td>\n",
       "      <td>17601</td>\n",
       "      <td>1353</td>\n",
       "      <td>295.0</td>\n",
       "      <td>0.013922</td>\n",
       "    </tr>\n",
       "    <tr>\n",
       "      <th>1</th>\n",
       "      <td>141</td>\n",
       "      <td>j6sMBvEoL22p8x9P</td>\n",
       "      <td>威尼斯海鲜自助餐厅(壹丰广场店)</td>\n",
       "      <td>四川北路1363号壹丰广场L3-A01、A01-1、A08（近四川北路4号口）</td>\n",
       "      <td>4.1</td>\n",
       "      <td>自助餐</td>\n",
       "      <td>四川北路/海伦路</td>\n",
       "      <td>4061</td>\n",
       "      <td>4.1</td>\n",
       "      <td>4.1</td>\n",
       "      <td>4.1</td>\n",
       "      <td>三文鱼</td>\n",
       "      <td>阿根廷红虾</td>\n",
       "      <td>缤纷水果</td>\n",
       "      <td>717</td>\n",
       "      <td>3066</td>\n",
       "      <td>278</td>\n",
       "      <td>102.0</td>\n",
       "      <td>0.025117</td>\n",
       "    </tr>\n",
       "    <tr>\n",
       "      <th>2</th>\n",
       "      <td>122</td>\n",
       "      <td>G5tG02B1RMco2ydO</td>\n",
       "      <td>東盛自助料理(南京东路店)</td>\n",
       "      <td>南京东路353号悦荟广场6楼601室（地铁2/10号线南京东路站1号口3号口出）</td>\n",
       "      <td>4.5</td>\n",
       "      <td>自助餐</td>\n",
       "      <td>南京东路</td>\n",
       "      <td>13914</td>\n",
       "      <td>4.4</td>\n",
       "      <td>4.5</td>\n",
       "      <td>4.5</td>\n",
       "      <td>安格斯牛肉</td>\n",
       "      <td>虎虾红虾</td>\n",
       "      <td>烤肉</td>\n",
       "      <td>1839</td>\n",
       "      <td>11482</td>\n",
       "      <td>593</td>\n",
       "      <td>216.0</td>\n",
       "      <td>0.015524</td>\n",
       "    </tr>\n",
       "    <tr>\n",
       "      <th>3</th>\n",
       "      <td>132</td>\n",
       "      <td>l1MCIbtbVyNohOzs</td>\n",
       "      <td>威尼斯海鲜自助餐厅(中环百联店)</td>\n",
       "      <td>真光路1288号三楼B区G08-3F-1-B3F013商铺</td>\n",
       "      <td>4.5</td>\n",
       "      <td>自助餐</td>\n",
       "      <td>梅川路步行街</td>\n",
       "      <td>8627</td>\n",
       "      <td>4.4</td>\n",
       "      <td>4.4</td>\n",
       "      <td>4.4</td>\n",
       "      <td>三文鱼</td>\n",
       "      <td>炭烤羊排</td>\n",
       "      <td>阿根廷红虾</td>\n",
       "      <td>1115</td>\n",
       "      <td>7083</td>\n",
       "      <td>429</td>\n",
       "      <td>172.0</td>\n",
       "      <td>0.019937</td>\n",
       "    </tr>\n",
       "    <tr>\n",
       "      <th>4</th>\n",
       "      <td>428</td>\n",
       "      <td>Eq4YAd4pZ5LtHkfu</td>\n",
       "      <td>万岛日本料理铁板烧(吴中店)</td>\n",
       "      <td>吴中路369号美恒大厦2层</td>\n",
       "      <td>4.8</td>\n",
       "      <td>日式自助</td>\n",
       "      <td>虹桥镇</td>\n",
       "      <td>12024</td>\n",
       "      <td>4.8</td>\n",
       "      <td>4.8</td>\n",
       "      <td>4.8</td>\n",
       "      <td>鳌虾</td>\n",
       "      <td>生海胆</td>\n",
       "      <td>刺身拼盘</td>\n",
       "      <td>834</td>\n",
       "      <td>10842</td>\n",
       "      <td>348</td>\n",
       "      <td>87.0</td>\n",
       "      <td>0.007236</td>\n",
       "    </tr>\n",
       "  </tbody>\n",
       "</table>\n",
       "</div>"
      ],
      "text/plain": [
       "   price_per_person     restaurant_id             restaurant  \\\n",
       "0               359  k4izwDTOIfiYQDsF  上隐水产海鲜刺身自助餐·甄选(淮海百盛店)   \n",
       "1               141  j6sMBvEoL22p8x9P       威尼斯海鲜自助餐厅(壹丰广场店)   \n",
       "2               122  G5tG02B1RMco2ydO          東盛自助料理(南京东路店)   \n",
       "3               132  l1MCIbtbVyNohOzs       威尼斯海鲜自助餐厅(中环百联店)   \n",
       "4               428  Eq4YAd4pZ5LtHkfu         万岛日本料理铁板烧(吴中店)   \n",
       "\n",
       "                                    address  total_review_score  tag1  \\\n",
       "0                          淮海中路918号百盛购物中心7楼                 4.5   自助餐   \n",
       "1   四川北路1363号壹丰广场L3-A01、A01-1、A08（近四川北路4号口）                 4.1   自助餐   \n",
       "2  南京东路353号悦荟广场6楼601室（地铁2/10号线南京东路站1号口3号口出）                 4.5   自助餐   \n",
       "3             真光路1288号三楼B区G08-3F-1-B3F013商铺                 4.5   自助餐   \n",
       "4                             吴中路369号美恒大厦2层                 4.8  日式自助   \n",
       "\n",
       "       tag2  total_review_number  taste  surroundings  service  \\\n",
       "0       淮海路                21190    4.6           4.2      4.5   \n",
       "1  四川北路/海伦路                 4061    4.1           4.1      4.1   \n",
       "2      南京东路                13914    4.4           4.5      4.5   \n",
       "3    梅川路步行街                 8627    4.4           4.4      4.4   \n",
       "4       虹桥镇                12024    4.8           4.8      4.8   \n",
       "\n",
       "  recommendation_1 recommendation_2 recommendation_3  medium_review_number  \\\n",
       "0              牡丹虾               鲍鱼               鹅肝                  2236   \n",
       "1              三文鱼            阿根廷红虾             缤纷水果                   717   \n",
       "2            安格斯牛肉             虎虾红虾               烤肉                  1839   \n",
       "3              三文鱼             炭烤羊排            阿根廷红虾                  1115   \n",
       "4               鳌虾              生海胆             刺身拼盘                   834   \n",
       "\n",
       "   good_review_number  bad_review_number  no_queues  no_queues%  \n",
       "0               17601               1353      295.0    0.013922  \n",
       "1                3066                278      102.0    0.025117  \n",
       "2               11482                593      216.0    0.015524  \n",
       "3                7083                429      172.0    0.019937  \n",
       "4               10842                348       87.0    0.007236  "
      ]
     },
     "execution_count": 14,
     "metadata": {},
     "output_type": "execute_result"
    }
   ],
   "source": [
    "# df_info = pd.read_excel(r\"../raw_data/dianping_info.xlsx\")\n",
    "# df_review = pd.read_excel(r\"../raw_data/dianping_review.xlsx\")\n",
    "# df = pd.merge(split_score(df_info),split_review(df_review))\n",
    "# df[\"口味\"] = pd.to_numeric(df[\"口味\"],errors='coerce')\n",
    "# df[\"环境\"] = pd.to_numeric(df[\"环境\"],errors='coerce')\n",
    "# df[\"服务\"] = pd.to_numeric(df[\"服务\"],errors='coerce')\n",
    "df[\"no_queues%\"] = df[\"no_queues\"]/df[\"total_review_number\"]\n",
    "df.head()"
   ]
  },
  {
   "cell_type": "code",
   "execution_count": 15,
   "id": "e822ece4-6e1d-4a0f-b438-4f17714164f4",
   "metadata": {},
   "outputs": [
    {
     "data": {
      "text/plain": [
       "自助餐        45\n",
       "日式自助       12\n",
       "烧烤烤串       10\n",
       "日本料理        3\n",
       "韩式烤肉        2\n",
       "法国菜         1\n",
       "日式烧烤/烤肉     1\n",
       "意大利菜        1\n",
       "Name: tag1, dtype: int64"
      ]
     },
     "execution_count": 15,
     "metadata": {},
     "output_type": "execute_result"
    }
   ],
   "source": [
    "df.tag1.value_counts()"
   ]
  },
  {
   "cell_type": "code",
   "execution_count": 16,
   "id": "130b6e94-7fef-4841-ac01-b85d082c9a1d",
   "metadata": {},
   "outputs": [],
   "source": [
    "from sklearn.preprocessing import StandardScaler\n",
    "import matplotlib.pyplot as plt\n",
    "import seaborn as sns\n",
    "from string import ascii_letters\n",
    "import numpy as np\n"
   ]
  },
  {
   "cell_type": "code",
   "execution_count": 18,
   "id": "bec4d6ba-feb1-490c-ae6c-74acbb0b44e6",
   "metadata": {},
   "outputs": [
    {
     "data": {
      "image/png": "[encoded data removed]",
      "text/plain": [
       "<Figure size 1440x288 with 4 Axes>"
      ]
     },
     "metadata": {
      "needs_background": "light"
     },
     "output_type": "display_data"
    }
   ],
   "source": [
    "plt.figure(figsize=(20, 4))\n",
    "\n",
    "plt.subplot(1, 4, 1)\n",
    "plt.title('Total Score')\n",
    "sns.histplot(df['total_review_score'], kde=True,bins=10)\n",
    "\n",
    "plt.subplot(1, 4, 2)\n",
    "plt.title('Taste Score')\n",
    "sns.histplot(df['taste'], kde=True,bins=10, color='orange')\n",
    "\n",
    "plt.subplot(1, 4, 3)\n",
    "plt.title('Surroundings Score')\n",
    "sns.histplot(df['surroundings'], kde=True, color='r',bins=10)\n",
    "\n",
    "plt.subplot(1, 4, 4)\n",
    "plt.title('Service Score')\n",
    "sns.histplot(df['service'], kde=True, color='g',bins=10);"
   ]
  },
  {
   "cell_type": "code",
   "execution_count": 19,
   "id": "9f6da451-b430-4191-814b-66ac31514ec4",
   "metadata": {},
   "outputs": [
    {
     "data": {
      "text/plain": [
       "price_per_person          int64\n",
       "restaurant_id            object\n",
       "restaurant               object\n",
       "address                  object\n",
       "total_review_score      float64\n",
       "tag1                     object\n",
       "tag2                     object\n",
       "total_review_number       int64\n",
       "taste                   float64\n",
       "surroundings            float64\n",
       "service                 float64\n",
       "recommendation_1         object\n",
       "recommendation_2         object\n",
       "recommendation_3         object\n",
       "medium_review_number      int64\n",
       "good_review_number        int64\n",
       "bad_review_number         int64\n",
       "no_queues               float64\n",
       "no_queues%              float64\n",
       "dtype: object"
      ]
     },
     "execution_count": 19,
     "metadata": {},
     "output_type": "execute_result"
    }
   ],
   "source": [
    "df.dtypes"
   ]
  },
  {
   "cell_type": "code",
   "execution_count": 21,
   "id": "018e5999-4ec4-4f17-8d39-628aa38bdf6f",
   "metadata": {},
   "outputs": [
    {
     "data": {
      "text/html": [
       "<div>\n",
       "<style scoped>\n",
       "    .dataframe tbody tr th:only-of-type {\n",
       "        vertical-align: middle;\n",
       "    }\n",
       "\n",
       "    .dataframe tbody tr th {\n",
       "        vertical-align: top;\n",
       "    }\n",
       "\n",
       "    .dataframe thead th {\n",
       "        text-align: right;\n",
       "    }\n",
       "</style>\n",
       "<table border=\"1\" class=\"dataframe\">\n",
       "  <thead>\n",
       "    <tr style=\"text-align: right;\">\n",
       "      <th></th>\n",
       "      <th>price_per_person</th>\n",
       "      <th>total_review_score</th>\n",
       "      <th>total_review_number</th>\n",
       "      <th>taste</th>\n",
       "      <th>surroundings</th>\n",
       "      <th>service</th>\n",
       "      <th>medium_review_number</th>\n",
       "      <th>good_review_number</th>\n",
       "      <th>bad_review_number</th>\n",
       "      <th>no_queues</th>\n",
       "      <th>no_queues%</th>\n",
       "    </tr>\n",
       "  </thead>\n",
       "  <tbody>\n",
       "    <tr>\n",
       "      <th>0</th>\n",
       "      <td>359</td>\n",
       "      <td>4.5</td>\n",
       "      <td>21190</td>\n",
       "      <td>4.6</td>\n",
       "      <td>4.2</td>\n",
       "      <td>4.5</td>\n",
       "      <td>2236</td>\n",
       "      <td>17601</td>\n",
       "      <td>1353</td>\n",
       "      <td>295.0</td>\n",
       "      <td>0.013922</td>\n",
       "    </tr>\n",
       "    <tr>\n",
       "      <th>1</th>\n",
       "      <td>141</td>\n",
       "      <td>4.1</td>\n",
       "      <td>4061</td>\n",
       "      <td>4.1</td>\n",
       "      <td>4.1</td>\n",
       "      <td>4.1</td>\n",
       "      <td>717</td>\n",
       "      <td>3066</td>\n",
       "      <td>278</td>\n",
       "      <td>102.0</td>\n",
       "      <td>0.025117</td>\n",
       "    </tr>\n",
       "    <tr>\n",
       "      <th>2</th>\n",
       "      <td>122</td>\n",
       "      <td>4.5</td>\n",
       "      <td>13914</td>\n",
       "      <td>4.4</td>\n",
       "      <td>4.5</td>\n",
       "      <td>4.5</td>\n",
       "      <td>1839</td>\n",
       "      <td>11482</td>\n",
       "      <td>593</td>\n",
       "      <td>216.0</td>\n",
       "      <td>0.015524</td>\n",
       "    </tr>\n",
       "    <tr>\n",
       "      <th>3</th>\n",
       "      <td>132</td>\n",
       "      <td>4.5</td>\n",
       "      <td>8627</td>\n",
       "      <td>4.4</td>\n",
       "      <td>4.4</td>\n",
       "      <td>4.4</td>\n",
       "      <td>1115</td>\n",
       "      <td>7083</td>\n",
       "      <td>429</td>\n",
       "      <td>172.0</td>\n",
       "      <td>0.019937</td>\n",
       "    </tr>\n",
       "    <tr>\n",
       "      <th>4</th>\n",
       "      <td>428</td>\n",
       "      <td>4.8</td>\n",
       "      <td>12024</td>\n",
       "      <td>4.8</td>\n",
       "      <td>4.8</td>\n",
       "      <td>4.8</td>\n",
       "      <td>834</td>\n",
       "      <td>10842</td>\n",
       "      <td>348</td>\n",
       "      <td>87.0</td>\n",
       "      <td>0.007236</td>\n",
       "    </tr>\n",
       "  </tbody>\n",
       "</table>\n",
       "</div>"
      ],
      "text/plain": [
       "   price_per_person  total_review_score  total_review_number  taste  \\\n",
       "0               359                 4.5                21190    4.6   \n",
       "1               141                 4.1                 4061    4.1   \n",
       "2               122                 4.5                13914    4.4   \n",
       "3               132                 4.5                 8627    4.4   \n",
       "4               428                 4.8                12024    4.8   \n",
       "\n",
       "   surroundings  service  medium_review_number  good_review_number  \\\n",
       "0           4.2      4.5                  2236               17601   \n",
       "1           4.1      4.1                   717                3066   \n",
       "2           4.5      4.5                  1839               11482   \n",
       "3           4.4      4.4                  1115                7083   \n",
       "4           4.8      4.8                   834               10842   \n",
       "\n",
       "   bad_review_number  no_queues  no_queues%  \n",
       "0               1353      295.0    0.013922  \n",
       "1                278      102.0    0.025117  \n",
       "2                593      216.0    0.015524  \n",
       "3                429      172.0    0.019937  \n",
       "4                348       87.0    0.007236  "
      ]
     },
     "execution_count": 21,
     "metadata": {},
     "output_type": "execute_result"
    }
   ],
   "source": [
    "df_analysis = df.drop(columns=['restaurant_id','address','tag1','tag2','recommendation_1','recommendation_2','recommendation_3','restaurant'])\n",
    "df_analysis.head()"
   ]
  },
  {
   "cell_type": "code",
   "execution_count": 22,
   "id": "8e2329eb-faa5-4664-ad1e-3f757536deb5",
   "metadata": {},
   "outputs": [
    {
     "data": {
      "text/html": [
       "<div>\n",
       "<style scoped>\n",
       "    .dataframe tbody tr th:only-of-type {\n",
       "        vertical-align: middle;\n",
       "    }\n",
       "\n",
       "    .dataframe tbody tr th {\n",
       "        vertical-align: top;\n",
       "    }\n",
       "\n",
       "    .dataframe thead th {\n",
       "        text-align: right;\n",
       "    }\n",
       "</style>\n",
       "<table border=\"1\" class=\"dataframe\">\n",
       "  <thead>\n",
       "    <tr style=\"text-align: right;\">\n",
       "      <th></th>\n",
       "      <th>price_per_person</th>\n",
       "      <th>total_review_score</th>\n",
       "      <th>total_review_number</th>\n",
       "      <th>taste</th>\n",
       "      <th>surroundings</th>\n",
       "      <th>service</th>\n",
       "      <th>medium_review_number</th>\n",
       "      <th>good_review_number</th>\n",
       "      <th>bad_review_number</th>\n",
       "      <th>no_queues</th>\n",
       "      <th>no_queues%</th>\n",
       "    </tr>\n",
       "  </thead>\n",
       "  <tbody>\n",
       "    <tr>\n",
       "      <th>0</th>\n",
       "      <td>1.142191</td>\n",
       "      <td>0.626826</td>\n",
       "      <td>2.541198</td>\n",
       "      <td>0.908431</td>\n",
       "      <td>-0.439042</td>\n",
       "      <td>0.505914</td>\n",
       "      <td>2.741098</td>\n",
       "      <td>2.406456</td>\n",
       "      <td>3.479906</td>\n",
       "      <td>2.505418</td>\n",
       "      <td>0.319310</td>\n",
       "    </tr>\n",
       "    <tr>\n",
       "      <th>1</th>\n",
       "      <td>-0.572669</td>\n",
       "      <td>-0.563350</td>\n",
       "      <td>-0.403115</td>\n",
       "      <td>-0.334860</td>\n",
       "      <td>-0.708945</td>\n",
       "      <td>-0.643891</td>\n",
       "      <td>0.012884</td>\n",
       "      <td>-0.439816</td>\n",
       "      <td>-0.186204</td>\n",
       "      <td>0.287319</td>\n",
       "      <td>1.548987</td>\n",
       "    </tr>\n",
       "    <tr>\n",
       "      <th>2</th>\n",
       "      <td>-0.722129</td>\n",
       "      <td>0.626826</td>\n",
       "      <td>1.290522</td>\n",
       "      <td>0.411115</td>\n",
       "      <td>0.370667</td>\n",
       "      <td>0.505914</td>\n",
       "      <td>2.028063</td>\n",
       "      <td>1.208221</td>\n",
       "      <td>0.888051</td>\n",
       "      <td>1.597492</td>\n",
       "      <td>0.495301</td>\n",
       "    </tr>\n",
       "    <tr>\n",
       "      <th>3</th>\n",
       "      <td>-0.643466</td>\n",
       "      <td>0.626826</td>\n",
       "      <td>0.381737</td>\n",
       "      <td>0.411115</td>\n",
       "      <td>0.100764</td>\n",
       "      <td>0.218463</td>\n",
       "      <td>0.727715</td>\n",
       "      <td>0.346801</td>\n",
       "      <td>0.328756</td>\n",
       "      <td>1.091811</td>\n",
       "      <td>0.980071</td>\n",
       "    </tr>\n",
       "    <tr>\n",
       "      <th>4</th>\n",
       "      <td>1.684968</td>\n",
       "      <td>1.519458</td>\n",
       "      <td>0.965649</td>\n",
       "      <td>1.405747</td>\n",
       "      <td>1.180376</td>\n",
       "      <td>1.368268</td>\n",
       "      <td>0.223023</td>\n",
       "      <td>1.082895</td>\n",
       "      <td>0.052519</td>\n",
       "      <td>0.114927</td>\n",
       "      <td>-0.415086</td>\n",
       "    </tr>\n",
       "  </tbody>\n",
       "</table>\n",
       "</div>"
      ],
      "text/plain": [
       "   price_per_person  total_review_score  total_review_number     taste  \\\n",
       "0          1.142191            0.626826             2.541198  0.908431   \n",
       "1         -0.572669           -0.563350            -0.403115 -0.334860   \n",
       "2         -0.722129            0.626826             1.290522  0.411115   \n",
       "3         -0.643466            0.626826             0.381737  0.411115   \n",
       "4          1.684968            1.519458             0.965649  1.405747   \n",
       "\n",
       "   surroundings   service  medium_review_number  good_review_number  \\\n",
       "0     -0.439042  0.505914              2.741098            2.406456   \n",
       "1     -0.708945 -0.643891              0.012884           -0.439816   \n",
       "2      0.370667  0.505914              2.028063            1.208221   \n",
       "3      0.100764  0.218463              0.727715            0.346801   \n",
       "4      1.180376  1.368268              0.223023            1.082895   \n",
       "\n",
       "   bad_review_number  no_queues  no_queues%  \n",
       "0           3.479906   2.505418    0.319310  \n",
       "1          -0.186204   0.287319    1.548987  \n",
       "2           0.888051   1.597492    0.495301  \n",
       "3           0.328756   1.091811    0.980071  \n",
       "4           0.052519   0.114927   -0.415086  "
      ]
     },
     "execution_count": 22,
     "metadata": {},
     "output_type": "execute_result"
    }
   ],
   "source": [
    "from sklearn.preprocessing import StandardScaler\n",
    "\n",
    "scaler = StandardScaler()\n",
    "scaler.fit(df_analysis)\n",
    "df_transformed = pd.DataFrame(scaler.transform(df_analysis), columns = df_analysis.columns)\n",
    "df_transformed.head()"
   ]
  },
  {
   "cell_type": "code",
   "execution_count": 33,
   "id": "3051e865-d908-4bfb-814c-eed327805041",
   "metadata": {},
   "outputs": [
    {
     "data": {
      "image/png": "[encoded data removed]",
      "text/plain": [
       "<Figure size 1008x720 with 2 Axes>"
      ]
     },
     "metadata": {
      "needs_background": "light"
     },
     "output_type": "display_data"
    }
   ],
   "source": [
    "corrMatrix = round(df_transformed.corr(),2)\n",
    "plt.figure(figsize=(14, 10))\n",
    "plt.title(\"Features Correlation\",fontsize=20)\n",
    "mask = np.triu(np.ones_like(corrMatrix, dtype=bool))\n",
    "cmap = sns.color_palette(\"mako\", as_cmap=True)\n",
    "sns.heatmap(corrMatrix, annot=True, cmap=cmap, mask=mask)\n",
    "plt.show();"
   ]
  },
  {
   "cell_type": "code",
   "execution_count": 25,
   "id": "7476b804-189c-4055-9965-0ec31fcc1305",
   "metadata": {},
   "outputs": [],
   "source": [
    "# Try different classification techniques\n",
    "from sklearn.model_selection import train_test_split\n",
    "from sklearn.linear_model import LinearRegression\n",
    "\n",
    "linear = LinearRegression()"
   ]
  },
  {
   "cell_type": "code",
   "execution_count": 26,
   "id": "bfe49f2f-ad8d-4093-a49f-30d3b26b3b51",
   "metadata": {},
   "outputs": [],
   "source": [
    "df_features = df_transformed.drop('total_review_score',axis = 1)\n",
    "df_target = df_transformed['total_review_score']\n",
    "\n",
    "X_train, X_test, y_train, y_test = train_test_split(df_features, df_target, test_size = 0.2, random_state = 10,\\\n",
    "                                                    stratify = df_target)"
   ]
  },
  {
   "cell_type": "code",
   "execution_count": 35,
   "id": "b121362e-a8eb-4a96-a78f-a5f313f02b3a",
   "metadata": {},
   "outputs": [
    {
     "name": "stdout",
     "output_type": "stream",
     "text": [
      "model score on training data: 0.9434832166677165\n",
      "model score on testing data: 0.8367204522630566\n"
     ]
    }
   ],
   "source": [
    "linear.fit(X_train,list(y_train.values))\n",
    "y_pred = linear.predict(X_test)\n",
    "print(f'model score on training data: {linear.score(X_train, y_train)}')\n",
    "print(f'model score on testing data: {linear.score(X_test, y_test)}')"
   ]
  },
  {
   "cell_type": "code",
   "execution_count": 36,
   "id": "b0763b98-02cd-48ef-965d-090a94a92269",
   "metadata": {},
   "outputs": [
    {
     "name": "stdout",
     "output_type": "stream",
     "text": [
      "model score on training data: 0.9290024369039244\n",
      "model score on testing data: 0.7920012385650284\n"
     ]
    }
   ],
   "source": [
    "from sklearn.linear_model import RidgeCV\n",
    "\n",
    "ridge = RidgeCV()\n",
    "ridge.fit(X_train, y_train)\n",
    "\n",
    "print(f'model score on training data: {ridge.score(X_train, y_train)}')\n",
    "print(f'model score on testing data: {ridge.score(X_test, y_test)}')"
   ]
  },
  {
   "cell_type": "code",
   "execution_count": 40,
   "id": "40ba5299-8f33-4261-b2e6-bd91d3941d48",
   "metadata": {},
   "outputs": [],
   "source": [
    "df_info = pd.read_excel(\"raw data/dianping_info.xlsx\")\n",
    "df_info = split_score(df_info)"
   ]
  },
  {
   "cell_type": "code",
   "execution_count": 42,
   "id": "e34f5614-52d1-47d2-bfa3-559ac887c213",
   "metadata": {},
   "outputs": [
    {
     "data": {
      "text/plain": [
       "'[\"三文鱼\", \"阿根廷红虾\", \"缤纷水果\", \"法式羊排\", \"鲜活大闸蟹\", \"羊肉串\", \"鲜活鲍鱼\", \"现煮大虾\", \"冰激凌\", \"现烤生蚝\", \"活蒸大生蚝\", \"印度飞饼\", \"牛排\", \"安格斯牛肉\", \"鲜榨果汁\", \"小海鲜\", \"雪花和牛\", \"银鳕鱼\", \"牛蛙腿\", \"炭烤羊排\", \"刺身大咖1\", \"木瓜雪哈\", \"鸳鸯锅底\", \"烤鱿鱼\", \"西瓜\", \"烤鸭烤乳猪\", \"西点\", \"蒜蓉扇贝\", \"螃蟹\", \"大头虾\", \"日本寿司\", \"草莓\", \"自助的菜和火锅\", \"法式红酒牛舌\", \"羊蝎子\", \"三文鱼刺身\", \"基围虾\", \"三色果汁鸡尾酒\", \"澳洲黑牛上脑\", \"青口贝\"]'"
      ]
     },
     "execution_count": 42,
     "metadata": {},
     "output_type": "execute_result"
    }
   ],
   "source": [
    "dishes_list=df_info['推荐菜'].tolist()\n",
    "dishes_list[1]"
   ]
  },
  {
   "cell_type": "code",
   "execution_count": 44,
   "id": "387b098e-a3ad-44fc-9fb8-f852602a9484",
   "metadata": {},
   "outputs": [
    {
     "data": {
      "text/html": [
       "<div>\n",
       "<style scoped>\n",
       "    .dataframe tbody tr th:only-of-type {\n",
       "        vertical-align: middle;\n",
       "    }\n",
       "\n",
       "    .dataframe tbody tr th {\n",
       "        vertical-align: top;\n",
       "    }\n",
       "\n",
       "    .dataframe thead th {\n",
       "        text-align: right;\n",
       "    }\n",
       "</style>\n",
       "<table border=\"1\" class=\"dataframe\">\n",
       "  <thead>\n",
       "    <tr style=\"text-align: right;\">\n",
       "      <th></th>\n",
       "      <th>推荐餐点</th>\n",
       "      <th>被推荐次数</th>\n",
       "    </tr>\n",
       "  </thead>\n",
       "  <tbody>\n",
       "    <tr>\n",
       "      <th>0</th>\n",
       "      <td>\"三文鱼\"</td>\n",
       "      <td>30</td>\n",
       "    </tr>\n",
       "    <tr>\n",
       "      <th>1</th>\n",
       "      <td>\"冰淇淋\"</td>\n",
       "      <td>21</td>\n",
       "    </tr>\n",
       "    <tr>\n",
       "      <th>2</th>\n",
       "      <td>\"北极贝\"</td>\n",
       "      <td>20</td>\n",
       "    </tr>\n",
       "    <tr>\n",
       "      <th>3</th>\n",
       "      <td>\"水果\"</td>\n",
       "      <td>20</td>\n",
       "    </tr>\n",
       "    <tr>\n",
       "      <th>4</th>\n",
       "      <td>\"扇贝\"</td>\n",
       "      <td>20</td>\n",
       "    </tr>\n",
       "    <tr>\n",
       "      <th>...</th>\n",
       "      <td>...</td>\n",
       "      <td>...</td>\n",
       "    </tr>\n",
       "    <tr>\n",
       "      <th>1743</th>\n",
       "      <td>\"活体豆苗\"</td>\n",
       "      <td>1</td>\n",
       "    </tr>\n",
       "    <tr>\n",
       "      <th>1744</th>\n",
       "      <td>\"洋葱圈\"</td>\n",
       "      <td>1</td>\n",
       "    </tr>\n",
       "    <tr>\n",
       "      <th>1745</th>\n",
       "      <td>\"洋葱\"</td>\n",
       "      <td>1</td>\n",
       "    </tr>\n",
       "    <tr>\n",
       "      <th>1746</th>\n",
       "      <td>\"泰国鲜椰\"</td>\n",
       "      <td>1</td>\n",
       "    </tr>\n",
       "    <tr>\n",
       "      <th>1747</th>\n",
       "      <td>牛排\"</td>\n",
       "      <td>1</td>\n",
       "    </tr>\n",
       "  </tbody>\n",
       "</table>\n",
       "<p>1748 rows × 2 columns</p>\n",
       "</div>"
      ],
      "text/plain": [
       "        推荐餐点  被推荐次数\n",
       "0      \"三文鱼\"     30\n",
       "1      \"冰淇淋\"     21\n",
       "2      \"北极贝\"     20\n",
       "3       \"水果\"     20\n",
       "4       \"扇贝\"     20\n",
       "...      ...    ...\n",
       "1743  \"活体豆苗\"      1\n",
       "1744   \"洋葱圈\"      1\n",
       "1745    \"洋葱\"      1\n",
       "1746  \"泰国鲜椰\"      1\n",
       "1747     牛排\"      1\n",
       "\n",
       "[1748 rows x 2 columns]"
      ]
     },
     "execution_count": 44,
     "metadata": {},
     "output_type": "execute_result"
    }
   ],
   "source": [
    "#3，分割组合成新列表\n",
    "dishes_list_n=[]\n",
    "for j in range(0,len(dishes_list)):\n",
    "    for i in dishes_list[j].split(' '):\n",
    "        dishes_list_n.append(i)\n",
    "#4,清洗新列表的标点符号，便于后续排序计数\n",
    "for i in range(0,len(dishes_list_n)):\n",
    "    dishes_list_n[i]=dishes_list_n[i].replace(\"'\",\" \")\n",
    "    dishes_list_n[i]=dishes_list_n[i].replace(\"[\",\" \")\n",
    "    dishes_list_n[i]=dishes_list_n[i].replace(\"]\",\" \")\n",
    "    dishes_list_n[i]=dishes_list_n[i].replace(\" \",\"\")\n",
    "    dishes_list_n[i]=dishes_list_n[i].replace(\",\",\"\")\n",
    "    dishes_list_n[i]=dishes_list_n[i].replace(\"……\",\"\")\n",
    "#5,列表排序\n",
    "dishes_list_n.sort()\n",
    "#6,统计次数\n",
    "dish_times=pd.value_counts(dishes_list_n).reset_index().rename(columns={'index':'推荐餐点',0:'被推荐次数'})\n",
    "dish_times"
   ]
  },
  {
   "cell_type": "code",
   "execution_count": 49,
   "id": "6dd4d1f2-ae68-41dc-9fc9-b701eb5a16f4",
   "metadata": {},
   "outputs": [
    {
     "name": "stdout",
     "output_type": "stream",
     "text": [
      "Collecting wordcloud\n",
      "  Downloading wordcloud-1.8.2.2-cp38-cp38-manylinux_2_17_x86_64.manylinux2014_x86_64.whl (458 kB)\n",
      "\u001b[2K     \u001b[90m━━━━━━━━━━━━━━━━━━━━━━━━━━━━━━━━━━━━━━\u001b[0m \u001b[32m459.0/459.0 kB\u001b[0m \u001b[31m38.5 kB/s\u001b[0m eta \u001b[36m0:00:00\u001b[0ma \u001b[36m0:00:01\u001b[0m\n",
      "\u001b[?25hRequirement already satisfied: numpy>=1.6.1 in /home/daisy/.pyenv/versions/3.8.12/envs/lewagon/lib/python3.8/site-packages (from wordcloud) (1.19.5)\n",
      "Requirement already satisfied: matplotlib in /home/daisy/.pyenv/versions/3.8.12/envs/lewagon/lib/python3.8/site-packages (from wordcloud) (3.5.1)\n",
      "Requirement already satisfied: pillow in /home/daisy/.pyenv/versions/3.8.12/envs/lewagon/lib/python3.8/site-packages (from wordcloud) (9.0.0)\n",
      "Requirement already satisfied: cycler>=0.10 in /home/daisy/.pyenv/versions/3.8.12/envs/lewagon/lib/python3.8/site-packages (from matplotlib->wordcloud) (0.11.0)\n",
      "Requirement already satisfied: kiwisolver>=1.0.1 in /home/daisy/.pyenv/versions/3.8.12/envs/lewagon/lib/python3.8/site-packages (from matplotlib->wordcloud) (1.3.2)\n",
      "Requirement already satisfied: packaging>=20.0 in /home/daisy/.pyenv/versions/3.8.12/envs/lewagon/lib/python3.8/site-packages (from matplotlib->wordcloud) (21.3)\n",
      "Requirement already satisfied: pyparsing>=2.2.1 in /home/daisy/.pyenv/versions/3.8.12/envs/lewagon/lib/python3.8/site-packages (from matplotlib->wordcloud) (3.0.6)\n",
      "Requirement already satisfied: fonttools>=4.22.0 in /home/daisy/.pyenv/versions/3.8.12/envs/lewagon/lib/python3.8/site-packages (from matplotlib->wordcloud) (4.28.5)\n",
      "Requirement already satisfied: python-dateutil>=2.7 in /home/daisy/.pyenv/versions/3.8.12/envs/lewagon/lib/python3.8/site-packages (from matplotlib->wordcloud) (2.8.2)\n",
      "Requirement already satisfied: six>=1.5 in /home/daisy/.pyenv/versions/3.8.12/envs/lewagon/lib/python3.8/site-packages (from python-dateutil>=2.7->matplotlib->wordcloud) (1.14.0)\n",
      "Installing collected packages: wordcloud\n",
      "Successfully installed wordcloud-1.8.2.2\n"
     ]
    }
   ],
   "source": [
    "! pip install wordcloud"
   ]
  },
  {
   "cell_type": "code",
   "execution_count": 51,
   "id": "f734c39e-1b80-4b6e-8bcb-0ddf81f8c4a4",
   "metadata": {},
   "outputs": [
    {
     "data": {
      "image/png": "[encoded data removed]",
      "text/plain": [
       "<Figure size 432x288 with 1 Axes>"
      ]
     },
     "metadata": {
      "needs_background": "light"
     },
     "output_type": "display_data"
    }
   ],
   "source": [
    "from wordcloud import WordCloud, ImageColorGenerator\n",
    "\n",
    "# Start with one review:\n",
    "\n",
    "text=\" \".join(i for i in dish_times['推荐餐点'])\n",
    "\n",
    "# Create and generate a word cloud image:\n",
    "wordcloud = WordCloud().generate(text)\n",
    "\n",
    "# Display the generated image:\n",
    "plt.imshow(wordcloud, interpolation='bilinear')\n",
    "plt.axis(\"off\")\n",
    "plt.show()"
   ]
  },
  {
   "cell_type": "code",
   "execution_count": 74,
   "id": "16e84fc7-9ab5-42c8-adcb-0a1495348a9d",
   "metadata": {},
   "outputs": [
    {
     "name": "stdout",
     "output_type": "stream",
     "text": [
      "Collecting jieba\n",
      "  Downloading jieba-0.42.1.tar.gz (19.2 MB)\n",
      "\u001b[2K     \u001b[90m━━━━━━━━━━━━━━━━━━━━━━━━━━━━━━━━━━━━━━━━\u001b[0m \u001b[32m19.2/19.2 MB\u001b[0m \u001b[31m4.2 MB/s\u001b[0m eta \u001b[36m0:00:00\u001b[0m00:01\u001b[0m00:01\u001b[0mm\n",
      "\u001b[?25h  Preparing metadata (setup.py) ... \u001b[?25ldone\n",
      "\u001b[?25hBuilding wheels for collected packages: jieba\n",
      "  Building wheel for jieba (setup.py) ... \u001b[?25ldone\n",
      "\u001b[?25h  Created wheel for jieba: filename=jieba-0.42.1-py3-none-any.whl size=19314478 sha256=ed9255302bd3c3ea7f8b7ea0d51e2ff667722e92241f2a6777b73294128c368d\n",
      "  Stored in directory: /home/daisy/.cache/pip/wheels/ca/38/d8/dfdfe73bec1d12026b30cb7ce8da650f3f0ea2cf155ea018ae\n",
      "Successfully built jieba\n",
      "Installing collected packages: jieba\n",
      "Successfully installed jieba-0.42.1\n"
     ]
    }
   ],
   "source": [
    "! pip install jieba"
   ]
  },
  {
   "cell_type": "code",
   "execution_count": 76,
   "id": "51043737-6981-416c-a54c-5d622cd5407c",
   "metadata": {},
   "outputs": [
    {
     "data": {
      "text/html": [
       "<div>\n",
       "<style scoped>\n",
       "    .dataframe tbody tr th:only-of-type {\n",
       "        vertical-align: middle;\n",
       "    }\n",
       "\n",
       "    .dataframe tbody tr th {\n",
       "        vertical-align: top;\n",
       "    }\n",
       "\n",
       "    .dataframe thead th {\n",
       "        text-align: right;\n",
       "    }\n",
       "</style>\n",
       "<table border=\"1\" class=\"dataframe\">\n",
       "  <thead>\n",
       "    <tr style=\"text-align: right;\">\n",
       "      <th></th>\n",
       "      <th>cus_id</th>\n",
       "      <th>comment_time</th>\n",
       "      <th>comment_star</th>\n",
       "      <th>cus_comment</th>\n",
       "      <th>kouwei</th>\n",
       "      <th>huanjing</th>\n",
       "      <th>fuwu</th>\n",
       "      <th>shopID</th>\n",
       "      <th>stars</th>\n",
       "      <th>year</th>\n",
       "      <th>month</th>\n",
       "      <th>weekday</th>\n",
       "      <th>hour</th>\n",
       "      <th>comment_len</th>\n",
       "    </tr>\n",
       "  </thead>\n",
       "  <tbody>\n",
       "    <tr>\n",
       "      <th>0</th>\n",
       "      <td>迷糊泰迪</td>\n",
       "      <td>2018/9/20 6:48</td>\n",
       "      <td>sml-str40</td>\n",
       "      <td>南信 算是 广州 著名 甜品店 吧 好几个 时间段 路过 都 是 座无虚席 看着 餐单 上 ...</td>\n",
       "      <td>非常好</td>\n",
       "      <td>好</td>\n",
       "      <td>好</td>\n",
       "      <td>518986</td>\n",
       "      <td>4.0</td>\n",
       "      <td>2018</td>\n",
       "      <td>9</td>\n",
       "      <td>3</td>\n",
       "      <td>6</td>\n",
       "      <td>184</td>\n",
       "    </tr>\n",
       "    <tr>\n",
       "      <th>1</th>\n",
       "      <td>稱霸幼稚園</td>\n",
       "      <td>2018/9/22 21:49</td>\n",
       "      <td>sml-str40</td>\n",
       "      <td>中午 吃 完 了 所谓 的 早茶 回去 放下 行李 休息 了 会 就 来 吃 下午茶 了 服...</td>\n",
       "      <td>很好</td>\n",
       "      <td>很好</td>\n",
       "      <td>很好</td>\n",
       "      <td>518986</td>\n",
       "      <td>4.0</td>\n",
       "      <td>2018</td>\n",
       "      <td>9</td>\n",
       "      <td>5</td>\n",
       "      <td>21</td>\n",
       "      <td>266</td>\n",
       "    </tr>\n",
       "    <tr>\n",
       "      <th>2</th>\n",
       "      <td>爱吃的美美侠</td>\n",
       "      <td>2018/9/22 22:16</td>\n",
       "      <td>sml-str40</td>\n",
       "      <td>冲刺 王者 战队 吃遍 蓉城 战队 有 特权 五月份 和 好 朋友 毕业 旅行 来 了 广州...</td>\n",
       "      <td>很好</td>\n",
       "      <td>很好</td>\n",
       "      <td>很好</td>\n",
       "      <td>518986</td>\n",
       "      <td>4.0</td>\n",
       "      <td>2018</td>\n",
       "      <td>9</td>\n",
       "      <td>5</td>\n",
       "      <td>22</td>\n",
       "      <td>341</td>\n",
       "    </tr>\n",
       "    <tr>\n",
       "      <th>3</th>\n",
       "      <td>姜姜会吃胖</td>\n",
       "      <td>2018/9/19 6:36</td>\n",
       "      <td>sml-str40</td>\n",
       "      <td>都 说来 广州 吃 糖水 就要 来南信 招牌 姜撞奶 红豆 双皮奶 牛 三星 云吞面 一楼 ...</td>\n",
       "      <td>非常好</td>\n",
       "      <td>很好</td>\n",
       "      <td>很好</td>\n",
       "      <td>518986</td>\n",
       "      <td>4.0</td>\n",
       "      <td>2018</td>\n",
       "      <td>9</td>\n",
       "      <td>2</td>\n",
       "      <td>6</td>\n",
       "      <td>197</td>\n",
       "    </tr>\n",
       "    <tr>\n",
       "      <th>4</th>\n",
       "      <td>forevercage</td>\n",
       "      <td>2018/8/24 17:58</td>\n",
       "      <td>sml-str50</td>\n",
       "      <td>一直 很 期待 也 最 爱 吃 甜品 广州 的 甜品 很 丰富 很 多样 来 之前 就 一直...</td>\n",
       "      <td>非常好</td>\n",
       "      <td>很好</td>\n",
       "      <td>很好</td>\n",
       "      <td>518986</td>\n",
       "      <td>5.0</td>\n",
       "      <td>2018</td>\n",
       "      <td>8</td>\n",
       "      <td>4</td>\n",
       "      <td>17</td>\n",
       "      <td>261</td>\n",
       "    </tr>\n",
       "  </tbody>\n",
       "</table>\n",
       "</div>"
      ],
      "text/plain": [
       "        cus_id     comment_time comment_star  \\\n",
       "0         迷糊泰迪   2018/9/20 6:48    sml-str40   \n",
       "1        稱霸幼稚園  2018/9/22 21:49    sml-str40   \n",
       "2       爱吃的美美侠  2018/9/22 22:16    sml-str40   \n",
       "3        姜姜会吃胖   2018/9/19 6:36    sml-str40   \n",
       "4  forevercage  2018/8/24 17:58    sml-str50   \n",
       "\n",
       "                                         cus_comment kouwei huanjing fuwu  \\\n",
       "0  南信 算是 广州 著名 甜品店 吧 好几个 时间段 路过 都 是 座无虚席 看着 餐单 上 ...    非常好        好    好   \n",
       "1  中午 吃 完 了 所谓 的 早茶 回去 放下 行李 休息 了 会 就 来 吃 下午茶 了 服...     很好       很好   很好   \n",
       "2  冲刺 王者 战队 吃遍 蓉城 战队 有 特权 五月份 和 好 朋友 毕业 旅行 来 了 广州...     很好       很好   很好   \n",
       "3  都 说来 广州 吃 糖水 就要 来南信 招牌 姜撞奶 红豆 双皮奶 牛 三星 云吞面 一楼 ...    非常好       很好   很好   \n",
       "4  一直 很 期待 也 最 爱 吃 甜品 广州 的 甜品 很 丰富 很 多样 来 之前 就 一直...    非常好       很好   很好   \n",
       "\n",
       "   shopID  stars  year  month  weekday  hour  comment_len  \n",
       "0  518986    4.0  2018      9        3     6          184  \n",
       "1  518986    4.0  2018      9        5    21          266  \n",
       "2  518986    4.0  2018      9        5    22          341  \n",
       "3  518986    4.0  2018      9        2     6          197  \n",
       "4  518986    5.0  2018      8        4    17          261  "
      ]
     },
     "execution_count": 76,
     "metadata": {},
     "output_type": "execute_result"
    }
   ],
   "source": [
    "import pandas as pd\n",
    "import jieba\n",
    "from matplotlib import pyplot as plt\n",
    "\n",
    "data = pd.read_csv('raw data/data1.csv')\n",
    "data.head()"
   ]
  },
  {
   "cell_type": "code",
   "execution_count": 248,
   "id": "5ef4dbc2-c8cb-46b1-aaf0-23654aaac5dc",
   "metadata": {
    "tags": []
   },
   "outputs": [],
   "source": [
    "def zhuanhuan(score):\n",
    "    if score > 3:\n",
    "        return 1\n",
    "    elif score < 3:\n",
    "        return 0\n",
    "    else:\n",
    "        return None"
   ]
  },
  {
   "cell_type": "code",
   "execution_count": 55,
   "id": "6b54b021-f1ab-4fc4-84be-1ef000427999",
   "metadata": {},
   "outputs": [],
   "source": [
    "data['target'] = data['stars'].map(lambda x:zhuanhuan(x))\n",
    "data_model = data.dropna()"
   ]
  },
  {
   "cell_type": "code",
   "execution_count": 58,
   "id": "de09a5ea-97e9-4f41-9402-9a99f52f6d60",
   "metadata": {},
   "outputs": [
    {
     "data": {
      "text/plain": [
       "29998    能 用 电子 会员卡 可以 打折 新店 环境 不错 服务员 都 是 挺 礼貌 的 最大 问题...\n",
       "19020    经过 文明 路 头 多数 都 系去 间 或者 玫瑰 百花 系 老字号 出品 当然 都 有 保...\n",
       "22799    逛 到 北京路 就 来 找 这家 店 了 芝麻糊 和 双皮奶 都 好 棒 啊 润润 的 香香...\n",
       "25547    经常 来 的 甜品店 三家 店面 但是 永远 满满 满 煎 粽 男票 最 爱多 绿豆 的 正...\n",
       "748      一个 人来 的 拿 个 桌号 就 去 点单 贪心 如 我 姜撞奶 红豆 双皮奶 姜撞奶 不是...\n",
       "Name: cus_comment, dtype: object"
      ]
     },
     "execution_count": 58,
     "metadata": {},
     "output_type": "execute_result"
    }
   ],
   "source": [
    "#切分测试集、训练集\n",
    "from sklearn.model_selection import train_test_split\n",
    "x_train, x_test, y_train, y_test = train_test_split(data_model['cus_comment'], data_model['target'], random_state=3, test_size=0.25)\n",
    "\n",
    "#引入停用词\n",
    "infile = open(\"raw data/cn_stopwords.txt\",encoding='utf-8')\n",
    "stopwords_lst = infile.readlines()\n",
    "stopwords = [x.strip() for x in stopwords_lst]\n",
    "\n",
    "#中文分词\n",
    "def fenci(train_data):\n",
    "    words_df = train_data.apply(lambda x:' '.join(jieba.cut(x)))\n",
    "    return words_df\n",
    " \n",
    "x_train[:5]"
   ]
  },
  {
   "cell_type": "code",
   "execution_count": 59,
   "id": "216ae855-4eb1-4727-ac80-505ca2761ca6",
   "metadata": {},
   "outputs": [
    {
     "data": {
      "text/plain": [
       "TfidfVectorizer(analyzer='word', binary=False, decode_error='strict',\n",
       "                dtype=<class 'numpy.float64'>, encoding='utf-8',\n",
       "                input='content', lowercase=True, max_df=1.0, max_features=3000,\n",
       "                min_df=1, ngram_range=(1, 2), norm='l2', preprocessor=None,\n",
       "                smooth_idf=True,\n",
       "                stop_words=['$', '0', '1', '2', '3', '4', '5', '6', '7', '8',\n",
       "                            '9', '?', '_', '“', '”', '、', '。', '《', '》', '一',\n",
       "                            '一些', '一何', '一切', '一则', '一方面', '一旦', '一来', '一样',\n",
       "                            '一般', '一转眼', ...],\n",
       "                strip_accents=None, sublinear_tf=False,\n",
       "                token_pattern='(?u)\\\\b\\\\w\\\\w+\\\\b', tokenizer=None, use_idf=True,\n",
       "                vocabulary=None)"
      ]
     },
     "execution_count": 59,
     "metadata": {},
     "output_type": "execute_result"
    }
   ],
   "source": [
    "from sklearn.feature_extraction.text import TfidfVectorizer\n",
    "tv = TfidfVectorizer(stop_words=stopwords, max_features=3000, ngram_range=(1,2))\n",
    "tv.fit(x_train)"
   ]
  },
  {
   "cell_type": "code",
   "execution_count": 60,
   "id": "7e35fd96-446f-441c-8a79-b1a4640b0464",
   "metadata": {},
   "outputs": [
    {
     "data": {
      "text/plain": [
       "0.9272794389073459"
      ]
     },
     "execution_count": 60,
     "metadata": {},
     "output_type": "execute_result"
    }
   ],
   "source": [
    "from sklearn.naive_bayes import MultinomialNB\n",
    "from sklearn.metrics import roc_auc_score, f1_score\n",
    "classifier = MultinomialNB()\n",
    "classifier.fit(tv.transform(x_train), y_train)\n",
    "classifier.score(tv.transform(x_test), y_test)"
   ]
  },
  {
   "cell_type": "code",
   "execution_count": 61,
   "id": "4bac89e1-de7f-4b09-8cd1-02b8dc331532",
   "metadata": {},
   "outputs": [
    {
     "data": {
      "text/plain": [
       "0.9094499777254503"
      ]
     },
     "execution_count": 61,
     "metadata": {},
     "output_type": "execute_result"
    }
   ],
   "source": [
    "y_pred = classifier.predict_proba(tv.transform(x_test))[:,1]\n",
    "roc_auc_score(y_test,y_pred)"
   ]
  },
  {
   "cell_type": "code",
   "execution_count": 217,
   "id": "87ec5996-811b-4dc5-bddc-dcfa8bd9424a",
   "metadata": {},
   "outputs": [],
   "source": [
    "def ceshi(model,strings):\n",
    "    strings_fenci = fenci(pd.Series([strings]))\n",
    "    return round(float(model.predict_proba(tv.transform(strings_fenci))[:,1]),2)"
   ]
  },
  {
   "cell_type": "code",
   "execution_count": 77,
   "id": "1eb139dc-93c6-4dc1-8338-9ec827d6997b",
   "metadata": {},
   "outputs": [
    {
     "name": "stderr",
     "output_type": "stream",
     "text": [
      "Building prefix dict from the default dictionary ...\n",
      "Dumping model to file cache /tmp/jieba.cache\n",
      "Loading model cost 0.934 seconds.\n",
      "Prefix dict has been built successfully.\n"
     ]
    },
    {
     "name": "stdout",
     "output_type": "stream",
     "text": [
      "好评实例的模型预测情感得分为0.8672146726663207\n",
      "差评实例的模型预测情感得分为0.8149772491054271\n"
     ]
    }
   ],
   "source": [
    "test1 = '很好吃，环境好，所有员工的态度都很好，上菜快，服务也很好，味道好吃，都是用蒸馏水煮的，推荐，超好吃' #5星好评\n",
    "test2 = '糯米外皮不绵滑，豆沙馅粗躁，没有香甜味。12元一碗不值。' #1星差评\n",
    "print('好评实例的模型预测情感得分为{}\\n差评实例的模型预测情感得分为{}'.format(ceshi(classifier,test1),ceshi(classifier,test2)))"
   ]
  },
  {
   "cell_type": "code",
   "execution_count": 80,
   "id": "03d40a22-ab37-49cc-85db-0650337578a0",
   "metadata": {},
   "outputs": [
    {
     "data": {
      "text/html": [
       "<div>\n",
       "<style scoped>\n",
       "    .dataframe tbody tr th:only-of-type {\n",
       "        vertical-align: middle;\n",
       "    }\n",
       "\n",
       "    .dataframe tbody tr th {\n",
       "        vertical-align: top;\n",
       "    }\n",
       "\n",
       "    .dataframe thead th {\n",
       "        text-align: right;\n",
       "    }\n",
       "</style>\n",
       "<table border=\"1\" class=\"dataframe\">\n",
       "  <thead>\n",
       "    <tr style=\"text-align: right;\">\n",
       "      <th></th>\n",
       "      <th>_id</th>\n",
       "      <th>人均价格</th>\n",
       "      <th>优惠券信息</th>\n",
       "      <th>其他信息</th>\n",
       "      <th>图片链接</th>\n",
       "      <th>店铺id</th>\n",
       "      <th>店铺名</th>\n",
       "      <th>店铺地址</th>\n",
       "      <th>店铺均分</th>\n",
       "      <th>店铺总分</th>\n",
       "      <th>店铺电话</th>\n",
       "      <th>推荐菜</th>\n",
       "      <th>标签1</th>\n",
       "      <th>标签2</th>\n",
       "      <th>评论总数</th>\n",
       "      <th>详情链接</th>\n",
       "    </tr>\n",
       "  </thead>\n",
       "  <tbody>\n",
       "    <tr>\n",
       "      <th>0</th>\n",
       "      <td>62d2259d0ed42af960648e3e</td>\n",
       "      <td>141</td>\n",
       "      <td>-</td>\n",
       "      <td>-</td>\n",
       "      <td>http://p0.meituan.net/biztone/713682670_165769...</td>\n",
       "      <td>j6sMBvEoL22p8x9P</td>\n",
       "      <td>威尼斯海鲜自助餐厅(壹丰广场店)</td>\n",
       "      <td>四川北路1363号壹丰广场L3-A01、A01-1、A08（近四川北路4号口）</td>\n",
       "      <td>{\"口味\": \"4.1\", \"环境\": \"4.1\", \"服务\": \"4.2\"}</td>\n",
       "      <td>4.1</td>\n",
       "      <td>021-614727**</td>\n",
       "      <td>-</td>\n",
       "      <td>自助餐</td>\n",
       "      <td>四川北路/海伦路</td>\n",
       "      <td>4065</td>\n",
       "      <td>https://www.dianping.com/shop/j6sMBvEoL22p8x9P</td>\n",
       "    </tr>\n",
       "    <tr>\n",
       "      <th>1</th>\n",
       "      <td>62d2259d0ed42af960648e3f</td>\n",
       "      <td>122</td>\n",
       "      <td>-</td>\n",
       "      <td>-</td>\n",
       "      <td>http://p0.meituan.net/biztone/193861411_165042...</td>\n",
       "      <td>G5tG02B1RMco2ydO</td>\n",
       "      <td>東盛自助料理(南京东路店)</td>\n",
       "      <td>南京东路353号悦荟广场6楼601室（地铁2/10号线南京东路站1号口3号口出）</td>\n",
       "      <td>{\"口味\": \"4.4\", \"环境\": \"4.5\", \"服务\": \"4.5\"}</td>\n",
       "      <td>4.5</td>\n",
       "      <td>021-633331**</td>\n",
       "      <td>-</td>\n",
       "      <td>自助餐</td>\n",
       "      <td>南京东路</td>\n",
       "      <td>13963</td>\n",
       "      <td>https://www.dianping.com/shop/G5tG02B1RMco2ydO</td>\n",
       "    </tr>\n",
       "    <tr>\n",
       "      <th>2</th>\n",
       "      <td>62d2259d0ed42af960648e40</td>\n",
       "      <td>132</td>\n",
       "      <td>-</td>\n",
       "      <td>-</td>\n",
       "      <td>http://p0.meituan.net/biztone/164178548_165719...</td>\n",
       "      <td>l1MCIbtbVyNohOzs</td>\n",
       "      <td>威尼斯海鲜自助餐厅(中环百联店)</td>\n",
       "      <td>真光路1288号三楼B区G08-3F-1-B3F013商铺</td>\n",
       "      <td>{\"口味\": \"4.4\", \"环境\": \"4.4\", \"服务\": \"4.4\"}</td>\n",
       "      <td>4.5</td>\n",
       "      <td>021-612301**</td>\n",
       "      <td>-</td>\n",
       "      <td>自助餐</td>\n",
       "      <td>梅川路步行街</td>\n",
       "      <td>8632</td>\n",
       "      <td>https://www.dianping.com/shop/l1MCIbtbVyNohOzs</td>\n",
       "    </tr>\n",
       "    <tr>\n",
       "      <th>3</th>\n",
       "      <td>62d2259e0ed42af960648e42</td>\n",
       "      <td>145</td>\n",
       "      <td>-</td>\n",
       "      <td>-</td>\n",
       "      <td>http://p0.meituan.net/biztone/41065860_1656485...</td>\n",
       "      <td>k99uXtE4UlJAdDip</td>\n",
       "      <td>五月罗马海鲜自助餐厅(百脑汇店)</td>\n",
       "      <td>漕溪北路339号百脑汇5层</td>\n",
       "      <td>{\"口味\": \"4.0\", \"环境\": \"4.1\", \"服务\": \"4.1\"}</td>\n",
       "      <td>4.1</td>\n",
       "      <td>021-602938**</td>\n",
       "      <td>-</td>\n",
       "      <td>自助餐</td>\n",
       "      <td>徐家汇</td>\n",
       "      <td>25298</td>\n",
       "      <td>https://www.dianping.com/shop/k99uXtE4UlJAdDip</td>\n",
       "    </tr>\n",
       "    <tr>\n",
       "      <th>4</th>\n",
       "      <td>62d2259e0ed42af960648e43</td>\n",
       "      <td>341</td>\n",
       "      <td>-</td>\n",
       "      <td>-</td>\n",
       "      <td>http://p0.meituan.net/biztone/381724_163668216...</td>\n",
       "      <td>l4C3aJCzL4ME7X2o</td>\n",
       "      <td>金茂君悦·食在56自助餐厅ON56</td>\n",
       "      <td>世纪大道88号</td>\n",
       "      <td>{\"口味\": \"4.1\", \"环境\": \"4.8\", \"服务\": \"4.6\"}</td>\n",
       "      <td>4.3</td>\n",
       "      <td>021-616112**</td>\n",
       "      <td>-</td>\n",
       "      <td>自助餐</td>\n",
       "      <td>陆家嘴</td>\n",
       "      <td>5815</td>\n",
       "      <td>https://www.dianping.com/shop/l4C3aJCzL4ME7X2o</td>\n",
       "    </tr>\n",
       "  </tbody>\n",
       "</table>\n",
       "</div>"
      ],
      "text/plain": [
       "                        _id 人均价格 优惠券信息 其他信息  \\\n",
       "0  62d2259d0ed42af960648e3e  141     -    -   \n",
       "1  62d2259d0ed42af960648e3f  122     -    -   \n",
       "2  62d2259d0ed42af960648e40  132     -    -   \n",
       "3  62d2259e0ed42af960648e42  145     -    -   \n",
       "4  62d2259e0ed42af960648e43  341     -    -   \n",
       "\n",
       "                                                图片链接              店铺id  \\\n",
       "0  http://p0.meituan.net/biztone/713682670_165769...  j6sMBvEoL22p8x9P   \n",
       "1  http://p0.meituan.net/biztone/193861411_165042...  G5tG02B1RMco2ydO   \n",
       "2  http://p0.meituan.net/biztone/164178548_165719...  l1MCIbtbVyNohOzs   \n",
       "3  http://p0.meituan.net/biztone/41065860_1656485...  k99uXtE4UlJAdDip   \n",
       "4  http://p0.meituan.net/biztone/381724_163668216...  l4C3aJCzL4ME7X2o   \n",
       "\n",
       "                 店铺名                                      店铺地址  \\\n",
       "0   威尼斯海鲜自助餐厅(壹丰广场店)   四川北路1363号壹丰广场L3-A01、A01-1、A08（近四川北路4号口）   \n",
       "1      東盛自助料理(南京东路店)  南京东路353号悦荟广场6楼601室（地铁2/10号线南京东路站1号口3号口出）   \n",
       "2   威尼斯海鲜自助餐厅(中环百联店)             真光路1288号三楼B区G08-3F-1-B3F013商铺   \n",
       "3   五月罗马海鲜自助餐厅(百脑汇店)                             漕溪北路339号百脑汇5层   \n",
       "4  金茂君悦·食在56自助餐厅ON56                                   世纪大道88号   \n",
       "\n",
       "                                      店铺均分  店铺总分          店铺电话 推荐菜  标签1  \\\n",
       "0  {\"口味\": \"4.1\", \"环境\": \"4.1\", \"服务\": \"4.2\"}   4.1  021-614727**   -  自助餐   \n",
       "1  {\"口味\": \"4.4\", \"环境\": \"4.5\", \"服务\": \"4.5\"}   4.5  021-633331**   -  自助餐   \n",
       "2  {\"口味\": \"4.4\", \"环境\": \"4.4\", \"服务\": \"4.4\"}   4.5  021-612301**   -  自助餐   \n",
       "3  {\"口味\": \"4.0\", \"环境\": \"4.1\", \"服务\": \"4.1\"}   4.1  021-602938**   -  自助餐   \n",
       "4  {\"口味\": \"4.1\", \"环境\": \"4.8\", \"服务\": \"4.6\"}   4.3  021-616112**   -  自助餐   \n",
       "\n",
       "        标签2   评论总数                                            详情链接  \n",
       "0  四川北路/海伦路   4065  https://www.dianping.com/shop/j6sMBvEoL22p8x9P  \n",
       "1      南京东路  13963  https://www.dianping.com/shop/G5tG02B1RMco2ydO  \n",
       "2    梅川路步行街   8632  https://www.dianping.com/shop/l1MCIbtbVyNohOzs  \n",
       "3       徐家汇  25298  https://www.dianping.com/shop/k99uXtE4UlJAdDip  \n",
       "4       陆家嘴   5815  https://www.dianping.com/shop/l4C3aJCzL4ME7X2o  "
      ]
     },
     "execution_count": 80,
     "metadata": {},
     "output_type": "execute_result"
    }
   ],
   "source": [
    "data_info =  pd.read_csv(\"raw data/dianping_info_v2.csv\",encoding='utf-8')\n",
    "data_info.head()"
   ]
  },
  {
   "cell_type": "code",
   "execution_count": 88,
   "id": "8a1a33c6-b191-40e8-9941-de69ccb4b177",
   "metadata": {},
   "outputs": [
    {
     "data": {
      "text/plain": [
       "_id              object\n",
       "中评个数              int64\n",
       "好评个数              int64\n",
       "差评个数              int64\n",
       "带图评论个数            int64\n",
       "                  ...  \n",
       "Unnamed: 6262    object\n",
       "Unnamed: 6263    object\n",
       "Unnamed: 6264    object\n",
       "Unnamed: 6265    object\n",
       "Unnamed: 6266    object\n",
       "Length: 6267, dtype: object"
      ]
     },
     "execution_count": 88,
     "metadata": {},
     "output_type": "execute_result"
    }
   ],
   "source": [
    "# data_review =  pd.read_csv(\"raw data/dianping_review_v2.csv\",encoding='utf-8')\n",
    "data_review =  pd.read_csv(\"raw data/dianping_review_v2.csv\",encoding_errors='ignore')\n",
    "data_review.dtypes"
   ]
  },
  {
   "cell_type": "code",
   "execution_count": 89,
   "id": "0ae88cc4-648e-4e27-a757-0e9e3f29ed7b",
   "metadata": {},
   "outputs": [
    {
     "data": {
      "text/plain": [
       "Index(['_id', '中评个数', '好评个数', '差评个数', '带图评论个数', '店铺id', '精选评?评论总数', '评论摘要',\n",
       "       'Unnamed: 8', 'Unnamed: 9',\n",
       "       ...\n",
       "       'Unnamed: 6257', 'Unnamed: 6258', 'Unnamed: 6259', 'Unnamed: 6260',\n",
       "       'Unnamed: 6261', 'Unnamed: 6262', 'Unnamed: 6263', 'Unnamed: 6264',\n",
       "       'Unnamed: 6265', 'Unnamed: 6266'],\n",
       "      dtype='object', length=6267)"
      ]
     },
     "execution_count": 89,
     "metadata": {},
     "output_type": "execute_result"
    }
   ],
   "source": [
    "data_review.columns"
   ]
  },
  {
   "cell_type": "code",
   "execution_count": 98,
   "id": "dddb097c-33d8-4653-89bb-6839955a36a5",
   "metadata": {},
   "outputs": [
    {
     "data": {
      "text/html": [
       "<div>\n",
       "<style scoped>\n",
       "    .dataframe tbody tr th:only-of-type {\n",
       "        vertical-align: middle;\n",
       "    }\n",
       "\n",
       "    .dataframe tbody tr th {\n",
       "        vertical-align: top;\n",
       "    }\n",
       "\n",
       "    .dataframe thead th {\n",
       "        text-align: right;\n",
       "    }\n",
       "</style>\n",
       "<table border=\"1\" class=\"dataframe\">\n",
       "  <thead>\n",
       "    <tr style=\"text-align: right;\">\n",
       "      <th></th>\n",
       "      <th>中评个数</th>\n",
       "      <th>好评个数</th>\n",
       "      <th>差评个数</th>\n",
       "      <th>带图评论个数</th>\n",
       "      <th>店铺id</th>\n",
       "      <th>精选评?评论总数</th>\n",
       "      <th>评论摘要</th>\n",
       "    </tr>\n",
       "  </thead>\n",
       "  <tbody>\n",
       "    <tr>\n",
       "      <th>0</th>\n",
       "      <td>689</td>\n",
       "      <td>8284</td>\n",
       "      <td>168</td>\n",
       "      <td>7436</td>\n",
       "      <td>G3kqUzPlKVzjot6d</td>\n",
       "      <td>[{\"店铺id\": \"G3kqUzPlKVzjot6d\", \"评论id\": 11114208...</td>\n",
       "      <td>\"\"用户总分\"\": 45</td>\n",
       "    </tr>\n",
       "    <tr>\n",
       "      <th>1</th>\n",
       "      <td>591</td>\n",
       "      <td>5850</td>\n",
       "      <td>127</td>\n",
       "      <td>3254</td>\n",
       "      <td>G3apDW3AalisPib3</td>\n",
       "      <td>[{\"店铺id\": \"G3apDW3AalisPib3\", \"评论id\": 11114982...</td>\n",
       "      <td>\"\"用户总分\"\": 40</td>\n",
       "    </tr>\n",
       "    <tr>\n",
       "      <th>2</th>\n",
       "      <td>3081</td>\n",
       "      <td>20079</td>\n",
       "      <td>1128</td>\n",
       "      <td>19558</td>\n",
       "      <td>i9GeZGuLXJwQnTQ6</td>\n",
       "      <td>[{\"店铺id\": \"i9GeZGuLXJwQnTQ6\", \"评论id\": 11124385...</td>\n",
       "      <td>\"\"用户总分\"\": 45</td>\n",
       "    </tr>\n",
       "    <tr>\n",
       "      <th>3</th>\n",
       "      <td>130</td>\n",
       "      <td>1955</td>\n",
       "      <td>42</td>\n",
       "      <td>1450</td>\n",
       "      <td>G2lt39A8CYpo3jto</td>\n",
       "      <td>[{\"店铺id\": \"G2lt39A8CYpo3jto\", \"评论id\": 11128018...</td>\n",
       "      <td>\"\"用户总分\"\": 50</td>\n",
       "    </tr>\n",
       "    <tr>\n",
       "      <th>4</th>\n",
       "      <td>662</td>\n",
       "      <td>4193</td>\n",
       "      <td>161</td>\n",
       "      <td>3901</td>\n",
       "      <td>k4jknwB2Pg5KKiwB</td>\n",
       "      <td>[{\"店铺id\": \"k4jknwB2Pg5KKiwB\", \"评论id\": 11140251...</td>\n",
       "      <td>\"\"用户总分\"\": 45</td>\n",
       "    </tr>\n",
       "  </tbody>\n",
       "</table>\n",
       "</div>"
      ],
      "text/plain": [
       "   中评个数   好评个数  差评个数  带图评论个数              店铺id  \\\n",
       "0   689   8284   168    7436  G3kqUzPlKVzjot6d   \n",
       "1   591   5850   127    3254  G3apDW3AalisPib3   \n",
       "2  3081  20079  1128   19558  i9GeZGuLXJwQnTQ6   \n",
       "3   130   1955    42    1450  G2lt39A8CYpo3jto   \n",
       "4   662   4193   161    3901  k4jknwB2Pg5KKiwB   \n",
       "\n",
       "                                            精选评?评论总数           评论摘要  \n",
       "0  [{\"店铺id\": \"G3kqUzPlKVzjot6d\", \"评论id\": 11114208...   \"\"用户总分\"\": 45  \n",
       "1  [{\"店铺id\": \"G3apDW3AalisPib3\", \"评论id\": 11114982...   \"\"用户总分\"\": 40  \n",
       "2  [{\"店铺id\": \"i9GeZGuLXJwQnTQ6\", \"评论id\": 11124385...   \"\"用户总分\"\": 45  \n",
       "3  [{\"店铺id\": \"G2lt39A8CYpo3jto\", \"评论id\": 11128018...   \"\"用户总分\"\": 50  \n",
       "4  [{\"店铺id\": \"k4jknwB2Pg5KKiwB\", \"评论id\": 11140251...   \"\"用户总分\"\": 45  "
      ]
     },
     "execution_count": 98,
     "metadata": {},
     "output_type": "execute_result"
    }
   ],
   "source": [
    "col = ['中评个数', '好评个数', '差评个数', '带图评论个数', '店铺id', '精选评?评论总数', '评论摘要']\n",
    "data_review_c = data_review[col]\n",
    "data_review_c.head()"
   ]
  },
  {
   "cell_type": "code",
   "execution_count": 101,
   "id": "e0982e4a-1771-4bf9-88da-2bde21fb351f",
   "metadata": {},
   "outputs": [
    {
     "data": {
      "text/html": [
       "<div>\n",
       "<style scoped>\n",
       "    .dataframe tbody tr th:only-of-type {\n",
       "        vertical-align: middle;\n",
       "    }\n",
       "\n",
       "    .dataframe tbody tr th {\n",
       "        vertical-align: top;\n",
       "    }\n",
       "\n",
       "    .dataframe thead th {\n",
       "        text-align: right;\n",
       "    }\n",
       "</style>\n",
       "<table border=\"1\" class=\"dataframe\">\n",
       "  <thead>\n",
       "    <tr style=\"text-align: right;\">\n",
       "      <th></th>\n",
       "      <th>_id</th>\n",
       "      <th>中评个数</th>\n",
       "      <th>好评个数</th>\n",
       "      <th>差评个数</th>\n",
       "      <th>带图评论个数</th>\n",
       "      <th>店铺id</th>\n",
       "      <th>精选评论</th>\n",
       "    </tr>\n",
       "  </thead>\n",
       "  <tbody>\n",
       "    <tr>\n",
       "      <th>0</th>\n",
       "      <td>62d7e456db83171f01c8f197</td>\n",
       "      <td>618</td>\n",
       "      <td>11839</td>\n",
       "      <td>361</td>\n",
       "      <td>6964</td>\n",
       "      <td>l9qwmkX3FoD9tExc</td>\n",
       "      <td>[{\"店铺id\": \"l9qwmkX3FoD9tExc\", \"评论id\": \"1115311...</td>\n",
       "    </tr>\n",
       "    <tr>\n",
       "      <th>1</th>\n",
       "      <td>62d7e51ddb83171f01c8f199</td>\n",
       "      <td>827</td>\n",
       "      <td>5725</td>\n",
       "      <td>385</td>\n",
       "      <td>4963</td>\n",
       "      <td>G5m7i2bxuLsQFx6T</td>\n",
       "      <td>[{\"店铺id\": \"G5m7i2bxuLsQFx6T\", \"评论id\": \"1112809...</td>\n",
       "    </tr>\n",
       "    <tr>\n",
       "      <th>2</th>\n",
       "      <td>62d7e5e8db83171f01c8f19b</td>\n",
       "      <td>113</td>\n",
       "      <td>1378</td>\n",
       "      <td>73</td>\n",
       "      <td>1170</td>\n",
       "      <td>k6HJhxChmqIGrO6t</td>\n",
       "      <td>[{\"店铺id\": \"k6HJhxChmqIGrO6t\", \"评论id\": \"1116252...</td>\n",
       "    </tr>\n",
       "    <tr>\n",
       "      <th>3</th>\n",
       "      <td>62d7e6b7db83171f01c8f19d</td>\n",
       "      <td>4168</td>\n",
       "      <td>26637</td>\n",
       "      <td>1185</td>\n",
       "      <td>26743</td>\n",
       "      <td>k6GAT6Sri8LG9voi</td>\n",
       "      <td>[{\"店铺id\": \"k6GAT6Sri8LG9voi\", \"评论id\": \"1115964...</td>\n",
       "    </tr>\n",
       "    <tr>\n",
       "      <th>4</th>\n",
       "      <td>62d7e780db83171f01c8f19f</td>\n",
       "      <td>1158</td>\n",
       "      <td>15374</td>\n",
       "      <td>643</td>\n",
       "      <td>7512</td>\n",
       "      <td>k988VwAzILEm0LY9</td>\n",
       "      <td>[{\"店铺id\": \"k988VwAzILEm0LY9\", \"评论id\": \"1115172...</td>\n",
       "    </tr>\n",
       "  </tbody>\n",
       "</table>\n",
       "</div>"
      ],
      "text/plain": [
       "                        _id  中评个数   好评个数  差评个数  带图评论个数              店铺id  \\\n",
       "0  62d7e456db83171f01c8f197   618  11839   361    6964  l9qwmkX3FoD9tExc   \n",
       "1  62d7e51ddb83171f01c8f199   827   5725   385    4963  G5m7i2bxuLsQFx6T   \n",
       "2  62d7e5e8db83171f01c8f19b   113   1378    73    1170  k6HJhxChmqIGrO6t   \n",
       "3  62d7e6b7db83171f01c8f19d  4168  26637  1185   26743  k6GAT6Sri8LG9voi   \n",
       "4  62d7e780db83171f01c8f19f  1158  15374   643    7512  k988VwAzILEm0LY9   \n",
       "\n",
       "                                                精选评论  \n",
       "0  [{\"店铺id\": \"l9qwmkX3FoD9tExc\", \"评论id\": \"1115311...  \n",
       "1  [{\"店铺id\": \"G5m7i2bxuLsQFx6T\", \"评论id\": \"1112809...  \n",
       "2  [{\"店铺id\": \"k6HJhxChmqIGrO6t\", \"评论id\": \"1116252...  \n",
       "3  [{\"店铺id\": \"k6GAT6Sri8LG9voi\", \"评论id\": \"1115964...  \n",
       "4  [{\"店铺id\": \"k988VwAzILEm0LY9\", \"评论id\": \"1115172...  "
      ]
     },
     "execution_count": 101,
     "metadata": {},
     "output_type": "execute_result"
    }
   ],
   "source": [
    "d = pd.read_csv(\"raw data/review_1.csv\")\n",
    "d.head()"
   ]
  },
  {
   "cell_type": "code",
   "execution_count": 102,
   "id": "281d0fe7-1c1c-447c-9881-eae68397ebbf",
   "metadata": {},
   "outputs": [
    {
     "data": {
      "text/html": [
       "<div>\n",
       "<style scoped>\n",
       "    .dataframe tbody tr th:only-of-type {\n",
       "        vertical-align: middle;\n",
       "    }\n",
       "\n",
       "    .dataframe tbody tr th {\n",
       "        vertical-align: top;\n",
       "    }\n",
       "\n",
       "    .dataframe thead th {\n",
       "        text-align: right;\n",
       "    }\n",
       "</style>\n",
       "<table border=\"1\" class=\"dataframe\">\n",
       "  <thead>\n",
       "    <tr style=\"text-align: right;\">\n",
       "      <th></th>\n",
       "      <th>_id</th>\n",
       "      <th>中评个数</th>\n",
       "      <th>好评个数</th>\n",
       "      <th>差评个数</th>\n",
       "      <th>带图评论个数</th>\n",
       "      <th>店铺id</th>\n",
       "      <th>精选评论</th>\n",
       "      <th>评论总数</th>\n",
       "      <th>评论摘要</th>\n",
       "    </tr>\n",
       "  </thead>\n",
       "  <tbody>\n",
       "    <tr>\n",
       "      <th>0</th>\n",
       "      <td>62d227c6c213f5e8385c3c8a</td>\n",
       "      <td>689</td>\n",
       "      <td>8284</td>\n",
       "      <td>168</td>\n",
       "      <td>7436</td>\n",
       "      <td>G3kqUzPlKVzjot6d</td>\n",
       "      <td>[{\"店铺id\": \"G3kqUzPlKVzjot6d\", \"评论id\": 11114208...</td>\n",
       "      <td>9141</td>\n",
       "      <td>[{\"描述\": \"夜景赞\", \"个数\": 257}, {\"描述\": \"不用排队\", \"个数\"...</td>\n",
       "    </tr>\n",
       "    <tr>\n",
       "      <th>1</th>\n",
       "      <td>62d227cdc213f5e8385c3c8c</td>\n",
       "      <td>591</td>\n",
       "      <td>5850</td>\n",
       "      <td>127</td>\n",
       "      <td>3254</td>\n",
       "      <td>G3apDW3AalisPib3</td>\n",
       "      <td>[{\"店铺id\": \"G3apDW3AalisPib3\", \"评论id\": 11114982...</td>\n",
       "      <td>6568</td>\n",
       "      <td>[{\"描述\": \"上菜快\", \"个数\": 110}, {\"描述\": \"不用排队\", \"个数\"...</td>\n",
       "    </tr>\n",
       "    <tr>\n",
       "      <th>2</th>\n",
       "      <td>62d227cec213f5e8385c3c8e</td>\n",
       "      <td>3081</td>\n",
       "      <td>20079</td>\n",
       "      <td>1128</td>\n",
       "      <td>19558</td>\n",
       "      <td>i9GeZGuLXJwQnTQ6</td>\n",
       "      <td>[{\"店铺id\": \"i9GeZGuLXJwQnTQ6\", \"评论id\": 11124385...</td>\n",
       "      <td>24288</td>\n",
       "      <td>[{\"描述\": \"菜品健康\", \"个数\": 1759}, {\"描述\": \"不用排队\", \"个...</td>\n",
       "    </tr>\n",
       "    <tr>\n",
       "      <th>3</th>\n",
       "      <td>62d227cfc213f5e8385c3c90</td>\n",
       "      <td>130</td>\n",
       "      <td>1955</td>\n",
       "      <td>42</td>\n",
       "      <td>1450</td>\n",
       "      <td>G2lt39A8CYpo3jto</td>\n",
       "      <td>[{\"店铺id\": \"G2lt39A8CYpo3jto\", \"评论id\": 11128018...</td>\n",
       "      <td>2127</td>\n",
       "      <td>[{\"描述\": \"菜品健康\", \"个数\": 93}, {\"描述\": \"上菜快\", \"个数\":...</td>\n",
       "    </tr>\n",
       "    <tr>\n",
       "      <th>4</th>\n",
       "      <td>62d227d1c213f5e8385c3c92</td>\n",
       "      <td>662</td>\n",
       "      <td>4193</td>\n",
       "      <td>161</td>\n",
       "      <td>3901</td>\n",
       "      <td>k4jknwB2Pg5KKiwB</td>\n",
       "      <td>[{\"店铺id\": \"k4jknwB2Pg5KKiwB\", \"评论id\": 11140251...</td>\n",
       "      <td>5016</td>\n",
       "      <td>[{\"描述\": \"上菜快\", \"个数\": 127}, {\"描述\": \"不用排队\", \"个数\"...</td>\n",
       "    </tr>\n",
       "  </tbody>\n",
       "</table>\n",
       "</div>"
      ],
      "text/plain": [
       "                        _id  中评个数   好评个数  差评个数  带图评论个数              店铺id  \\\n",
       "0  62d227c6c213f5e8385c3c8a   689   8284   168    7436  G3kqUzPlKVzjot6d   \n",
       "1  62d227cdc213f5e8385c3c8c   591   5850   127    3254  G3apDW3AalisPib3   \n",
       "2  62d227cec213f5e8385c3c8e  3081  20079  1128   19558  i9GeZGuLXJwQnTQ6   \n",
       "3  62d227cfc213f5e8385c3c90   130   1955    42    1450  G2lt39A8CYpo3jto   \n",
       "4  62d227d1c213f5e8385c3c92   662   4193   161    3901  k4jknwB2Pg5KKiwB   \n",
       "\n",
       "                                                精选评论   评论总数  \\\n",
       "0  [{\"店铺id\": \"G3kqUzPlKVzjot6d\", \"评论id\": 11114208...   9141   \n",
       "1  [{\"店铺id\": \"G3apDW3AalisPib3\", \"评论id\": 11114982...   6568   \n",
       "2  [{\"店铺id\": \"i9GeZGuLXJwQnTQ6\", \"评论id\": 11124385...  24288   \n",
       "3  [{\"店铺id\": \"G2lt39A8CYpo3jto\", \"评论id\": 11128018...   2127   \n",
       "4  [{\"店铺id\": \"k4jknwB2Pg5KKiwB\", \"评论id\": 11140251...   5016   \n",
       "\n",
       "                                                评论摘要  \n",
       "0  [{\"描述\": \"夜景赞\", \"个数\": 257}, {\"描述\": \"不用排队\", \"个数\"...  \n",
       "1  [{\"描述\": \"上菜快\", \"个数\": 110}, {\"描述\": \"不用排队\", \"个数\"...  \n",
       "2  [{\"描述\": \"菜品健康\", \"个数\": 1759}, {\"描述\": \"不用排队\", \"个...  \n",
       "3  [{\"描述\": \"菜品健康\", \"个数\": 93}, {\"描述\": \"上菜快\", \"个数\":...  \n",
       "4  [{\"描述\": \"上菜快\", \"个数\": 127}, {\"描述\": \"不用排队\", \"个数\"...  "
      ]
     },
     "execution_count": 102,
     "metadata": {},
     "output_type": "execute_result"
    }
   ],
   "source": [
    "d2 = pd.read_csv(\"raw data/review_2.csv\")\n",
    "d2.head()"
   ]
  },
  {
   "cell_type": "code",
   "execution_count": 197,
   "id": "aee27532-e688-430b-b0a0-c21c47ebb200",
   "metadata": {},
   "outputs": [
    {
     "data": {
      "text/html": [
       "<div>\n",
       "<style scoped>\n",
       "    .dataframe tbody tr th:only-of-type {\n",
       "        vertical-align: middle;\n",
       "    }\n",
       "\n",
       "    .dataframe tbody tr th {\n",
       "        vertical-align: top;\n",
       "    }\n",
       "\n",
       "    .dataframe thead th {\n",
       "        text-align: right;\n",
       "    }\n",
       "</style>\n",
       "<table border=\"1\" class=\"dataframe\">\n",
       "  <thead>\n",
       "    <tr style=\"text-align: right;\">\n",
       "      <th></th>\n",
       "      <th>_id</th>\n",
       "      <th>中评个数</th>\n",
       "      <th>好评个数</th>\n",
       "      <th>差评个数</th>\n",
       "      <th>带图评论个数</th>\n",
       "      <th>店铺id</th>\n",
       "      <th>推荐菜</th>\n",
       "      <th>精选评论</th>\n",
       "      <th>评论总数</th>\n",
       "      <th>评论摘要</th>\n",
       "    </tr>\n",
       "  </thead>\n",
       "  <tbody>\n",
       "    <tr>\n",
       "      <th>0</th>\n",
       "      <td>62db5b0c817bf9b8a5707520</td>\n",
       "      <td>567</td>\n",
       "      <td>3513</td>\n",
       "      <td>226</td>\n",
       "      <td>3191</td>\n",
       "      <td>l1KkGwL9nhdbxYJG</td>\n",
       "      <td>-</td>\n",
       "      <td>[{\"店铺id\": \"l1KkGwL9nhdbxYJG\", \"评论id\": \"1109187...</td>\n",
       "      <td>4306</td>\n",
       "      <td>[{\"描述\": \"菜品健康\", \"个数\": \"310\"}, {\"描述\": \"不用排队\", \"...</td>\n",
       "    </tr>\n",
       "    <tr>\n",
       "      <th>1</th>\n",
       "      <td>62db5bd3817bf9b8a5707522</td>\n",
       "      <td>1123</td>\n",
       "      <td>11613</td>\n",
       "      <td>327</td>\n",
       "      <td>5205</td>\n",
       "      <td>G6lUt8p6xQvkx4jf</td>\n",
       "      <td>-</td>\n",
       "      <td>[{\"店铺id\": \"G6lUt8p6xQvkx4jf\", \"评论id\": \"1116490...</td>\n",
       "      <td>13063</td>\n",
       "      <td>[{\"描述\": \"上菜快\", \"个数\": \"168\"}, {\"描述\": \"不用排队\", \"个...</td>\n",
       "    </tr>\n",
       "    <tr>\n",
       "      <th>2</th>\n",
       "      <td>62db5c97817bf9b8a5707524</td>\n",
       "      <td>91</td>\n",
       "      <td>777</td>\n",
       "      <td>105</td>\n",
       "      <td>674</td>\n",
       "      <td>l26n8GRljBs37jw0</td>\n",
       "      <td>-</td>\n",
       "      <td>[{\"店铺id\": \"l26n8GRljBs37jw0\", \"评论id\": \"1117401...</td>\n",
       "      <td>973</td>\n",
       "      <td>[{\"描述\": \"牛肉赞\", \"个数\": \"49\"}, {\"描述\": \"不用排队\", \"个数...</td>\n",
       "    </tr>\n",
       "    <tr>\n",
       "      <th>3</th>\n",
       "      <td>62db5d63817bf9b8a5707526</td>\n",
       "      <td>543</td>\n",
       "      <td>3353</td>\n",
       "      <td>247</td>\n",
       "      <td>3108</td>\n",
       "      <td>H1AqU2oV2LZE1Eiw</td>\n",
       "      <td>-</td>\n",
       "      <td>[{\"店铺id\": \"H1AqU2oV2LZE1Eiw\", \"评论id\": \"1117591...</td>\n",
       "      <td>4143</td>\n",
       "      <td>[{\"描述\": \"菜品健康\", \"个数\": \"212\"}, {\"描述\": \"不用排队\", \"...</td>\n",
       "    </tr>\n",
       "    <tr>\n",
       "      <th>4</th>\n",
       "      <td>62db5e2b817bf9b8a5707528</td>\n",
       "      <td>1409</td>\n",
       "      <td>6343</td>\n",
       "      <td>634</td>\n",
       "      <td>2457</td>\n",
       "      <td>k7hEx6fVSx6Z75W2</td>\n",
       "      <td>-</td>\n",
       "      <td>[{\"店铺id\": \"k7hEx6fVSx6Z75W2\", \"评论id\": \"1117017...</td>\n",
       "      <td>8386</td>\n",
       "      <td>[{\"描述\": \"菜品健康\", \"个数\": \"337\"}, {\"描述\": \"不用排队\", \"...</td>\n",
       "    </tr>\n",
       "  </tbody>\n",
       "</table>\n",
       "</div>"
      ],
      "text/plain": [
       "                        _id  中评个数   好评个数  差评个数  带图评论个数              店铺id 推荐菜  \\\n",
       "0  62db5b0c817bf9b8a5707520   567   3513   226    3191  l1KkGwL9nhdbxYJG   -   \n",
       "1  62db5bd3817bf9b8a5707522  1123  11613   327    5205  G6lUt8p6xQvkx4jf   -   \n",
       "2  62db5c97817bf9b8a5707524    91    777   105     674  l26n8GRljBs37jw0   -   \n",
       "3  62db5d63817bf9b8a5707526   543   3353   247    3108  H1AqU2oV2LZE1Eiw   -   \n",
       "4  62db5e2b817bf9b8a5707528  1409   6343   634    2457  k7hEx6fVSx6Z75W2   -   \n",
       "\n",
       "                                                精选评论   评论总数  \\\n",
       "0  [{\"店铺id\": \"l1KkGwL9nhdbxYJG\", \"评论id\": \"1109187...   4306   \n",
       "1  [{\"店铺id\": \"G6lUt8p6xQvkx4jf\", \"评论id\": \"1116490...  13063   \n",
       "2  [{\"店铺id\": \"l26n8GRljBs37jw0\", \"评论id\": \"1117401...    973   \n",
       "3  [{\"店铺id\": \"H1AqU2oV2LZE1Eiw\", \"评论id\": \"1117591...   4143   \n",
       "4  [{\"店铺id\": \"k7hEx6fVSx6Z75W2\", \"评论id\": \"1117017...   8386   \n",
       "\n",
       "                                                评论摘要  \n",
       "0  [{\"描述\": \"菜品健康\", \"个数\": \"310\"}, {\"描述\": \"不用排队\", \"...  \n",
       "1  [{\"描述\": \"上菜快\", \"个数\": \"168\"}, {\"描述\": \"不用排队\", \"个...  \n",
       "2  [{\"描述\": \"牛肉赞\", \"个数\": \"49\"}, {\"描述\": \"不用排队\", \"个数...  \n",
       "3  [{\"描述\": \"菜品健康\", \"个数\": \"212\"}, {\"描述\": \"不用排队\", \"...  \n",
       "4  [{\"描述\": \"菜品健康\", \"个数\": \"337\"}, {\"描述\": \"不用排队\", \"...  "
      ]
     },
     "execution_count": 197,
     "metadata": {},
     "output_type": "execute_result"
    }
   ],
   "source": [
    "d3 = pd.read_csv(\"raw data/dianping_review_test.csv\",encoding='utf-8')\n",
    "d3.head()"
   ]
  },
  {
   "cell_type": "code",
   "execution_count": 198,
   "id": "3ab08819-51f9-48f4-802a-3ca60130e05f",
   "metadata": {},
   "outputs": [],
   "source": [
    "d3['精选评论'] = d3['精选评论'].map(lambda x:simplejson.loads(x))\n",
    "# tmp = d3['精选评论'].replace('\\t','').replace('\\n','').replace(',}','}').replace(',]',']')\n",
    "# d3 = json.loads(tmp)\n",
    "# d3['精选评论'].apply(pd.Series)"
   ]
  },
  {
   "cell_type": "code",
   "execution_count": 199,
   "id": "2b029f13-bc85-4191-9c8a-bd6dde1d3dec",
   "metadata": {},
   "outputs": [],
   "source": [
    "# df_review = d3['精选评论'].explode().reset_index(drop=True)\n",
    "# df_review = df_review.join(pd.json_normalize(df.col2)).drop(columns=['col2'])\n",
    "\n",
    "# use explode to give each dict in a list a separate row\n",
    "df_review = pd.DataFrame(d3.精选评论.explode().reset_index(drop=True))\n",
    "\n",
    "# normalize the column of dicts, join back to the remaining dataframe columns, and drop the unneeded column\n",
    "df_review = pd.json_normalize(df_review.精选评论)\n",
    "df_review_NLP = df_review[['评论内容','用户总分','店铺id']]"
   ]
  },
  {
   "cell_type": "code",
   "execution_count": 265,
   "id": "304472c7-4eb9-4951-b950-8593c88388e6",
   "metadata": {},
   "outputs": [
    {
     "name": "stderr",
     "output_type": "stream",
     "text": [
      "/tmp/ipykernel_7023/2206967058.py:1: SettingWithCopyWarning: \n",
      "A value is trying to be set on a copy of a slice from a DataFrame.\n",
      "Try using .loc[row_indexer,col_indexer] = value instead\n",
      "\n",
      "See the caveats in the documentation: https://pandas.pydata.org/pandas-docs/stable/user_guide/indexing.html#returning-a-view-versus-a-copy\n",
      "  df_review_NLP['评论内容'] = df_review_NLP['评论内容'].apply(lambda x:' '.join(jieba.cut(x)))\n"
     ]
    }
   ],
   "source": [
    "df_review_NLP['评论内容'] = df_review_NLP['评论内容'].apply(lambda x:' '.join(jieba.cut(x)))"
   ]
  },
  {
   "cell_type": "code",
   "execution_count": 266,
   "id": "c32cedc7-9250-4ca5-80ee-195e5da474a5",
   "metadata": {},
   "outputs": [
    {
     "name": "stderr",
     "output_type": "stream",
     "text": [
      "/tmp/ipykernel_7023/846175526.py:4: SettingWithCopyWarning: \n",
      "A value is trying to be set on a copy of a slice from a DataFrame.\n",
      "Try using .loc[row_indexer,col_indexer] = value instead\n",
      "\n",
      "See the caveats in the documentation: https://pandas.pydata.org/pandas-docs/stable/user_guide/indexing.html#returning-a-view-versus-a-copy\n",
      "  df_review_NLP[i] = pd.to_numeric(df_review_NLP[i],errors='coerce')\n"
     ]
    }
   ],
   "source": [
    "cols = ['用户总分','用户打分.口味','用户打分.环境','用户打分.服务']\n",
    "\n",
    "for i in cols:\n",
    "    df_review_NLP[i] = pd.to_numeric(df_review_NLP[i],errors='coerce')"
   ]
  },
  {
   "cell_type": "code",
   "execution_count": 268,
   "id": "8d23a3d9-d2cf-42fd-a040-1c88007cc411",
   "metadata": {},
   "outputs": [
    {
     "name": "stderr",
     "output_type": "stream",
     "text": [
      "/tmp/ipykernel_7023/3384253146.py:1: SettingWithCopyWarning: \n",
      "A value is trying to be set on a copy of a slice from a DataFrame.\n",
      "Try using .loc[row_indexer,col_indexer] = value instead\n",
      "\n",
      "See the caveats in the documentation: https://pandas.pydata.org/pandas-docs/stable/user_guide/indexing.html#returning-a-view-versus-a-copy\n",
      "  df_review_NLP['target'] = df_review_NLP['用户总分'].map(lambda x:zhuanhuan(x))\n"
     ]
    }
   ],
   "source": [
    "df_review_NLP['target'] = df_review_NLP['用户总分'].map(lambda x:zhuanhuan(x))\n",
    "df_model = df_review_NLP.dropna()"
   ]
  },
  {
   "cell_type": "code",
   "execution_count": 269,
   "id": "7c6e8281-3ef4-42f2-acb1-a1df23556495",
   "metadata": {},
   "outputs": [],
   "source": [
    "x_train, x_test, y_train, y_test = train_test_split(df_model['评论内容'], df_model['target'], random_state=3, test_size=0.25)"
   ]
  },
  {
   "cell_type": "code",
   "execution_count": 270,
   "id": "b8ccba2a-3078-4fe2-99e4-df484bd52fb5",
   "metadata": {},
   "outputs": [
    {
     "data": {
      "text/plain": [
       "TfidfVectorizer(analyzer='word', binary=False, decode_error='strict',\n",
       "                dtype=<class 'numpy.float64'>, encoding='utf-8',\n",
       "                input='content', lowercase=True, max_df=1.0, max_features=3000,\n",
       "                min_df=1, ngram_range=(1, 2), norm='l2', preprocessor=None,\n",
       "                smooth_idf=True,\n",
       "                stop_words=['$', '0', '1', '2', '3', '4', '5', '6', '7', '8',\n",
       "                            '9', '?', '_', '“', '”', '、', '。', '《', '》', '一',\n",
       "                            '一些', '一何', '一切', '一则', '一方面', '一旦', '一来', '一样',\n",
       "                            '一般', '一转眼', ...],\n",
       "                strip_accents=None, sublinear_tf=False,\n",
       "                token_pattern='(?u)\\\\b\\\\w\\\\w+\\\\b', tokenizer=None, use_idf=True,\n",
       "                vocabulary=None)"
      ]
     },
     "execution_count": 270,
     "metadata": {},
     "output_type": "execute_result"
    }
   ],
   "source": [
    "tv.fit(x_train)"
   ]
  },
  {
   "cell_type": "code",
   "execution_count": 271,
   "id": "b60333f4-55a7-4f4d-aaa0-2da80f077e00",
   "metadata": {},
   "outputs": [
    {
     "data": {
      "text/plain": [
       "0.9495908346972177"
      ]
     },
     "execution_count": 271,
     "metadata": {},
     "output_type": "execute_result"
    }
   ],
   "source": [
    "classifier = MultinomialNB()\n",
    "classifier.fit(tv.transform(x_train), y_train)\n",
    "classifier.score(tv.transform(x_test), y_test)"
   ]
  },
  {
   "cell_type": "code",
   "execution_count": 272,
   "id": "273598d6-adae-45a6-9fd3-2f2551594e56",
   "metadata": {},
   "outputs": [
    {
     "data": {
      "text/plain": [
       "0.8883624992725303"
      ]
     },
     "execution_count": 272,
     "metadata": {},
     "output_type": "execute_result"
    }
   ],
   "source": [
    "y_pred = classifier.predict_proba(tv.transform(x_test))[:,1]\n",
    "roc_auc_score(y_test,y_pred)"
   ]
  },
  {
   "cell_type": "code",
   "execution_count": 273,
   "id": "a95a5148-e564-413d-8eb2-e665a51074cd",
   "metadata": {},
   "outputs": [
    {
     "name": "stdout",
     "output_type": "stream",
     "text": [
      "好评实例的模型预测情感得分为0.98\n",
      "差评实例的模型预测情感得分为0.86\n"
     ]
    }
   ],
   "source": [
    "test1 = '很好吃，环境好，所有员工的态度都很好，上菜快，服务也很好，味道好吃，都是用蒸馏水煮的，推荐，超好吃' #5星好评\n",
    "test2 = '糯米外皮不绵滑，豆沙馅粗躁，没有香甜味。12元一碗不值，不好吃。' #1星差评\n",
    "print('好评实例的模型预测情感得分为{}\\n差评实例的模型预测情感得分为{}'.format(ceshi(classifier,test1),ceshi(classifier,test2)))"
   ]
  },
  {
   "cell_type": "code",
   "execution_count": 274,
   "id": "79243263-fdbc-4037-a0a0-42ff71e3127b",
   "metadata": {},
   "outputs": [
    {
     "data": {
      "text/plain": [
       "1.0    11581\n",
       "0.0      638\n",
       "Name: target, dtype: int64"
      ]
     },
     "execution_count": 274,
     "metadata": {},
     "output_type": "execute_result"
    }
   ],
   "source": [
    "df_review_NLP['target'].value_counts()"
   ]
  },
  {
   "cell_type": "code",
   "execution_count": 275,
   "id": "9198101c-8c99-4689-80de-1a05a07ce8df",
   "metadata": {},
   "outputs": [],
   "source": [
    "index_tmp = y_train==0\n",
    "y_tmp = y_train[index_tmp]\n",
    "x_tmp = x_train[index_tmp]\n",
    "x_train2 = pd.concat([x_train,x_tmp,x_tmp,x_tmp,x_tmp,x_tmp,x_tmp,x_tmp,x_tmp,x_tmp,x_tmp])\n",
    "y_train2 = pd.concat([y_train,y_tmp,y_tmp,y_tmp,y_tmp,y_tmp,y_tmp,y_tmp,y_tmp,y_tmp,y_tmp])"
   ]
  },
  {
   "cell_type": "code",
   "execution_count": 276,
   "id": "1fa9e62e-75fc-4704-8dad-27ad98822e9a",
   "metadata": {},
   "outputs": [
    {
     "data": {
      "text/plain": [
       "0.9301192602640378"
      ]
     },
     "execution_count": 276,
     "metadata": {},
     "output_type": "execute_result"
    }
   ],
   "source": [
    "clf2 = MultinomialNB()\n",
    "clf2.fit(tv.transform(x_train2), y_train2)\n",
    "y_pred2 = clf2.predict_proba(tv.transform(x_test))[:,1]\n",
    "roc_auc_score(y_test,y_pred2)"
   ]
  },
  {
   "cell_type": "code",
   "execution_count": 279,
   "id": "5637f734-5e88-4bdf-8526-ef41fa65a903",
   "metadata": {},
   "outputs": [
    {
     "name": "stdout",
     "output_type": "stream",
     "text": [
      "0.79\n",
      "0.9\n"
     ]
    }
   ],
   "source": [
    "print(ceshi(clf2,'排队人太多，环境不好，口味一般，不好吃'))\n",
    "print(ceshi(clf2,'很好吃，环境好，超好吃'))"
   ]
  },
  {
   "cell_type": "code",
   "execution_count": 1,
   "id": "1983c50b-70ab-4d56-9b69-08356a7f6cc2",
   "metadata": {},
   "outputs": [],
   "source": [
    "from nlp import nlp_score,review_clean"
   ]
  },
  {
   "cell_type": "code",
   "execution_count": 293,
   "id": "af4bd22d-92e4-4b54-9f75-6c72cece5454",
   "metadata": {},
   "outputs": [
    {
     "data": {
      "text/html": [
       "<div>\n",
       "<style scoped>\n",
       "    .dataframe tbody tr th:only-of-type {\n",
       "        vertical-align: middle;\n",
       "    }\n",
       "\n",
       "    .dataframe tbody tr th {\n",
       "        vertical-align: top;\n",
       "    }\n",
       "\n",
       "    .dataframe thead th {\n",
       "        text-align: right;\n",
       "    }\n",
       "</style>\n",
       "<table border=\"1\" class=\"dataframe\">\n",
       "  <thead>\n",
       "    <tr style=\"text-align: right;\">\n",
       "      <th></th>\n",
       "      <th>_id</th>\n",
       "      <th>中评个数</th>\n",
       "      <th>好评个数</th>\n",
       "      <th>差评个数</th>\n",
       "      <th>带图评论个数</th>\n",
       "      <th>店铺id</th>\n",
       "      <th>推荐菜</th>\n",
       "      <th>精选评论</th>\n",
       "      <th>评论总数</th>\n",
       "      <th>评论摘要</th>\n",
       "    </tr>\n",
       "  </thead>\n",
       "  <tbody>\n",
       "    <tr>\n",
       "      <th>0</th>\n",
       "      <td>62db5b0c817bf9b8a5707520</td>\n",
       "      <td>567</td>\n",
       "      <td>3513</td>\n",
       "      <td>226</td>\n",
       "      <td>3191</td>\n",
       "      <td>l1KkGwL9nhdbxYJG</td>\n",
       "      <td>-</td>\n",
       "      <td>[{\"店铺id\": \"l1KkGwL9nhdbxYJG\", \"评论id\": \"1109187...</td>\n",
       "      <td>4306</td>\n",
       "      <td>[{\"描述\": \"菜品健康\", \"个数\": \"310\"}, {\"描述\": \"不用排队\", \"...</td>\n",
       "    </tr>\n",
       "    <tr>\n",
       "      <th>1</th>\n",
       "      <td>62db5bd3817bf9b8a5707522</td>\n",
       "      <td>1123</td>\n",
       "      <td>11613</td>\n",
       "      <td>327</td>\n",
       "      <td>5205</td>\n",
       "      <td>G6lUt8p6xQvkx4jf</td>\n",
       "      <td>-</td>\n",
       "      <td>[{\"店铺id\": \"G6lUt8p6xQvkx4jf\", \"评论id\": \"1116490...</td>\n",
       "      <td>13063</td>\n",
       "      <td>[{\"描述\": \"上菜快\", \"个数\": \"168\"}, {\"描述\": \"不用排队\", \"个...</td>\n",
       "    </tr>\n",
       "    <tr>\n",
       "      <th>2</th>\n",
       "      <td>62db5c97817bf9b8a5707524</td>\n",
       "      <td>91</td>\n",
       "      <td>777</td>\n",
       "      <td>105</td>\n",
       "      <td>674</td>\n",
       "      <td>l26n8GRljBs37jw0</td>\n",
       "      <td>-</td>\n",
       "      <td>[{\"店铺id\": \"l26n8GRljBs37jw0\", \"评论id\": \"1117401...</td>\n",
       "      <td>973</td>\n",
       "      <td>[{\"描述\": \"牛肉赞\", \"个数\": \"49\"}, {\"描述\": \"不用排队\", \"个数...</td>\n",
       "    </tr>\n",
       "    <tr>\n",
       "      <th>3</th>\n",
       "      <td>62db5d63817bf9b8a5707526</td>\n",
       "      <td>543</td>\n",
       "      <td>3353</td>\n",
       "      <td>247</td>\n",
       "      <td>3108</td>\n",
       "      <td>H1AqU2oV2LZE1Eiw</td>\n",
       "      <td>-</td>\n",
       "      <td>[{\"店铺id\": \"H1AqU2oV2LZE1Eiw\", \"评论id\": \"1117591...</td>\n",
       "      <td>4143</td>\n",
       "      <td>[{\"描述\": \"菜品健康\", \"个数\": \"212\"}, {\"描述\": \"不用排队\", \"...</td>\n",
       "    </tr>\n",
       "    <tr>\n",
       "      <th>4</th>\n",
       "      <td>62db5e2b817bf9b8a5707528</td>\n",
       "      <td>1409</td>\n",
       "      <td>6343</td>\n",
       "      <td>634</td>\n",
       "      <td>2457</td>\n",
       "      <td>k7hEx6fVSx6Z75W2</td>\n",
       "      <td>-</td>\n",
       "      <td>[{\"店铺id\": \"k7hEx6fVSx6Z75W2\", \"评论id\": \"1117017...</td>\n",
       "      <td>8386</td>\n",
       "      <td>[{\"描述\": \"菜品健康\", \"个数\": \"337\"}, {\"描述\": \"不用排队\", \"...</td>\n",
       "    </tr>\n",
       "  </tbody>\n",
       "</table>\n",
       "</div>"
      ],
      "text/plain": [
       "                        _id  中评个数   好评个数  差评个数  带图评论个数              店铺id 推荐菜  \\\n",
       "0  62db5b0c817bf9b8a5707520   567   3513   226    3191  l1KkGwL9nhdbxYJG   -   \n",
       "1  62db5bd3817bf9b8a5707522  1123  11613   327    5205  G6lUt8p6xQvkx4jf   -   \n",
       "2  62db5c97817bf9b8a5707524    91    777   105     674  l26n8GRljBs37jw0   -   \n",
       "3  62db5d63817bf9b8a5707526   543   3353   247    3108  H1AqU2oV2LZE1Eiw   -   \n",
       "4  62db5e2b817bf9b8a5707528  1409   6343   634    2457  k7hEx6fVSx6Z75W2   -   \n",
       "\n",
       "                                                精选评论   评论总数  \\\n",
       "0  [{\"店铺id\": \"l1KkGwL9nhdbxYJG\", \"评论id\": \"1109187...   4306   \n",
       "1  [{\"店铺id\": \"G6lUt8p6xQvkx4jf\", \"评论id\": \"1116490...  13063   \n",
       "2  [{\"店铺id\": \"l26n8GRljBs37jw0\", \"评论id\": \"1117401...    973   \n",
       "3  [{\"店铺id\": \"H1AqU2oV2LZE1Eiw\", \"评论id\": \"1117591...   4143   \n",
       "4  [{\"店铺id\": \"k7hEx6fVSx6Z75W2\", \"评论id\": \"1117017...   8386   \n",
       "\n",
       "                                                评论摘要  \n",
       "0  [{\"描述\": \"菜品健康\", \"个数\": \"310\"}, {\"描述\": \"不用排队\", \"...  \n",
       "1  [{\"描述\": \"上菜快\", \"个数\": \"168\"}, {\"描述\": \"不用排队\", \"个...  \n",
       "2  [{\"描述\": \"牛肉赞\", \"个数\": \"49\"}, {\"描述\": \"不用排队\", \"个数...  \n",
       "3  [{\"描述\": \"菜品健康\", \"个数\": \"212\"}, {\"描述\": \"不用排队\", \"...  \n",
       "4  [{\"描述\": \"菜品健康\", \"个数\": \"337\"}, {\"描述\": \"不用排队\", \"...  "
      ]
     },
     "execution_count": 293,
     "metadata": {},
     "output_type": "execute_result"
    }
   ],
   "source": [
    "pd.read_csv(\"raw_data/dianping_review_test.csv\",encoding='utf-8').head()"
   ]
  },
  {
   "cell_type": "code",
   "execution_count": 2,
   "id": "d08caf43-d022-4042-b707-93b3c7e60469",
   "metadata": {},
   "outputs": [],
   "source": [
    "%load_ext autoreload\n",
    "%autoreload 2\n",
    "\n",
    "import pandas as pd\n",
    "import jieba\n",
    "import simplejson\n",
    "from matplotlib import pyplot as plt\n",
    "from sklearn.model_selection import train_test_split\n",
    "from sklearn.feature_extraction.text import TfidfVectorizer\n",
    "from sklearn.naive_bayes import MultinomialNB\n",
    "from sklearn.metrics import roc_auc_score, f1_score"
   ]
  },
  {
   "cell_type": "code",
   "execution_count": 11,
   "id": "1134a7f3-c742-451b-87b3-cc1ee160e823",
   "metadata": {},
   "outputs": [
    {
     "data": {
      "text/html": [
       "<div>\n",
       "<style scoped>\n",
       "    .dataframe tbody tr th:only-of-type {\n",
       "        vertical-align: middle;\n",
       "    }\n",
       "\n",
       "    .dataframe tbody tr th {\n",
       "        vertical-align: top;\n",
       "    }\n",
       "\n",
       "    .dataframe thead th {\n",
       "        text-align: right;\n",
       "    }\n",
       "</style>\n",
       "<table border=\"1\" class=\"dataframe\">\n",
       "  <thead>\n",
       "    <tr style=\"text-align: right;\">\n",
       "      <th></th>\n",
       "      <th>评论内容</th>\n",
       "      <th>用户总分</th>\n",
       "      <th>店铺id</th>\n",
       "    </tr>\n",
       "  </thead>\n",
       "  <tbody>\n",
       "    <tr>\n",
       "      <th>0</th>\n",
       "      <td>平台上买的他家的双人套餐，真的非常非常实在，份量足，味道也很好，推荐推荐  他家是自助铁板烤...</td>\n",
       "      <td>5.0</td>\n",
       "      <td>l1KkGwL9nhdbxYJG</td>\n",
       "    </tr>\n",
       "    <tr>\n",
       "      <th>1</th>\n",
       "      <td>三月份就中的霸王餐被疫情耽搁到现在才去吃真痛苦 这家韩聚场平时也常吃，特色的石板烤肉蛮少见的...</td>\n",
       "      <td>5.0</td>\n",
       "      <td>l1KkGwL9nhdbxYJG</td>\n",
       "    </tr>\n",
       "    <tr>\n",
       "      <th>2</th>\n",
       "      <td>呼呼离谱三人行，人均92吃成了143哈哈哈哈  场地很大，没排队就直接入座啦～服务员也很麻利...</td>\n",
       "      <td>5.0</td>\n",
       "      <td>l1KkGwL9nhdbxYJG</td>\n",
       "    </tr>\n",
       "    <tr>\n",
       "      <th>3</th>\n",
       "      <td>刷某音看到就团了一个随便挑个日子就去了周二6点多店里人不多套餐里有4种肉肉一个菇一份炒年糕还...</td>\n",
       "      <td>4.5</td>\n",
       "      <td>l1KkGwL9nhdbxYJG</td>\n",
       "    </tr>\n",
       "    <tr>\n",
       "      <th>4</th>\n",
       "      <td>解封之后的第一顿烤肉！用餐感受还是非常满意的，可能正好也是赶上肚子饿，吃的可香了，哈哈～肉都...</td>\n",
       "      <td>4.5</td>\n",
       "      <td>l1KkGwL9nhdbxYJG</td>\n",
       "    </tr>\n",
       "  </tbody>\n",
       "</table>\n",
       "</div>"
      ],
      "text/plain": [
       "                                                评论内容  用户总分              店铺id\n",
       "0  平台上买的他家的双人套餐，真的非常非常实在，份量足，味道也很好，推荐推荐  他家是自助铁板烤...   5.0  l1KkGwL9nhdbxYJG\n",
       "1  三月份就中的霸王餐被疫情耽搁到现在才去吃真痛苦 这家韩聚场平时也常吃，特色的石板烤肉蛮少见的...   5.0  l1KkGwL9nhdbxYJG\n",
       "2  呼呼离谱三人行，人均92吃成了143哈哈哈哈  场地很大，没排队就直接入座啦～服务员也很麻利...   5.0  l1KkGwL9nhdbxYJG\n",
       "3  刷某音看到就团了一个随便挑个日子就去了周二6点多店里人不多套餐里有4种肉肉一个菇一份炒年糕还...   4.5  l1KkGwL9nhdbxYJG\n",
       "4  解封之后的第一顿烤肉！用餐感受还是非常满意的，可能正好也是赶上肚子饿，吃的可香了，哈哈～肉都...   4.5  l1KkGwL9nhdbxYJG"
      ]
     },
     "execution_count": 11,
     "metadata": {},
     "output_type": "execute_result"
    }
   ],
   "source": [
    "df = review_clean(pd.read_csv(\"raw_data/dianping_review_test.csv\",encoding='utf-8'))\n",
    "df.head()"
   ]
  },
  {
   "cell_type": "code",
   "execution_count": 17,
   "id": "9f31f593-1649-49e7-85c3-87e44b9624b0",
   "metadata": {},
   "outputs": [
    {
     "ename": "ValueError",
     "evalue": "Expected 2D array, got 1D array instead:\narray=[<1x1 sparse matrix of type '<class 'numpy.float64'>'\n\twith 0 stored elements in Compressed Sparse Row format>].\nReshape your data either using array.reshape(-1, 1) if your data has a single feature or array.reshape(1, -1) if it contains a single sample.",
     "output_type": "error",
     "traceback": [
      "\u001b[0;31m---------------------------------------------------------------------------\u001b[0m",
      "\u001b[0;31mValueError\u001b[0m                                Traceback (most recent call last)",
      "\u001b[0;32m/tmp/ipykernel_13273/1240523215.py\u001b[0m in \u001b[0;36m<module>\u001b[0;34m\u001b[0m\n\u001b[0;32m----> 1\u001b[0;31m \u001b[0mnlp_score\u001b[0m\u001b[0;34m(\u001b[0m\u001b[0;34m\"raw_data/dianping_review_test.csv\"\u001b[0m\u001b[0;34m)\u001b[0m\u001b[0;34m\u001b[0m\u001b[0;34m\u001b[0m\u001b[0m\n\u001b[0m",
      "\u001b[0;32m~/code/WhatForToday/WhatsForTodayModel/nlp.py\u001b[0m in \u001b[0;36mnlp_score\u001b[0;34m(path)\u001b[0m\n\u001b[1;32m     65\u001b[0m     \u001b[0mclassifier\u001b[0m\u001b[0;34m.\u001b[0m\u001b[0mfit\u001b[0m\u001b[0;34m(\u001b[0m\u001b[0mtv\u001b[0m\u001b[0;34m.\u001b[0m\u001b[0mtransform\u001b[0m\u001b[0;34m(\u001b[0m\u001b[0mx_train\u001b[0m\u001b[0;34m)\u001b[0m\u001b[0;34m,\u001b[0m \u001b[0my_train\u001b[0m\u001b[0;34m)\u001b[0m\u001b[0;34m\u001b[0m\u001b[0;34m\u001b[0m\u001b[0m\n\u001b[1;32m     66\u001b[0m \u001b[0;34m\u001b[0m\u001b[0m\n\u001b[0;32m---> 67\u001b[0;31m     \u001b[0mdf_review\u001b[0m\u001b[0;34m[\u001b[0m\u001b[0;34m'nlp_score'\u001b[0m\u001b[0;34m]\u001b[0m \u001b[0;34m=\u001b[0m \u001b[0mdf_review\u001b[0m\u001b[0;34m[\u001b[0m\u001b[0;34m'评论内容'\u001b[0m\u001b[0;34m]\u001b[0m\u001b[0;34m.\u001b[0m\u001b[0mmap\u001b[0m\u001b[0;34m(\u001b[0m\u001b[0;32mlambda\u001b[0m \u001b[0mx\u001b[0m\u001b[0;34m:\u001b[0m\u001b[0mround\u001b[0m\u001b[0;34m(\u001b[0m\u001b[0mfloat\u001b[0m\u001b[0;34m(\u001b[0m\u001b[0mclassifier\u001b[0m\u001b[0;34m.\u001b[0m\u001b[0mpredict_proba\u001b[0m\u001b[0;34m(\u001b[0m\u001b[0;34m[\u001b[0m\u001b[0mtv\u001b[0m\u001b[0;34m.\u001b[0m\u001b[0mtransform\u001b[0m\u001b[0;34m(\u001b[0m\u001b[0;34m[\u001b[0m\u001b[0mx\u001b[0m\u001b[0;34m]\u001b[0m\u001b[0;34m)\u001b[0m\u001b[0;34m[\u001b[0m\u001b[0;34m:\u001b[0m\u001b[0;34m,\u001b[0m\u001b[0;36m1\u001b[0m\u001b[0;34m]\u001b[0m\u001b[0;34m]\u001b[0m\u001b[0;34m)\u001b[0m\u001b[0;34m,\u001b[0m\u001b[0;36m2\u001b[0m\u001b[0;34m)\u001b[0m\u001b[0;34m)\u001b[0m\u001b[0;34m)\u001b[0m\u001b[0;34m\u001b[0m\u001b[0;34m\u001b[0m\u001b[0m\n\u001b[0m\u001b[1;32m     68\u001b[0m \u001b[0;34m\u001b[0m\u001b[0m\n\u001b[1;32m     69\u001b[0m     \u001b[0;32mreturn\u001b[0m \u001b[0mdf_review\u001b[0m\u001b[0;34m\u001b[0m\u001b[0;34m\u001b[0m\u001b[0m\n",
      "\u001b[0;32m~/.pyenv/versions/3.8.12/envs/lewagon/lib/python3.8/site-packages/pandas/core/series.py\u001b[0m in \u001b[0;36mmap\u001b[0;34m(self, arg, na_action)\u001b[0m\n\u001b[1;32m   4159\u001b[0m         \u001b[0mdtype\u001b[0m\u001b[0;34m:\u001b[0m \u001b[0mobject\u001b[0m\u001b[0;34m\u001b[0m\u001b[0;34m\u001b[0m\u001b[0m\n\u001b[1;32m   4160\u001b[0m         \"\"\"\n\u001b[0;32m-> 4161\u001b[0;31m         \u001b[0mnew_values\u001b[0m \u001b[0;34m=\u001b[0m \u001b[0msuper\u001b[0m\u001b[0;34m(\u001b[0m\u001b[0;34m)\u001b[0m\u001b[0;34m.\u001b[0m\u001b[0m_map_values\u001b[0m\u001b[0;34m(\u001b[0m\u001b[0marg\u001b[0m\u001b[0;34m,\u001b[0m \u001b[0mna_action\u001b[0m\u001b[0;34m=\u001b[0m\u001b[0mna_action\u001b[0m\u001b[0;34m)\u001b[0m\u001b[0;34m\u001b[0m\u001b[0;34m\u001b[0m\u001b[0m\n\u001b[0m\u001b[1;32m   4162\u001b[0m         return self._constructor(new_values, index=self.index).__finalize__(\n\u001b[1;32m   4163\u001b[0m             \u001b[0mself\u001b[0m\u001b[0;34m,\u001b[0m \u001b[0mmethod\u001b[0m\u001b[0;34m=\u001b[0m\u001b[0;34m\"map\"\u001b[0m\u001b[0;34m\u001b[0m\u001b[0;34m\u001b[0m\u001b[0m\n",
      "\u001b[0;32m~/.pyenv/versions/3.8.12/envs/lewagon/lib/python3.8/site-packages/pandas/core/base.py\u001b[0m in \u001b[0;36m_map_values\u001b[0;34m(self, mapper, na_action)\u001b[0m\n\u001b[1;32m    868\u001b[0m \u001b[0;34m\u001b[0m\u001b[0m\n\u001b[1;32m    869\u001b[0m         \u001b[0;31m# mapper is a function\u001b[0m\u001b[0;34m\u001b[0m\u001b[0;34m\u001b[0m\u001b[0;34m\u001b[0m\u001b[0m\n\u001b[0;32m--> 870\u001b[0;31m         \u001b[0mnew_values\u001b[0m \u001b[0;34m=\u001b[0m \u001b[0mmap_f\u001b[0m\u001b[0;34m(\u001b[0m\u001b[0mvalues\u001b[0m\u001b[0;34m,\u001b[0m \u001b[0mmapper\u001b[0m\u001b[0;34m)\u001b[0m\u001b[0;34m\u001b[0m\u001b[0;34m\u001b[0m\u001b[0m\n\u001b[0m\u001b[1;32m    871\u001b[0m \u001b[0;34m\u001b[0m\u001b[0m\n\u001b[1;32m    872\u001b[0m         \u001b[0;32mreturn\u001b[0m \u001b[0mnew_values\u001b[0m\u001b[0;34m\u001b[0m\u001b[0;34m\u001b[0m\u001b[0m\n",
      "\u001b[0;32m~/.pyenv/versions/3.8.12/envs/lewagon/lib/python3.8/site-packages/pandas/_libs/lib.pyx\u001b[0m in \u001b[0;36mpandas._libs.lib.map_infer\u001b[0;34m()\u001b[0m\n",
      "\u001b[0;32m~/code/WhatForToday/WhatsForTodayModel/nlp.py\u001b[0m in \u001b[0;36m<lambda>\u001b[0;34m(x)\u001b[0m\n\u001b[1;32m     65\u001b[0m     \u001b[0mclassifier\u001b[0m\u001b[0;34m.\u001b[0m\u001b[0mfit\u001b[0m\u001b[0;34m(\u001b[0m\u001b[0mtv\u001b[0m\u001b[0;34m.\u001b[0m\u001b[0mtransform\u001b[0m\u001b[0;34m(\u001b[0m\u001b[0mx_train\u001b[0m\u001b[0;34m)\u001b[0m\u001b[0;34m,\u001b[0m \u001b[0my_train\u001b[0m\u001b[0;34m)\u001b[0m\u001b[0;34m\u001b[0m\u001b[0;34m\u001b[0m\u001b[0m\n\u001b[1;32m     66\u001b[0m \u001b[0;34m\u001b[0m\u001b[0m\n\u001b[0;32m---> 67\u001b[0;31m     \u001b[0mdf_review\u001b[0m\u001b[0;34m[\u001b[0m\u001b[0;34m'nlp_score'\u001b[0m\u001b[0;34m]\u001b[0m \u001b[0;34m=\u001b[0m \u001b[0mdf_review\u001b[0m\u001b[0;34m[\u001b[0m\u001b[0;34m'评论内容'\u001b[0m\u001b[0;34m]\u001b[0m\u001b[0;34m.\u001b[0m\u001b[0mmap\u001b[0m\u001b[0;34m(\u001b[0m\u001b[0;32mlambda\u001b[0m \u001b[0mx\u001b[0m\u001b[0;34m:\u001b[0m\u001b[0mround\u001b[0m\u001b[0;34m(\u001b[0m\u001b[0mfloat\u001b[0m\u001b[0;34m(\u001b[0m\u001b[0mclassifier\u001b[0m\u001b[0;34m.\u001b[0m\u001b[0mpredict_proba\u001b[0m\u001b[0;34m(\u001b[0m\u001b[0;34m[\u001b[0m\u001b[0mtv\u001b[0m\u001b[0;34m.\u001b[0m\u001b[0mtransform\u001b[0m\u001b[0;34m(\u001b[0m\u001b[0;34m[\u001b[0m\u001b[0mx\u001b[0m\u001b[0;34m]\u001b[0m\u001b[0;34m)\u001b[0m\u001b[0;34m[\u001b[0m\u001b[0;34m:\u001b[0m\u001b[0;34m,\u001b[0m\u001b[0;36m1\u001b[0m\u001b[0;34m]\u001b[0m\u001b[0;34m]\u001b[0m\u001b[0;34m)\u001b[0m\u001b[0;34m,\u001b[0m\u001b[0;36m2\u001b[0m\u001b[0;34m)\u001b[0m\u001b[0;34m)\u001b[0m\u001b[0;34m)\u001b[0m\u001b[0;34m\u001b[0m\u001b[0;34m\u001b[0m\u001b[0m\n\u001b[0m\u001b[1;32m     68\u001b[0m \u001b[0;34m\u001b[0m\u001b[0m\n\u001b[1;32m     69\u001b[0m     \u001b[0;32mreturn\u001b[0m \u001b[0mdf_review\u001b[0m\u001b[0;34m\u001b[0m\u001b[0;34m\u001b[0m\u001b[0m\n",
      "\u001b[0;32m~/.pyenv/versions/3.8.12/envs/lewagon/lib/python3.8/site-packages/sklearn/naive_bayes.py\u001b[0m in \u001b[0;36mpredict_proba\u001b[0;34m(self, X)\u001b[0m\n\u001b[1;32m    113\u001b[0m             \u001b[0morder\u001b[0m\u001b[0;34m,\u001b[0m \u001b[0;32mas\u001b[0m \u001b[0mthey\u001b[0m \u001b[0mappear\u001b[0m \u001b[0;32min\u001b[0m \u001b[0mthe\u001b[0m \u001b[0mattribute\u001b[0m \u001b[0;34m:\u001b[0m\u001b[0mterm\u001b[0m\u001b[0;34m:\u001b[0m\u001b[0;31m`\u001b[0m\u001b[0mclasses_\u001b[0m\u001b[0;31m`\u001b[0m\u001b[0;34m.\u001b[0m\u001b[0;34m\u001b[0m\u001b[0;34m\u001b[0m\u001b[0m\n\u001b[1;32m    114\u001b[0m         \"\"\"\n\u001b[0;32m--> 115\u001b[0;31m         \u001b[0;32mreturn\u001b[0m \u001b[0mnp\u001b[0m\u001b[0;34m.\u001b[0m\u001b[0mexp\u001b[0m\u001b[0;34m(\u001b[0m\u001b[0mself\u001b[0m\u001b[0;34m.\u001b[0m\u001b[0mpredict_log_proba\u001b[0m\u001b[0;34m(\u001b[0m\u001b[0mX\u001b[0m\u001b[0;34m)\u001b[0m\u001b[0;34m)\u001b[0m\u001b[0;34m\u001b[0m\u001b[0;34m\u001b[0m\u001b[0m\n\u001b[0m\u001b[1;32m    116\u001b[0m \u001b[0;34m\u001b[0m\u001b[0m\n\u001b[1;32m    117\u001b[0m \u001b[0;34m\u001b[0m\u001b[0m\n",
      "\u001b[0;32m~/.pyenv/versions/3.8.12/envs/lewagon/lib/python3.8/site-packages/sklearn/naive_bayes.py\u001b[0m in \u001b[0;36mpredict_log_proba\u001b[0;34m(self, X)\u001b[0m\n\u001b[1;32m     92\u001b[0m         \"\"\"\n\u001b[1;32m     93\u001b[0m         \u001b[0mcheck_is_fitted\u001b[0m\u001b[0;34m(\u001b[0m\u001b[0mself\u001b[0m\u001b[0;34m)\u001b[0m\u001b[0;34m\u001b[0m\u001b[0;34m\u001b[0m\u001b[0m\n\u001b[0;32m---> 94\u001b[0;31m         \u001b[0mX\u001b[0m \u001b[0;34m=\u001b[0m \u001b[0mself\u001b[0m\u001b[0;34m.\u001b[0m\u001b[0m_check_X\u001b[0m\u001b[0;34m(\u001b[0m\u001b[0mX\u001b[0m\u001b[0;34m)\u001b[0m\u001b[0;34m\u001b[0m\u001b[0;34m\u001b[0m\u001b[0m\n\u001b[0m\u001b[1;32m     95\u001b[0m         \u001b[0mjll\u001b[0m \u001b[0;34m=\u001b[0m \u001b[0mself\u001b[0m\u001b[0;34m.\u001b[0m\u001b[0m_joint_log_likelihood\u001b[0m\u001b[0;34m(\u001b[0m\u001b[0mX\u001b[0m\u001b[0;34m)\u001b[0m\u001b[0;34m\u001b[0m\u001b[0;34m\u001b[0m\u001b[0m\n\u001b[1;32m     96\u001b[0m         \u001b[0;31m# normalize by P(x) = P(f_1, ..., f_n)\u001b[0m\u001b[0;34m\u001b[0m\u001b[0;34m\u001b[0m\u001b[0;34m\u001b[0m\u001b[0m\n",
      "\u001b[0;32m~/.pyenv/versions/3.8.12/envs/lewagon/lib/python3.8/site-packages/sklearn/naive_bayes.py\u001b[0m in \u001b[0;36m_check_X\u001b[0;34m(self, X)\u001b[0m\n\u001b[1;32m    471\u001b[0m \u001b[0;34m\u001b[0m\u001b[0m\n\u001b[1;32m    472\u001b[0m     \u001b[0;32mdef\u001b[0m \u001b[0m_check_X\u001b[0m\u001b[0;34m(\u001b[0m\u001b[0mself\u001b[0m\u001b[0;34m,\u001b[0m \u001b[0mX\u001b[0m\u001b[0;34m)\u001b[0m\u001b[0;34m:\u001b[0m\u001b[0;34m\u001b[0m\u001b[0;34m\u001b[0m\u001b[0m\n\u001b[0;32m--> 473\u001b[0;31m         \u001b[0;32mreturn\u001b[0m \u001b[0mcheck_array\u001b[0m\u001b[0;34m(\u001b[0m\u001b[0mX\u001b[0m\u001b[0;34m,\u001b[0m \u001b[0maccept_sparse\u001b[0m\u001b[0;34m=\u001b[0m\u001b[0;34m'csr'\u001b[0m\u001b[0;34m)\u001b[0m\u001b[0;34m\u001b[0m\u001b[0;34m\u001b[0m\u001b[0m\n\u001b[0m\u001b[1;32m    474\u001b[0m \u001b[0;34m\u001b[0m\u001b[0m\n\u001b[1;32m    475\u001b[0m     \u001b[0;32mdef\u001b[0m \u001b[0m_check_X_y\u001b[0m\u001b[0;34m(\u001b[0m\u001b[0mself\u001b[0m\u001b[0;34m,\u001b[0m \u001b[0mX\u001b[0m\u001b[0;34m,\u001b[0m \u001b[0my\u001b[0m\u001b[0;34m)\u001b[0m\u001b[0;34m:\u001b[0m\u001b[0;34m\u001b[0m\u001b[0;34m\u001b[0m\u001b[0m\n",
      "\u001b[0;32m~/.pyenv/versions/3.8.12/envs/lewagon/lib/python3.8/site-packages/sklearn/utils/validation.py\u001b[0m in \u001b[0;36mcheck_array\u001b[0;34m(array, accept_sparse, accept_large_sparse, dtype, order, copy, force_all_finite, ensure_2d, allow_nd, ensure_min_samples, ensure_min_features, warn_on_dtype, estimator)\u001b[0m\n\u001b[1;32m    534\u001b[0m             \u001b[0;31m# If input is 1D raise error\u001b[0m\u001b[0;34m\u001b[0m\u001b[0;34m\u001b[0m\u001b[0;34m\u001b[0m\u001b[0m\n\u001b[1;32m    535\u001b[0m             \u001b[0;32mif\u001b[0m \u001b[0marray\u001b[0m\u001b[0;34m.\u001b[0m\u001b[0mndim\u001b[0m \u001b[0;34m==\u001b[0m \u001b[0;36m1\u001b[0m\u001b[0;34m:\u001b[0m\u001b[0;34m\u001b[0m\u001b[0;34m\u001b[0m\u001b[0m\n\u001b[0;32m--> 536\u001b[0;31m                 raise ValueError(\n\u001b[0m\u001b[1;32m    537\u001b[0m                     \u001b[0;34m\"Expected 2D array, got 1D array instead:\\narray={}.\\n\"\u001b[0m\u001b[0;34m\u001b[0m\u001b[0;34m\u001b[0m\u001b[0m\n\u001b[1;32m    538\u001b[0m                     \u001b[0;34m\"Reshape your data either using array.reshape(-1, 1) if \"\u001b[0m\u001b[0;34m\u001b[0m\u001b[0;34m\u001b[0m\u001b[0m\n",
      "\u001b[0;31mValueError\u001b[0m: Expected 2D array, got 1D array instead:\narray=[<1x1 sparse matrix of type '<class 'numpy.float64'>'\n\twith 0 stored elements in Compressed Sparse Row format>].\nReshape your data either using array.reshape(-1, 1) if your data has a single feature or array.reshape(1, -1) if it contains a single sample."
     ]
    }
   ],
   "source": [
    "nlp_score(\"raw_data/dianping_review_test.csv\")"
   ]
  },
  {
   "cell_type": "code",
   "execution_count": null,
   "id": "74142551-a764-4444-bbaa-3f14bf25c8bb",
   "metadata": {},
   "outputs": [],
   "source": []
  }
 ],
 "metadata": {
  "kernelspec": {
   "display_name": "Python 3 (ipykernel)",
   "language": "python",
   "name": "python3"
  },
  "language_info": {
   "codemirror_mode": {
    "name": "ipython",
    "version": 3
   },
   "file_extension": ".py",
   "mimetype": "text/x-python",
   "name": "python",
   "nbconvert_exporter": "python",
   "pygments_lexer": "ipython3",
   "version": "3.8.12"
  }
 },
 "nbformat": 4,
 "nbformat_minor": 5
}

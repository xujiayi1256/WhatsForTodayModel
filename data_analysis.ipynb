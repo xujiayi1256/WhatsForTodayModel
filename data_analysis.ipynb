{
 "cells": [
  {
   "cell_type": "code",
   "execution_count": 1,
   "id": "3143e796-57dc-4946-a235-d58effd914d0",
   "metadata": {},
   "outputs": [],
   "source": [
    "import matplotlib.pyplot as plt\n",
    "import os\n",
    "import pandas as pd\n",
    "import numpy as np\n",
    "import simplejson"
   ]
  },
  {
   "cell_type": "code",
   "execution_count": 2,
   "id": "becee6ee-13f6-4d90-99e9-adc36bd05389",
   "metadata": {},
   "outputs": [],
   "source": [
    "from clean import split_score,split_review,run"
   ]
  },
  {
   "cell_type": "code",
   "execution_count": 86,
   "id": "894b9aef-5ad8-4ed6-a442-ba85e0fab9b6",
   "metadata": {},
   "outputs": [
    {
     "ename": "JSONDecodeError",
     "evalue": "Expecting value: line 1 column 1 (char 0)",
     "output_type": "error",
     "traceback": [
      "\u001b[0;31m---------------------------------------------------------------------------\u001b[0m",
      "\u001b[0;31mJSONDecodeError\u001b[0m                           Traceback (most recent call last)",
      "\u001b[0;32m/tmp/ipykernel_13870/506567413.py\u001b[0m in \u001b[0;36m<module>\u001b[0;34m\u001b[0m\n\u001b[0;32m----> 1\u001b[0;31m \u001b[0mdf\u001b[0m \u001b[0;34m=\u001b[0m \u001b[0mrun\u001b[0m\u001b[0;34m(\u001b[0m\u001b[0;34m\"dianping_info_test.csv\"\u001b[0m\u001b[0;34m,\u001b[0m\u001b[0;34m\"dianping_review_test.csv\"\u001b[0m\u001b[0;34m)\u001b[0m\u001b[0;34m\u001b[0m\u001b[0;34m\u001b[0m\u001b[0m\n\u001b[0m\u001b[1;32m      2\u001b[0m \u001b[0mdf\u001b[0m\u001b[0;34m.\u001b[0m\u001b[0mcolumns\u001b[0m\u001b[0;34m\u001b[0m\u001b[0;34m\u001b[0m\u001b[0m\n",
      "\u001b[0;32m~/code/WhatForToday/WhatsForTodayModel/clean.py\u001b[0m in \u001b[0;36mrun\u001b[0;34m(path1, path2)\u001b[0m\n\u001b[1;32m     69\u001b[0m     \u001b[0mdf_info\u001b[0m \u001b[0;34m=\u001b[0m \u001b[0mpd\u001b[0m\u001b[0;34m.\u001b[0m\u001b[0mread_csv\u001b[0m\u001b[0;34m(\u001b[0m\u001b[0mos\u001b[0m\u001b[0;34m.\u001b[0m\u001b[0mpath\u001b[0m\u001b[0;34m.\u001b[0m\u001b[0mjoin\u001b[0m\u001b[0;34m(\u001b[0m\u001b[0mos\u001b[0m\u001b[0;34m.\u001b[0m\u001b[0mgetcwd\u001b[0m\u001b[0;34m(\u001b[0m\u001b[0;34m)\u001b[0m\u001b[0;34m,\u001b[0m\u001b[0;34m'raw_data'\u001b[0m\u001b[0;34m,\u001b[0m\u001b[0mpath1\u001b[0m\u001b[0;34m)\u001b[0m\u001b[0;34m)\u001b[0m\u001b[0;34m\u001b[0m\u001b[0;34m\u001b[0m\u001b[0m\n\u001b[1;32m     70\u001b[0m     \u001b[0mdf_review\u001b[0m \u001b[0;34m=\u001b[0m \u001b[0mpd\u001b[0m\u001b[0;34m.\u001b[0m\u001b[0mread_csv\u001b[0m\u001b[0;34m(\u001b[0m\u001b[0mos\u001b[0m\u001b[0;34m.\u001b[0m\u001b[0mpath\u001b[0m\u001b[0;34m.\u001b[0m\u001b[0mjoin\u001b[0m\u001b[0;34m(\u001b[0m\u001b[0mos\u001b[0m\u001b[0;34m.\u001b[0m\u001b[0mgetcwd\u001b[0m\u001b[0;34m(\u001b[0m\u001b[0;34m)\u001b[0m\u001b[0;34m,\u001b[0m\u001b[0;34m'raw_data'\u001b[0m\u001b[0;34m,\u001b[0m\u001b[0mpath2\u001b[0m\u001b[0;34m)\u001b[0m\u001b[0;34m)\u001b[0m\u001b[0;34m\u001b[0m\u001b[0;34m\u001b[0m\u001b[0m\n\u001b[0;32m---> 71\u001b[0;31m     \u001b[0mdf\u001b[0m \u001b[0;34m=\u001b[0m \u001b[0mpd\u001b[0m\u001b[0;34m.\u001b[0m\u001b[0mmerge\u001b[0m\u001b[0;34m(\u001b[0m\u001b[0msplit_dishes\u001b[0m\u001b[0;34m(\u001b[0m\u001b[0msplit_score\u001b[0m\u001b[0;34m(\u001b[0m\u001b[0mdf_info\u001b[0m\u001b[0;34m)\u001b[0m\u001b[0;34m)\u001b[0m\u001b[0;34m,\u001b[0m\u001b[0msplit_review\u001b[0m\u001b[0;34m(\u001b[0m\u001b[0mdf_review\u001b[0m\u001b[0;34m)\u001b[0m\u001b[0;34m)\u001b[0m\u001b[0;34m\u001b[0m\u001b[0;34m\u001b[0m\u001b[0m\n\u001b[0m\u001b[1;32m     72\u001b[0m     \u001b[0mdf\u001b[0m \u001b[0;34m=\u001b[0m \u001b[0mchn_to_eng\u001b[0m\u001b[0;34m(\u001b[0m\u001b[0mdf\u001b[0m\u001b[0;34m)\u001b[0m\u001b[0;34m\u001b[0m\u001b[0;34m\u001b[0m\u001b[0m\n\u001b[1;32m     73\u001b[0m     \u001b[0;32mreturn\u001b[0m \u001b[0mdf\u001b[0m\u001b[0;34m\u001b[0m\u001b[0;34m\u001b[0m\u001b[0m\n",
      "\u001b[0;32m~/code/WhatForToday/WhatsForTodayModel/clean.py\u001b[0m in \u001b[0;36msplit_score\u001b[0;34m(df)\u001b[0m\n\u001b[1;32m     10\u001b[0m     \u001b[0mx2\u001b[0m \u001b[0;34m=\u001b[0m \u001b[0;34m[\u001b[0m\u001b[0;34m]\u001b[0m\u001b[0;34m\u001b[0m\u001b[0;34m\u001b[0m\u001b[0m\n\u001b[1;32m     11\u001b[0m     \u001b[0;32mfor\u001b[0m \u001b[0midx\u001b[0m\u001b[0;34m,\u001b[0m \u001b[0mrow\u001b[0m \u001b[0;32min\u001b[0m \u001b[0mdf\u001b[0m\u001b[0;34m.\u001b[0m\u001b[0miterrows\u001b[0m\u001b[0;34m(\u001b[0m\u001b[0;34m)\u001b[0m\u001b[0;34m:\u001b[0m\u001b[0;34m\u001b[0m\u001b[0;34m\u001b[0m\u001b[0m\n\u001b[0;32m---> 12\u001b[0;31m         \u001b[0mtmp\u001b[0m \u001b[0;34m=\u001b[0m \u001b[0msimplejson\u001b[0m\u001b[0;34m.\u001b[0m\u001b[0mloads\u001b[0m\u001b[0;34m(\u001b[0m\u001b[0mrow\u001b[0m\u001b[0;34m[\u001b[0m\u001b[0;34m'店铺均分'\u001b[0m\u001b[0;34m]\u001b[0m\u001b[0;34m)\u001b[0m\u001b[0;34m\u001b[0m\u001b[0;34m\u001b[0m\u001b[0m\n\u001b[0m\u001b[1;32m     13\u001b[0m         \u001b[0mx0\u001b[0m\u001b[0;34m.\u001b[0m\u001b[0mappend\u001b[0m\u001b[0;34m(\u001b[0m\u001b[0mtmp\u001b[0m\u001b[0;34m[\u001b[0m\u001b[0;34m'口味'\u001b[0m\u001b[0;34m]\u001b[0m\u001b[0;34m)\u001b[0m\u001b[0;34m\u001b[0m\u001b[0;34m\u001b[0m\u001b[0m\n\u001b[1;32m     14\u001b[0m         \u001b[0mx1\u001b[0m\u001b[0;34m.\u001b[0m\u001b[0mappend\u001b[0m\u001b[0;34m(\u001b[0m\u001b[0mtmp\u001b[0m\u001b[0;34m[\u001b[0m\u001b[0;34m'环境'\u001b[0m\u001b[0;34m]\u001b[0m\u001b[0;34m)\u001b[0m\u001b[0;34m\u001b[0m\u001b[0;34m\u001b[0m\u001b[0m\n",
      "\u001b[0;32m~/.pyenv/versions/3.8.12/envs/lewagon/lib/python3.8/site-packages/simplejson/__init__.py\u001b[0m in \u001b[0;36mloads\u001b[0;34m(s, encoding, cls, object_hook, parse_float, parse_int, parse_constant, object_pairs_hook, use_decimal, **kw)\u001b[0m\n\u001b[1;32m    523\u001b[0m             \u001b[0mparse_constant\u001b[0m \u001b[0;32mis\u001b[0m \u001b[0;32mNone\u001b[0m \u001b[0;32mand\u001b[0m \u001b[0mobject_pairs_hook\u001b[0m \u001b[0;32mis\u001b[0m \u001b[0;32mNone\u001b[0m\u001b[0;34m\u001b[0m\u001b[0;34m\u001b[0m\u001b[0m\n\u001b[1;32m    524\u001b[0m             and not use_decimal and not kw):\n\u001b[0;32m--> 525\u001b[0;31m         \u001b[0;32mreturn\u001b[0m \u001b[0m_default_decoder\u001b[0m\u001b[0;34m.\u001b[0m\u001b[0mdecode\u001b[0m\u001b[0;34m(\u001b[0m\u001b[0ms\u001b[0m\u001b[0;34m)\u001b[0m\u001b[0;34m\u001b[0m\u001b[0;34m\u001b[0m\u001b[0m\n\u001b[0m\u001b[1;32m    526\u001b[0m     \u001b[0;32mif\u001b[0m \u001b[0mcls\u001b[0m \u001b[0;32mis\u001b[0m \u001b[0;32mNone\u001b[0m\u001b[0;34m:\u001b[0m\u001b[0;34m\u001b[0m\u001b[0;34m\u001b[0m\u001b[0m\n\u001b[1;32m    527\u001b[0m         \u001b[0mcls\u001b[0m \u001b[0;34m=\u001b[0m \u001b[0mJSONDecoder\u001b[0m\u001b[0;34m\u001b[0m\u001b[0;34m\u001b[0m\u001b[0m\n",
      "\u001b[0;32m~/.pyenv/versions/3.8.12/envs/lewagon/lib/python3.8/site-packages/simplejson/decoder.py\u001b[0m in \u001b[0;36mdecode\u001b[0;34m(self, s, _w, _PY3)\u001b[0m\n\u001b[1;32m    368\u001b[0m         \u001b[0;32mif\u001b[0m \u001b[0m_PY3\u001b[0m \u001b[0;32mand\u001b[0m \u001b[0misinstance\u001b[0m\u001b[0;34m(\u001b[0m\u001b[0ms\u001b[0m\u001b[0;34m,\u001b[0m \u001b[0mbytes\u001b[0m\u001b[0;34m)\u001b[0m\u001b[0;34m:\u001b[0m\u001b[0;34m\u001b[0m\u001b[0;34m\u001b[0m\u001b[0m\n\u001b[1;32m    369\u001b[0m             \u001b[0ms\u001b[0m \u001b[0;34m=\u001b[0m \u001b[0mstr\u001b[0m\u001b[0;34m(\u001b[0m\u001b[0ms\u001b[0m\u001b[0;34m,\u001b[0m \u001b[0mself\u001b[0m\u001b[0;34m.\u001b[0m\u001b[0mencoding\u001b[0m\u001b[0;34m)\u001b[0m\u001b[0;34m\u001b[0m\u001b[0;34m\u001b[0m\u001b[0m\n\u001b[0;32m--> 370\u001b[0;31m         \u001b[0mobj\u001b[0m\u001b[0;34m,\u001b[0m \u001b[0mend\u001b[0m \u001b[0;34m=\u001b[0m \u001b[0mself\u001b[0m\u001b[0;34m.\u001b[0m\u001b[0mraw_decode\u001b[0m\u001b[0;34m(\u001b[0m\u001b[0ms\u001b[0m\u001b[0;34m)\u001b[0m\u001b[0;34m\u001b[0m\u001b[0;34m\u001b[0m\u001b[0m\n\u001b[0m\u001b[1;32m    371\u001b[0m         \u001b[0mend\u001b[0m \u001b[0;34m=\u001b[0m \u001b[0m_w\u001b[0m\u001b[0;34m(\u001b[0m\u001b[0ms\u001b[0m\u001b[0;34m,\u001b[0m \u001b[0mend\u001b[0m\u001b[0;34m)\u001b[0m\u001b[0;34m.\u001b[0m\u001b[0mend\u001b[0m\u001b[0;34m(\u001b[0m\u001b[0;34m)\u001b[0m\u001b[0;34m\u001b[0m\u001b[0;34m\u001b[0m\u001b[0m\n\u001b[1;32m    372\u001b[0m         \u001b[0;32mif\u001b[0m \u001b[0mend\u001b[0m \u001b[0;34m!=\u001b[0m \u001b[0mlen\u001b[0m\u001b[0;34m(\u001b[0m\u001b[0ms\u001b[0m\u001b[0;34m)\u001b[0m\u001b[0;34m:\u001b[0m\u001b[0;34m\u001b[0m\u001b[0;34m\u001b[0m\u001b[0m\n",
      "\u001b[0;32m~/.pyenv/versions/3.8.12/envs/lewagon/lib/python3.8/site-packages/simplejson/decoder.py\u001b[0m in \u001b[0;36mraw_decode\u001b[0;34m(self, s, idx, _w, _PY3)\u001b[0m\n\u001b[1;32m    398\u001b[0m             \u001b[0;32melif\u001b[0m \u001b[0mord0\u001b[0m \u001b[0;34m==\u001b[0m \u001b[0;36m0xef\u001b[0m \u001b[0;32mand\u001b[0m \u001b[0ms\u001b[0m\u001b[0;34m[\u001b[0m\u001b[0midx\u001b[0m\u001b[0;34m:\u001b[0m\u001b[0midx\u001b[0m \u001b[0;34m+\u001b[0m \u001b[0;36m3\u001b[0m\u001b[0;34m]\u001b[0m \u001b[0;34m==\u001b[0m \u001b[0;34m'\\xef\\xbb\\xbf'\u001b[0m\u001b[0;34m:\u001b[0m\u001b[0;34m\u001b[0m\u001b[0;34m\u001b[0m\u001b[0m\n\u001b[1;32m    399\u001b[0m                 \u001b[0midx\u001b[0m \u001b[0;34m+=\u001b[0m \u001b[0;36m3\u001b[0m\u001b[0;34m\u001b[0m\u001b[0;34m\u001b[0m\u001b[0m\n\u001b[0;32m--> 400\u001b[0;31m         \u001b[0;32mreturn\u001b[0m \u001b[0mself\u001b[0m\u001b[0;34m.\u001b[0m\u001b[0mscan_once\u001b[0m\u001b[0;34m(\u001b[0m\u001b[0ms\u001b[0m\u001b[0;34m,\u001b[0m \u001b[0midx\u001b[0m\u001b[0;34m=\u001b[0m\u001b[0m_w\u001b[0m\u001b[0;34m(\u001b[0m\u001b[0ms\u001b[0m\u001b[0;34m,\u001b[0m \u001b[0midx\u001b[0m\u001b[0;34m)\u001b[0m\u001b[0;34m.\u001b[0m\u001b[0mend\u001b[0m\u001b[0;34m(\u001b[0m\u001b[0;34m)\u001b[0m\u001b[0;34m)\u001b[0m\u001b[0;34m\u001b[0m\u001b[0;34m\u001b[0m\u001b[0m\n\u001b[0m",
      "\u001b[0;31mJSONDecodeError\u001b[0m: Expecting value: line 1 column 1 (char 0)"
     ]
    }
   ],
   "source": [
    "df = run(\"dianping_info_test.csv\",\"dianping_review_test.csv\")\n",
    "df.columns"
   ]
  },
  {
   "cell_type": "code",
   "execution_count": null,
   "id": "9130e278-9298-4603-9b52-ce661d267f3b",
   "metadata": {},
   "outputs": [],
   "source": [
    "df[\"no_queues%\"] = df[\"no_queues\"]/df[\"total_review_number\"]\n",
    "df.head()"
   ]
  },
  {
   "cell_type": "code",
   "execution_count": null,
   "id": "e822ece4-6e1d-4a0f-b438-4f17714164f4",
   "metadata": {
    "tags": []
   },
   "outputs": [],
   "source": [
    "df.tag1.value_counts()"
   ]
  },
  {
   "cell_type": "code",
   "execution_count": null,
   "id": "130b6e94-7fef-4841-ac01-b85d082c9a1d",
   "metadata": {},
   "outputs": [],
   "source": [
    "from sklearn.preprocessing import StandardScaler\n",
    "import matplotlib.pyplot as plt\n",
    "import seaborn as sns\n",
    "from string import ascii_letters\n",
    "import numpy as np\n"
   ]
  },
  {
   "cell_type": "code",
   "execution_count": null,
   "id": "bec4d6ba-feb1-490c-ae6c-74acbb0b44e6",
   "metadata": {
    "tags": []
   },
   "outputs": [],
   "source": [
    "plt.figure(figsize=(20, 4))\n",
    "\n",
    "plt.subplot(1, 4, 1)\n",
    "plt.title('Total Score')\n",
    "sns.histplot(df['total_review_score'], kde=True,bins=10)\n",
    "\n",
    "plt.subplot(1, 4, 2)\n",
    "plt.title('Taste Score')\n",
    "sns.histplot(df['taste'], kde=True,bins=10, color='orange')\n",
    "\n",
    "plt.subplot(1, 4, 3)\n",
    "plt.title('Surroundings Score')\n",
    "sns.histplot(df['surroundings'], kde=True, color='r',bins=10)\n",
    "\n",
    "plt.subplot(1, 4, 4)\n",
    "plt.title('Service Score')\n",
    "sns.histplot(df['service'], kde=True, color='g',bins=10);"
   ]
  },
  {
   "cell_type": "code",
   "execution_count": null,
   "id": "9f6da451-b430-4191-814b-66ac31514ec4",
   "metadata": {
    "tags": []
   },
   "outputs": [],
   "source": [
    "df.dtypes"
   ]
  },
  {
   "cell_type": "code",
   "execution_count": null,
   "id": "018e5999-4ec4-4f17-8d39-628aa38bdf6f",
   "metadata": {},
   "outputs": [],
   "source": [
    "df_analysis = df.drop(columns=['restaurant_id','address','tag1','tag2','recommendation_1','recommendation_2','recommendation_3','restaurant'])\n",
    "df_analysis.head()"
   ]
  },
  {
   "cell_type": "code",
   "execution_count": null,
   "id": "8e2329eb-faa5-4664-ad1e-3f757536deb5",
   "metadata": {
    "tags": []
   },
   "outputs": [],
   "source": [
    "from sklearn.preprocessing import StandardScaler\n",
    "\n",
    "scaler = StandardScaler()\n",
    "scaler.fit(df_analysis)\n",
    "df_transformed = pd.DataFrame(scaler.transform(df_analysis), columns = df_analysis.columns)\n",
    "df_transformed.head()"
   ]
  },
  {
   "cell_type": "code",
   "execution_count": null,
   "id": "3051e865-d908-4bfb-814c-eed327805041",
   "metadata": {},
   "outputs": [],
   "source": [
    "corrMatrix = round(df_transformed.corr(),2)\n",
    "plt.figure(figsize=(14, 10))\n",
    "plt.title(\"Features Correlation\",fontsize=20)\n",
    "mask = np.triu(np.ones_like(corrMatrix, dtype=bool))\n",
    "cmap = sns.color_palette(\"mako\", as_cmap=True)\n",
    "sns.heatmap(corrMatrix, annot=True, cmap=cmap, mask=mask)\n",
    "plt.show();"
   ]
  },
  {
   "cell_type": "code",
   "execution_count": null,
   "id": "7476b804-189c-4055-9965-0ec31fcc1305",
   "metadata": {},
   "outputs": [],
   "source": [
    "# Try different classification techniques\n",
    "from sklearn.model_selection import train_test_split\n",
    "from sklearn.linear_model import LinearRegression\n",
    "\n",
    "linear = LinearRegression()"
   ]
  },
  {
   "cell_type": "code",
   "execution_count": null,
   "id": "bfe49f2f-ad8d-4093-a49f-30d3b26b3b51",
   "metadata": {},
   "outputs": [],
   "source": [
    "df_features = df_transformed.drop('total_review_score',axis = 1)\n",
    "df_target = df_transformed['total_review_score']\n",
    "\n",
    "X_train, X_test, y_train, y_test = train_test_split(df_features, df_target, test_size = 0.2, random_state = 10,\\\n",
    "                                                    stratify = df_target)"
   ]
  },
  {
   "cell_type": "code",
   "execution_count": null,
   "id": "b121362e-a8eb-4a96-a78f-a5f313f02b3a",
   "metadata": {},
   "outputs": [],
   "source": [
    "linear.fit(X_train,list(y_train.values))\n",
    "y_pred = linear.predict(X_test)\n",
    "print(f'model score on training data: {linear.score(X_train, y_train)}')\n",
    "print(f'model score on testing data: {linear.score(X_test, y_test)}')"
   ]
  },
  {
   "cell_type": "code",
   "execution_count": null,
   "id": "b0763b98-02cd-48ef-965d-090a94a92269",
   "metadata": {},
   "outputs": [],
   "source": [
    "from sklearn.linear_model import RidgeCV\n",
    "\n",
    "ridge = RidgeCV()\n",
    "ridge.fit(X_train, y_train)\n",
    "\n",
    "print(f'model score on training data: {ridge.score(X_train, y_train)}')\n",
    "print(f'model score on testing data: {ridge.score(X_test, y_test)}')"
   ]
  },
  {
   "cell_type": "code",
   "execution_count": null,
   "id": "40ba5299-8f33-4261-b2e6-bd91d3941d48",
   "metadata": {},
   "outputs": [],
   "source": [
    "df_info = pd.read_excel(\"raw data/dianping_info.xlsx\")\n",
    "df_info = split_score(df_info)"
   ]
  },
  {
   "cell_type": "code",
   "execution_count": null,
   "id": "e34f5614-52d1-47d2-bfa3-559ac887c213",
   "metadata": {},
   "outputs": [],
   "source": [
    "dishes_list=df_info['推荐菜'].tolist()\n",
    "dishes_list[1]"
   ]
  },
  {
   "cell_type": "code",
   "execution_count": null,
   "id": "387b098e-a3ad-44fc-9fb8-f852602a9484",
   "metadata": {},
   "outputs": [],
   "source": [
    "#3，分割组合成新列表\n",
    "dishes_list_n=[]\n",
    "for j in range(0,len(dishes_list)):\n",
    "    for i in dishes_list[j].split(' '):\n",
    "        dishes_list_n.append(i)\n",
    "#4,清洗新列表的标点符号，便于后续排序计数\n",
    "for i in range(0,len(dishes_list_n)):\n",
    "    dishes_list_n[i]=dishes_list_n[i].replace(\"'\",\" \")\n",
    "    dishes_list_n[i]=dishes_list_n[i].replace(\"[\",\" \")\n",
    "    dishes_list_n[i]=dishes_list_n[i].replace(\"]\",\" \")\n",
    "    dishes_list_n[i]=dishes_list_n[i].replace(\" \",\"\")\n",
    "    dishes_list_n[i]=dishes_list_n[i].replace(\",\",\"\")\n",
    "    dishes_list_n[i]=dishes_list_n[i].replace(\"……\",\"\")\n",
    "#5,列表排序\n",
    "dishes_list_n.sort()\n",
    "#6,统计次数\n",
    "dish_times=pd.value_counts(dishes_list_n).reset_index().rename(columns={'index':'推荐餐点',0:'被推荐次数'})\n",
    "dish_times"
   ]
  },
  {
   "cell_type": "code",
   "execution_count": null,
   "id": "f734c39e-1b80-4b6e-8bcb-0ddf81f8c4a4",
   "metadata": {},
   "outputs": [],
   "source": [
    "from wordcloud import WordCloud, ImageColorGenerator\n",
    "\n",
    "# Start with one review:\n",
    "\n",
    "text=\" \".join(i for i in dish_times['推荐餐点'])\n",
    "\n",
    "# Create and generate a word cloud image:\n",
    "wordcloud = WordCloud().generate(text)\n",
    "\n",
    "# Display the generated image:\n",
    "plt.imshow(wordcloud, interpolation='bilinear')\n",
    "plt.axis(\"off\")\n",
    "plt.show()"
   ]
  },
  {
   "cell_type": "code",
   "execution_count": 4,
   "id": "51043737-6981-416c-a54c-5d622cd5407c",
   "metadata": {},
   "outputs": [
    {
     "data": {
      "text/html": [
       "<div>\n",
       "<style scoped>\n",
       "    .dataframe tbody tr th:only-of-type {\n",
       "        vertical-align: middle;\n",
       "    }\n",
       "\n",
       "    .dataframe tbody tr th {\n",
       "        vertical-align: top;\n",
       "    }\n",
       "\n",
       "    .dataframe thead th {\n",
       "        text-align: right;\n",
       "    }\n",
       "</style>\n",
       "<table border=\"1\" class=\"dataframe\">\n",
       "  <thead>\n",
       "    <tr style=\"text-align: right;\">\n",
       "      <th></th>\n",
       "      <th>cus_id</th>\n",
       "      <th>comment_time</th>\n",
       "      <th>comment_star</th>\n",
       "      <th>cus_comment</th>\n",
       "      <th>kouwei</th>\n",
       "      <th>huanjing</th>\n",
       "      <th>fuwu</th>\n",
       "      <th>shopID</th>\n",
       "      <th>stars</th>\n",
       "      <th>year</th>\n",
       "      <th>month</th>\n",
       "      <th>weekday</th>\n",
       "      <th>hour</th>\n",
       "      <th>comment_len</th>\n",
       "    </tr>\n",
       "  </thead>\n",
       "  <tbody>\n",
       "    <tr>\n",
       "      <th>0</th>\n",
       "      <td>迷糊泰迪</td>\n",
       "      <td>2018/9/20 6:48</td>\n",
       "      <td>sml-str40</td>\n",
       "      <td>南信 算是 广州 著名 甜品店 吧 好几个 时间段 路过 都 是 座无虚席 看着 餐单 上 ...</td>\n",
       "      <td>非常好</td>\n",
       "      <td>好</td>\n",
       "      <td>好</td>\n",
       "      <td>518986</td>\n",
       "      <td>4.0</td>\n",
       "      <td>2018</td>\n",
       "      <td>9</td>\n",
       "      <td>3</td>\n",
       "      <td>6</td>\n",
       "      <td>184</td>\n",
       "    </tr>\n",
       "    <tr>\n",
       "      <th>1</th>\n",
       "      <td>稱霸幼稚園</td>\n",
       "      <td>2018/9/22 21:49</td>\n",
       "      <td>sml-str40</td>\n",
       "      <td>中午 吃 完 了 所谓 的 早茶 回去 放下 行李 休息 了 会 就 来 吃 下午茶 了 服...</td>\n",
       "      <td>很好</td>\n",
       "      <td>很好</td>\n",
       "      <td>很好</td>\n",
       "      <td>518986</td>\n",
       "      <td>4.0</td>\n",
       "      <td>2018</td>\n",
       "      <td>9</td>\n",
       "      <td>5</td>\n",
       "      <td>21</td>\n",
       "      <td>266</td>\n",
       "    </tr>\n",
       "    <tr>\n",
       "      <th>2</th>\n",
       "      <td>爱吃的美美侠</td>\n",
       "      <td>2018/9/22 22:16</td>\n",
       "      <td>sml-str40</td>\n",
       "      <td>冲刺 王者 战队 吃遍 蓉城 战队 有 特权 五月份 和 好 朋友 毕业 旅行 来 了 广州...</td>\n",
       "      <td>很好</td>\n",
       "      <td>很好</td>\n",
       "      <td>很好</td>\n",
       "      <td>518986</td>\n",
       "      <td>4.0</td>\n",
       "      <td>2018</td>\n",
       "      <td>9</td>\n",
       "      <td>5</td>\n",
       "      <td>22</td>\n",
       "      <td>341</td>\n",
       "    </tr>\n",
       "    <tr>\n",
       "      <th>3</th>\n",
       "      <td>姜姜会吃胖</td>\n",
       "      <td>2018/9/19 6:36</td>\n",
       "      <td>sml-str40</td>\n",
       "      <td>都 说来 广州 吃 糖水 就要 来南信 招牌 姜撞奶 红豆 双皮奶 牛 三星 云吞面 一楼 ...</td>\n",
       "      <td>非常好</td>\n",
       "      <td>很好</td>\n",
       "      <td>很好</td>\n",
       "      <td>518986</td>\n",
       "      <td>4.0</td>\n",
       "      <td>2018</td>\n",
       "      <td>9</td>\n",
       "      <td>2</td>\n",
       "      <td>6</td>\n",
       "      <td>197</td>\n",
       "    </tr>\n",
       "    <tr>\n",
       "      <th>4</th>\n",
       "      <td>forevercage</td>\n",
       "      <td>2018/8/24 17:58</td>\n",
       "      <td>sml-str50</td>\n",
       "      <td>一直 很 期待 也 最 爱 吃 甜品 广州 的 甜品 很 丰富 很 多样 来 之前 就 一直...</td>\n",
       "      <td>非常好</td>\n",
       "      <td>很好</td>\n",
       "      <td>很好</td>\n",
       "      <td>518986</td>\n",
       "      <td>5.0</td>\n",
       "      <td>2018</td>\n",
       "      <td>8</td>\n",
       "      <td>4</td>\n",
       "      <td>17</td>\n",
       "      <td>261</td>\n",
       "    </tr>\n",
       "  </tbody>\n",
       "</table>\n",
       "</div>"
      ],
      "text/plain": [
       "        cus_id     comment_time comment_star  \\\n",
       "0         迷糊泰迪   2018/9/20 6:48    sml-str40   \n",
       "1        稱霸幼稚園  2018/9/22 21:49    sml-str40   \n",
       "2       爱吃的美美侠  2018/9/22 22:16    sml-str40   \n",
       "3        姜姜会吃胖   2018/9/19 6:36    sml-str40   \n",
       "4  forevercage  2018/8/24 17:58    sml-str50   \n",
       "\n",
       "                                         cus_comment kouwei huanjing fuwu  \\\n",
       "0  南信 算是 广州 著名 甜品店 吧 好几个 时间段 路过 都 是 座无虚席 看着 餐单 上 ...    非常好        好    好   \n",
       "1  中午 吃 完 了 所谓 的 早茶 回去 放下 行李 休息 了 会 就 来 吃 下午茶 了 服...     很好       很好   很好   \n",
       "2  冲刺 王者 战队 吃遍 蓉城 战队 有 特权 五月份 和 好 朋友 毕业 旅行 来 了 广州...     很好       很好   很好   \n",
       "3  都 说来 广州 吃 糖水 就要 来南信 招牌 姜撞奶 红豆 双皮奶 牛 三星 云吞面 一楼 ...    非常好       很好   很好   \n",
       "4  一直 很 期待 也 最 爱 吃 甜品 广州 的 甜品 很 丰富 很 多样 来 之前 就 一直...    非常好       很好   很好   \n",
       "\n",
       "   shopID  stars  year  month  weekday  hour  comment_len  \n",
       "0  518986    4.0  2018      9        3     6          184  \n",
       "1  518986    4.0  2018      9        5    21          266  \n",
       "2  518986    4.0  2018      9        5    22          341  \n",
       "3  518986    4.0  2018      9        2     6          197  \n",
       "4  518986    5.0  2018      8        4    17          261  "
      ]
     },
     "execution_count": 4,
     "metadata": {},
     "output_type": "execute_result"
    }
   ],
   "source": [
    "import pandas as pd\n",
    "import jieba\n",
    "from matplotlib import pyplot as plt\n",
    "\n",
    "data = pd.read_csv('raw_data/data1.csv')\n",
    "data.head()"
   ]
  },
  {
   "cell_type": "code",
   "execution_count": 5,
   "id": "5ef4dbc2-c8cb-46b1-aaf0-23654aaac5dc",
   "metadata": {
    "tags": []
   },
   "outputs": [],
   "source": [
    "def zhuanhuan(score):\n",
    "    if score > 3:\n",
    "        return 1\n",
    "    elif score < 3:\n",
    "        return 0\n",
    "    else:\n",
    "        return None"
   ]
  },
  {
   "cell_type": "code",
   "execution_count": 6,
   "id": "6b54b021-f1ab-4fc4-84be-1ef000427999",
   "metadata": {},
   "outputs": [],
   "source": [
    "data['target'] = data['stars'].map(lambda x:zhuanhuan(x))\n",
    "data_model = data.dropna()"
   ]
  },
  {
   "cell_type": "code",
   "execution_count": 7,
   "id": "de09a5ea-97e9-4f41-9402-9a99f52f6d60",
   "metadata": {},
   "outputs": [
    {
     "data": {
      "text/plain": [
       "'南信 算是 广州 著名 甜品店 吧 好几个 时间段 路过 都 是 座无虚席 看着 餐单 上 密密麻麻 满满当当 好吃 的 容易 范 选择 困难 症拼桌 的 体验 不是 最好 人多 嘈杂 只想 快点 吃 完 赶紧 撤 自己 到 收银台 点单 服务员 只管 上菜 食物 味道 还是 要点 赞 的'"
      ]
     },
     "execution_count": 7,
     "metadata": {},
     "output_type": "execute_result"
    }
   ],
   "source": [
    "#切分测试集、训练集\n",
    "from sklearn.model_selection import train_test_split\n",
    "x_train, x_test, y_train, y_test = train_test_split(data_model['cus_comment'], data_model['target'], random_state=3, test_size=0.25)\n",
    "\n",
    "#引入停用词\n",
    "infile = open(\"raw_data/cn_stopwords.txt\",encoding='utf-8')\n",
    "stopwords_lst = infile.readlines()\n",
    "stopwords = [x.strip() for x in stopwords_lst]\n",
    "\n",
    "#中文分词\n",
    "def fenci(train_data):\n",
    "    words_df = train_data.apply(lambda x:' '.join(jieba.cut(x)))\n",
    "    return words_df\n",
    " \n",
    "x_train[0]"
   ]
  },
  {
   "cell_type": "code",
   "execution_count": 8,
   "id": "216ae855-4eb1-4727-ac80-505ca2761ca6",
   "metadata": {},
   "outputs": [
    {
     "data": {
      "text/plain": [
       "TfidfVectorizer(analyzer='word', binary=False, decode_error='strict',\n",
       "                dtype=<class 'numpy.float64'>, encoding='utf-8',\n",
       "                input='content', lowercase=True, max_df=1.0, max_features=3000,\n",
       "                min_df=1, ngram_range=(1, 2), norm='l2', preprocessor=None,\n",
       "                smooth_idf=True,\n",
       "                stop_words=['$', '0', '1', '2', '3', '4', '5', '6', '7', '8',\n",
       "                            '9', '?', '_', '“', '”', '、', '。', '《', '》', '一',\n",
       "                            '一些', '一何', '一切', '一则', '一方面', '一旦', '一来', '一样',\n",
       "                            '一般', '一转眼', ...],\n",
       "                strip_accents=None, sublinear_tf=False,\n",
       "                token_pattern='(?u)\\\\b\\\\w\\\\w+\\\\b', tokenizer=None, use_idf=True,\n",
       "                vocabulary=None)"
      ]
     },
     "execution_count": 8,
     "metadata": {},
     "output_type": "execute_result"
    }
   ],
   "source": [
    "from sklearn.feature_extraction.text import TfidfVectorizer\n",
    "tv = TfidfVectorizer(stop_words=stopwords, max_features=3000, ngram_range=(1,2))\n",
    "tv.fit(x_train)"
   ]
  },
  {
   "cell_type": "code",
   "execution_count": 9,
   "id": "7e35fd96-446f-441c-8a79-b1a4640b0464",
   "metadata": {},
   "outputs": [
    {
     "data": {
      "text/plain": [
       "0.9272794389073459"
      ]
     },
     "execution_count": 9,
     "metadata": {},
     "output_type": "execute_result"
    }
   ],
   "source": [
    "from sklearn.naive_bayes import MultinomialNB\n",
    "from sklearn.metrics import roc_auc_score, f1_score\n",
    "classifier = MultinomialNB()\n",
    "classifier.fit(tv.transform(x_train), y_train)\n",
    "classifier.score(tv.transform(x_test), y_test)"
   ]
  },
  {
   "cell_type": "code",
   "execution_count": 10,
   "id": "4bac89e1-de7f-4b09-8cd1-02b8dc331532",
   "metadata": {},
   "outputs": [
    {
     "data": {
      "text/plain": [
       "0.9094499777254503"
      ]
     },
     "execution_count": 10,
     "metadata": {},
     "output_type": "execute_result"
    }
   ],
   "source": [
    "y_pred = classifier.predict_proba(tv.transform(x_test))[:,1]\n",
    "roc_auc_score(y_test,y_pred)"
   ]
  },
  {
   "cell_type": "code",
   "execution_count": 11,
   "id": "87ec5996-811b-4dc5-bddc-dcfa8bd9424a",
   "metadata": {},
   "outputs": [],
   "source": [
    "def ceshi(model,strings):\n",
    "    strings_fenci = fenci(pd.Series([strings]))\n",
    "    return round(float(model.predict_proba(tv.transform(strings_fenci))[:,1]),2)"
   ]
  },
  {
   "cell_type": "code",
   "execution_count": 12,
   "id": "1eb139dc-93c6-4dc1-8338-9ec827d6997b",
   "metadata": {},
   "outputs": [
    {
     "name": "stderr",
     "output_type": "stream",
     "text": [
      "Building prefix dict from the default dictionary ...\n",
      "Loading model from cache /tmp/jieba.cache\n",
      "Loading model cost 1.230 seconds.\n",
      "Prefix dict has been built successfully.\n"
     ]
    },
    {
     "name": "stdout",
     "output_type": "stream",
     "text": [
      "好评实例的模型预测情感得分为0.87\n",
      "差评实例的模型预测情感得分为0.81\n"
     ]
    }
   ],
   "source": [
    "test1 = '很好吃，环境好，所有员工的态度都很好，上菜快，服务也很好，味道好吃，都是用蒸馏水煮的，推荐，超好吃' #5星好评\n",
    "test2 = '糯米外皮不绵滑，豆沙馅粗躁，没有香甜味。12元一碗不值。' #1星差评\n",
    "print('好评实例的模型预测情感得分为{}\\n差评实例的模型预测情感得分为{}'.format(ceshi(classifier,test1),ceshi(classifier,test2)))"
   ]
  },
  {
   "cell_type": "code",
   "execution_count": 95,
   "id": "03d40a22-ab37-49cc-85db-0650337578a0",
   "metadata": {},
   "outputs": [
    {
     "data": {
      "text/html": [
       "<div>\n",
       "<style scoped>\n",
       "    .dataframe tbody tr th:only-of-type {\n",
       "        vertical-align: middle;\n",
       "    }\n",
       "\n",
       "    .dataframe tbody tr th {\n",
       "        vertical-align: top;\n",
       "    }\n",
       "\n",
       "    .dataframe thead th {\n",
       "        text-align: right;\n",
       "    }\n",
       "</style>\n",
       "<table border=\"1\" class=\"dataframe\">\n",
       "  <thead>\n",
       "    <tr style=\"text-align: right;\">\n",
       "      <th></th>\n",
       "      <th>_id</th>\n",
       "      <th>人均价格</th>\n",
       "      <th>图片链接</th>\n",
       "      <th>店铺id</th>\n",
       "      <th>店铺名</th>\n",
       "      <th>店铺地址</th>\n",
       "      <th>店铺均分</th>\n",
       "      <th>店铺总分</th>\n",
       "      <th>推荐菜</th>\n",
       "      <th>标签1</th>\n",
       "      <th>标签2</th>\n",
       "      <th>评论总数</th>\n",
       "      <th>详情链接</th>\n",
       "    </tr>\n",
       "  </thead>\n",
       "  <tbody>\n",
       "    <tr>\n",
       "      <th>0</th>\n",
       "      <td>62db5b0c817bf9b8a570751f</td>\n",
       "      <td>￥97</td>\n",
       "      <td>http://p0.meituan.net/biztone/179942316_164204...</td>\n",
       "      <td>l1KkGwL9nhdbxYJG</td>\n",
       "      <td>韩聚场石板烤肉(人广世茂店)</td>\n",
       "      <td>-</td>\n",
       "      <td>-</td>\n",
       "      <td>4.5</td>\n",
       "      <td>-</td>\n",
       "      <td>韩式烤肉</td>\n",
       "      <td>人民广场/南京路</td>\n",
       "      <td>4529条评价</td>\n",
       "      <td>https://www.dianping.com/shop/l1KkGwL9nhdbxYJG</td>\n",
       "    </tr>\n",
       "    <tr>\n",
       "      <th>1</th>\n",
       "      <td>62db5bd3817bf9b8a5707521</td>\n",
       "      <td>￥108</td>\n",
       "      <td>https://img.meituan.net/msmerchant/d1640dfc80e...</td>\n",
       "      <td>G6lUt8p6xQvkx4jf</td>\n",
       "      <td>韩国欧巴炭烤肉오빠숯불구이</td>\n",
       "      <td>-</td>\n",
       "      <td>-</td>\n",
       "      <td>4.5</td>\n",
       "      <td>-</td>\n",
       "      <td>韩式烤肉</td>\n",
       "      <td>虹桥镇</td>\n",
       "      <td>13773条评价</td>\n",
       "      <td>https://www.dianping.com/shop/G6lUt8p6xQvkx4jf</td>\n",
       "    </tr>\n",
       "    <tr>\n",
       "      <th>2</th>\n",
       "      <td>62db5c97817bf9b8a5707523</td>\n",
       "      <td>￥118</td>\n",
       "      <td>https://img.meituan.net/msmerchant/0f85cc7577f...</td>\n",
       "      <td>l26n8GRljBs37jw0</td>\n",
       "      <td>齐齐哈尔碳烤肉(江宁路店)</td>\n",
       "      <td>-</td>\n",
       "      <td>-</td>\n",
       "      <td>4.0</td>\n",
       "      <td>-</td>\n",
       "      <td>烧烤烤串</td>\n",
       "      <td>长寿路</td>\n",
       "      <td>985条评价</td>\n",
       "      <td>https://www.dianping.com/shop/l26n8GRljBs37jw0</td>\n",
       "    </tr>\n",
       "    <tr>\n",
       "      <th>3</th>\n",
       "      <td>62db5d63817bf9b8a5707525</td>\n",
       "      <td>￥108</td>\n",
       "      <td>http://p1.meituan.net/biztone/192843022_165837...</td>\n",
       "      <td>H1AqU2oV2LZE1Eiw</td>\n",
       "      <td>御殿场烧肉(南京西路店)</td>\n",
       "      <td>-</td>\n",
       "      <td>-</td>\n",
       "      <td>4.0</td>\n",
       "      <td>-</td>\n",
       "      <td>烧烤烤串</td>\n",
       "      <td>南京西路</td>\n",
       "      <td>4292条评价</td>\n",
       "      <td>https://www.dianping.com/shop/H1AqU2oV2LZE1Eiw</td>\n",
       "    </tr>\n",
       "    <tr>\n",
       "      <th>4</th>\n",
       "      <td>62db5e2b817bf9b8a5707527</td>\n",
       "      <td>￥82</td>\n",
       "      <td>https://img.meituan.net/msmerchant/3ac573e4709...</td>\n",
       "      <td>k7hEx6fVSx6Z75W2</td>\n",
       "      <td>圣火营自助烤肉(南京东路店)</td>\n",
       "      <td>-</td>\n",
       "      <td>-</td>\n",
       "      <td>4.0</td>\n",
       "      <td>-</td>\n",
       "      <td>烧烤烤串</td>\n",
       "      <td>南京东路</td>\n",
       "      <td>16824条评价</td>\n",
       "      <td>https://www.dianping.com/shop/k7hEx6fVSx6Z75W2</td>\n",
       "    </tr>\n",
       "  </tbody>\n",
       "</table>\n",
       "</div>"
      ],
      "text/plain": [
       "                        _id  人均价格  \\\n",
       "0  62db5b0c817bf9b8a570751f   ￥97   \n",
       "1  62db5bd3817bf9b8a5707521  ￥108   \n",
       "2  62db5c97817bf9b8a5707523  ￥118   \n",
       "3  62db5d63817bf9b8a5707525  ￥108   \n",
       "4  62db5e2b817bf9b8a5707527   ￥82   \n",
       "\n",
       "                                                图片链接              店铺id  \\\n",
       "0  http://p0.meituan.net/biztone/179942316_164204...  l1KkGwL9nhdbxYJG   \n",
       "1  https://img.meituan.net/msmerchant/d1640dfc80e...  G6lUt8p6xQvkx4jf   \n",
       "2  https://img.meituan.net/msmerchant/0f85cc7577f...  l26n8GRljBs37jw0   \n",
       "3  http://p1.meituan.net/biztone/192843022_165837...  H1AqU2oV2LZE1Eiw   \n",
       "4  https://img.meituan.net/msmerchant/3ac573e4709...  k7hEx6fVSx6Z75W2   \n",
       "\n",
       "              店铺名 店铺地址 店铺均分  店铺总分 推荐菜   标签1       标签2      评论总数  \\\n",
       "0  韩聚场石板烤肉(人广世茂店)    -    -   4.5   -  韩式烤肉  人民广场/南京路   4529条评价   \n",
       "1   韩国欧巴炭烤肉오빠숯불구이    -    -   4.5   -  韩式烤肉       虹桥镇  13773条评价   \n",
       "2   齐齐哈尔碳烤肉(江宁路店)    -    -   4.0   -  烧烤烤串       长寿路    985条评价   \n",
       "3    御殿场烧肉(南京西路店)    -    -   4.0   -  烧烤烤串      南京西路   4292条评价   \n",
       "4  圣火营自助烤肉(南京东路店)    -    -   4.0   -  烧烤烤串      南京东路  16824条评价   \n",
       "\n",
       "                                             详情链接  \n",
       "0  https://www.dianping.com/shop/l1KkGwL9nhdbxYJG  \n",
       "1  https://www.dianping.com/shop/G6lUt8p6xQvkx4jf  \n",
       "2  https://www.dianping.com/shop/l26n8GRljBs37jw0  \n",
       "3  https://www.dianping.com/shop/H1AqU2oV2LZE1Eiw  \n",
       "4  https://www.dianping.com/shop/k7hEx6fVSx6Z75W2  "
      ]
     },
     "execution_count": 95,
     "metadata": {},
     "output_type": "execute_result"
    }
   ],
   "source": [
    "data_info =  pd.read_csv(\"raw_data/dianping_info_test.csv\",encoding='utf-8')\n",
    "data_info.head()"
   ]
  },
  {
   "cell_type": "code",
   "execution_count": 96,
   "id": "aee27532-e688-430b-b0a0-c21c47ebb200",
   "metadata": {},
   "outputs": [
    {
     "data": {
      "text/html": [
       "<div>\n",
       "<style scoped>\n",
       "    .dataframe tbody tr th:only-of-type {\n",
       "        vertical-align: middle;\n",
       "    }\n",
       "\n",
       "    .dataframe tbody tr th {\n",
       "        vertical-align: top;\n",
       "    }\n",
       "\n",
       "    .dataframe thead th {\n",
       "        text-align: right;\n",
       "    }\n",
       "</style>\n",
       "<table border=\"1\" class=\"dataframe\">\n",
       "  <thead>\n",
       "    <tr style=\"text-align: right;\">\n",
       "      <th></th>\n",
       "      <th>_id</th>\n",
       "      <th>中评个数</th>\n",
       "      <th>好评个数</th>\n",
       "      <th>差评个数</th>\n",
       "      <th>带图评论个数</th>\n",
       "      <th>店铺id</th>\n",
       "      <th>推荐菜</th>\n",
       "      <th>精选评论</th>\n",
       "      <th>评论总数</th>\n",
       "      <th>评论摘要</th>\n",
       "    </tr>\n",
       "  </thead>\n",
       "  <tbody>\n",
       "    <tr>\n",
       "      <th>0</th>\n",
       "      <td>62db5b0c817bf9b8a5707520</td>\n",
       "      <td>567</td>\n",
       "      <td>3513</td>\n",
       "      <td>226</td>\n",
       "      <td>3191</td>\n",
       "      <td>l1KkGwL9nhdbxYJG</td>\n",
       "      <td>-</td>\n",
       "      <td>[{\"店铺id\": \"l1KkGwL9nhdbxYJG\", \"评论id\": \"1109187...</td>\n",
       "      <td>4306</td>\n",
       "      <td>[{\"描述\": \"菜品健康\", \"个数\": \"310\"}, {\"描述\": \"不用排队\", \"...</td>\n",
       "    </tr>\n",
       "    <tr>\n",
       "      <th>1</th>\n",
       "      <td>62db5bd3817bf9b8a5707522</td>\n",
       "      <td>1123</td>\n",
       "      <td>11613</td>\n",
       "      <td>327</td>\n",
       "      <td>5205</td>\n",
       "      <td>G6lUt8p6xQvkx4jf</td>\n",
       "      <td>-</td>\n",
       "      <td>[{\"店铺id\": \"G6lUt8p6xQvkx4jf\", \"评论id\": \"1116490...</td>\n",
       "      <td>13063</td>\n",
       "      <td>[{\"描述\": \"上菜快\", \"个数\": \"168\"}, {\"描述\": \"不用排队\", \"个...</td>\n",
       "    </tr>\n",
       "    <tr>\n",
       "      <th>2</th>\n",
       "      <td>62db5c97817bf9b8a5707524</td>\n",
       "      <td>91</td>\n",
       "      <td>777</td>\n",
       "      <td>105</td>\n",
       "      <td>674</td>\n",
       "      <td>l26n8GRljBs37jw0</td>\n",
       "      <td>-</td>\n",
       "      <td>[{\"店铺id\": \"l26n8GRljBs37jw0\", \"评论id\": \"1117401...</td>\n",
       "      <td>973</td>\n",
       "      <td>[{\"描述\": \"牛肉赞\", \"个数\": \"49\"}, {\"描述\": \"不用排队\", \"个数...</td>\n",
       "    </tr>\n",
       "    <tr>\n",
       "      <th>3</th>\n",
       "      <td>62db5d63817bf9b8a5707526</td>\n",
       "      <td>543</td>\n",
       "      <td>3353</td>\n",
       "      <td>247</td>\n",
       "      <td>3108</td>\n",
       "      <td>H1AqU2oV2LZE1Eiw</td>\n",
       "      <td>-</td>\n",
       "      <td>[{\"店铺id\": \"H1AqU2oV2LZE1Eiw\", \"评论id\": \"1117591...</td>\n",
       "      <td>4143</td>\n",
       "      <td>[{\"描述\": \"菜品健康\", \"个数\": \"212\"}, {\"描述\": \"不用排队\", \"...</td>\n",
       "    </tr>\n",
       "    <tr>\n",
       "      <th>4</th>\n",
       "      <td>62db5e2b817bf9b8a5707528</td>\n",
       "      <td>1409</td>\n",
       "      <td>6343</td>\n",
       "      <td>634</td>\n",
       "      <td>2457</td>\n",
       "      <td>k7hEx6fVSx6Z75W2</td>\n",
       "      <td>-</td>\n",
       "      <td>[{\"店铺id\": \"k7hEx6fVSx6Z75W2\", \"评论id\": \"1117017...</td>\n",
       "      <td>8386</td>\n",
       "      <td>[{\"描述\": \"菜品健康\", \"个数\": \"337\"}, {\"描述\": \"不用排队\", \"...</td>\n",
       "    </tr>\n",
       "  </tbody>\n",
       "</table>\n",
       "</div>"
      ],
      "text/plain": [
       "                        _id  中评个数   好评个数  差评个数  带图评论个数              店铺id 推荐菜  \\\n",
       "0  62db5b0c817bf9b8a5707520   567   3513   226    3191  l1KkGwL9nhdbxYJG   -   \n",
       "1  62db5bd3817bf9b8a5707522  1123  11613   327    5205  G6lUt8p6xQvkx4jf   -   \n",
       "2  62db5c97817bf9b8a5707524    91    777   105     674  l26n8GRljBs37jw0   -   \n",
       "3  62db5d63817bf9b8a5707526   543   3353   247    3108  H1AqU2oV2LZE1Eiw   -   \n",
       "4  62db5e2b817bf9b8a5707528  1409   6343   634    2457  k7hEx6fVSx6Z75W2   -   \n",
       "\n",
       "                                                精选评论   评论总数  \\\n",
       "0  [{\"店铺id\": \"l1KkGwL9nhdbxYJG\", \"评论id\": \"1109187...   4306   \n",
       "1  [{\"店铺id\": \"G6lUt8p6xQvkx4jf\", \"评论id\": \"1116490...  13063   \n",
       "2  [{\"店铺id\": \"l26n8GRljBs37jw0\", \"评论id\": \"1117401...    973   \n",
       "3  [{\"店铺id\": \"H1AqU2oV2LZE1Eiw\", \"评论id\": \"1117591...   4143   \n",
       "4  [{\"店铺id\": \"k7hEx6fVSx6Z75W2\", \"评论id\": \"1117017...   8386   \n",
       "\n",
       "                                                评论摘要  \n",
       "0  [{\"描述\": \"菜品健康\", \"个数\": \"310\"}, {\"描述\": \"不用排队\", \"...  \n",
       "1  [{\"描述\": \"上菜快\", \"个数\": \"168\"}, {\"描述\": \"不用排队\", \"个...  \n",
       "2  [{\"描述\": \"牛肉赞\", \"个数\": \"49\"}, {\"描述\": \"不用排队\", \"个数...  \n",
       "3  [{\"描述\": \"菜品健康\", \"个数\": \"212\"}, {\"描述\": \"不用排队\", \"...  \n",
       "4  [{\"描述\": \"菜品健康\", \"个数\": \"337\"}, {\"描述\": \"不用排队\", \"...  "
      ]
     },
     "execution_count": 96,
     "metadata": {},
     "output_type": "execute_result"
    }
   ],
   "source": [
    "d3 = pd.read_csv(\"raw_data/dianping_review_test.csv\",encoding='utf-8')\n",
    "d3.head()"
   ]
  },
  {
   "cell_type": "code",
   "execution_count": 90,
   "id": "3ab08819-51f9-48f4-802a-3ca60130e05f",
   "metadata": {},
   "outputs": [],
   "source": [
    "d3['精选评论'] = d3['精选评论'].map(lambda x:simplejson.loads(x))"
   ]
  },
  {
   "cell_type": "code",
   "execution_count": 97,
   "id": "2b029f13-bc85-4191-9c8a-bd6dde1d3dec",
   "metadata": {},
   "outputs": [
    {
     "ename": "KeyError",
     "evalue": "\"None of [Index(['评论内容', '用户总分', '店铺id'], dtype='object')] are in the [columns]\"",
     "output_type": "error",
     "traceback": [
      "\u001b[0;31m---------------------------------------------------------------------------\u001b[0m",
      "\u001b[0;31mKeyError\u001b[0m                                  Traceback (most recent call last)",
      "\u001b[0;32m/tmp/ipykernel_13870/1551244827.py\u001b[0m in \u001b[0;36m<module>\u001b[0;34m\u001b[0m\n\u001b[1;32m      4\u001b[0m \u001b[0;31m# normalize the column of dicts, join back to the remaining dataframe columns, and drop the unneeded column\u001b[0m\u001b[0;34m\u001b[0m\u001b[0;34m\u001b[0m\u001b[0;34m\u001b[0m\u001b[0m\n\u001b[1;32m      5\u001b[0m \u001b[0mdf_review\u001b[0m \u001b[0;34m=\u001b[0m \u001b[0mpd\u001b[0m\u001b[0;34m.\u001b[0m\u001b[0mjson_normalize\u001b[0m\u001b[0;34m(\u001b[0m\u001b[0mdf_review\u001b[0m\u001b[0;34m.\u001b[0m\u001b[0m精选评论\u001b[0m\u001b[0;34m)\u001b[0m\u001b[0;34m\u001b[0m\u001b[0;34m\u001b[0m\u001b[0m\n\u001b[0;32m----> 6\u001b[0;31m \u001b[0mdf_review_NLP\u001b[0m \u001b[0;34m=\u001b[0m \u001b[0mdf_review\u001b[0m\u001b[0;34m[\u001b[0m\u001b[0;34m[\u001b[0m\u001b[0;34m'评论内容'\u001b[0m\u001b[0;34m,\u001b[0m\u001b[0;34m'用户总分'\u001b[0m\u001b[0;34m,\u001b[0m\u001b[0;34m'店铺id'\u001b[0m\u001b[0;34m]\u001b[0m\u001b[0;34m]\u001b[0m\u001b[0;34m\u001b[0m\u001b[0;34m\u001b[0m\u001b[0m\n\u001b[0m",
      "\u001b[0;32m~/.pyenv/versions/3.8.12/envs/lewagon/lib/python3.8/site-packages/pandas/core/frame.py\u001b[0m in \u001b[0;36m__getitem__\u001b[0;34m(self, key)\u001b[0m\n\u001b[1;32m   3462\u001b[0m             \u001b[0;32mif\u001b[0m \u001b[0mis_iterator\u001b[0m\u001b[0;34m(\u001b[0m\u001b[0mkey\u001b[0m\u001b[0;34m)\u001b[0m\u001b[0;34m:\u001b[0m\u001b[0;34m\u001b[0m\u001b[0;34m\u001b[0m\u001b[0m\n\u001b[1;32m   3463\u001b[0m                 \u001b[0mkey\u001b[0m \u001b[0;34m=\u001b[0m \u001b[0mlist\u001b[0m\u001b[0;34m(\u001b[0m\u001b[0mkey\u001b[0m\u001b[0;34m)\u001b[0m\u001b[0;34m\u001b[0m\u001b[0;34m\u001b[0m\u001b[0m\n\u001b[0;32m-> 3464\u001b[0;31m             \u001b[0mindexer\u001b[0m \u001b[0;34m=\u001b[0m \u001b[0mself\u001b[0m\u001b[0;34m.\u001b[0m\u001b[0mloc\u001b[0m\u001b[0;34m.\u001b[0m\u001b[0m_get_listlike_indexer\u001b[0m\u001b[0;34m(\u001b[0m\u001b[0mkey\u001b[0m\u001b[0;34m,\u001b[0m \u001b[0maxis\u001b[0m\u001b[0;34m=\u001b[0m\u001b[0;36m1\u001b[0m\u001b[0;34m)\u001b[0m\u001b[0;34m[\u001b[0m\u001b[0;36m1\u001b[0m\u001b[0;34m]\u001b[0m\u001b[0;34m\u001b[0m\u001b[0;34m\u001b[0m\u001b[0m\n\u001b[0m\u001b[1;32m   3465\u001b[0m \u001b[0;34m\u001b[0m\u001b[0m\n\u001b[1;32m   3466\u001b[0m         \u001b[0;31m# take() does not accept boolean indexers\u001b[0m\u001b[0;34m\u001b[0m\u001b[0;34m\u001b[0m\u001b[0;34m\u001b[0m\u001b[0m\n",
      "\u001b[0;32m~/.pyenv/versions/3.8.12/envs/lewagon/lib/python3.8/site-packages/pandas/core/indexing.py\u001b[0m in \u001b[0;36m_get_listlike_indexer\u001b[0;34m(self, key, axis)\u001b[0m\n\u001b[1;32m   1312\u001b[0m             \u001b[0mkeyarr\u001b[0m\u001b[0;34m,\u001b[0m \u001b[0mindexer\u001b[0m\u001b[0;34m,\u001b[0m \u001b[0mnew_indexer\u001b[0m \u001b[0;34m=\u001b[0m \u001b[0max\u001b[0m\u001b[0;34m.\u001b[0m\u001b[0m_reindex_non_unique\u001b[0m\u001b[0;34m(\u001b[0m\u001b[0mkeyarr\u001b[0m\u001b[0;34m)\u001b[0m\u001b[0;34m\u001b[0m\u001b[0;34m\u001b[0m\u001b[0m\n\u001b[1;32m   1313\u001b[0m \u001b[0;34m\u001b[0m\u001b[0m\n\u001b[0;32m-> 1314\u001b[0;31m         \u001b[0mself\u001b[0m\u001b[0;34m.\u001b[0m\u001b[0m_validate_read_indexer\u001b[0m\u001b[0;34m(\u001b[0m\u001b[0mkeyarr\u001b[0m\u001b[0;34m,\u001b[0m \u001b[0mindexer\u001b[0m\u001b[0;34m,\u001b[0m \u001b[0maxis\u001b[0m\u001b[0;34m)\u001b[0m\u001b[0;34m\u001b[0m\u001b[0;34m\u001b[0m\u001b[0m\n\u001b[0m\u001b[1;32m   1315\u001b[0m \u001b[0;34m\u001b[0m\u001b[0m\n\u001b[1;32m   1316\u001b[0m         if needs_i8_conversion(ax.dtype) or isinstance(\n",
      "\u001b[0;32m~/.pyenv/versions/3.8.12/envs/lewagon/lib/python3.8/site-packages/pandas/core/indexing.py\u001b[0m in \u001b[0;36m_validate_read_indexer\u001b[0;34m(self, key, indexer, axis)\u001b[0m\n\u001b[1;32m   1372\u001b[0m                 \u001b[0;32mif\u001b[0m \u001b[0muse_interval_msg\u001b[0m\u001b[0;34m:\u001b[0m\u001b[0;34m\u001b[0m\u001b[0;34m\u001b[0m\u001b[0m\n\u001b[1;32m   1373\u001b[0m                     \u001b[0mkey\u001b[0m \u001b[0;34m=\u001b[0m \u001b[0mlist\u001b[0m\u001b[0;34m(\u001b[0m\u001b[0mkey\u001b[0m\u001b[0;34m)\u001b[0m\u001b[0;34m\u001b[0m\u001b[0;34m\u001b[0m\u001b[0m\n\u001b[0;32m-> 1374\u001b[0;31m                 \u001b[0;32mraise\u001b[0m \u001b[0mKeyError\u001b[0m\u001b[0;34m(\u001b[0m\u001b[0;34mf\"None of [{key}] are in the [{axis_name}]\"\u001b[0m\u001b[0;34m)\u001b[0m\u001b[0;34m\u001b[0m\u001b[0;34m\u001b[0m\u001b[0m\n\u001b[0m\u001b[1;32m   1375\u001b[0m \u001b[0;34m\u001b[0m\u001b[0m\n\u001b[1;32m   1376\u001b[0m             \u001b[0mnot_found\u001b[0m \u001b[0;34m=\u001b[0m \u001b[0mlist\u001b[0m\u001b[0;34m(\u001b[0m\u001b[0mensure_index\u001b[0m\u001b[0;34m(\u001b[0m\u001b[0mkey\u001b[0m\u001b[0;34m)\u001b[0m\u001b[0;34m[\u001b[0m\u001b[0mmissing_mask\u001b[0m\u001b[0;34m.\u001b[0m\u001b[0mnonzero\u001b[0m\u001b[0;34m(\u001b[0m\u001b[0;34m)\u001b[0m\u001b[0;34m[\u001b[0m\u001b[0;36m0\u001b[0m\u001b[0;34m]\u001b[0m\u001b[0;34m]\u001b[0m\u001b[0;34m.\u001b[0m\u001b[0munique\u001b[0m\u001b[0;34m(\u001b[0m\u001b[0;34m)\u001b[0m\u001b[0;34m)\u001b[0m\u001b[0;34m\u001b[0m\u001b[0;34m\u001b[0m\u001b[0m\n",
      "\u001b[0;31mKeyError\u001b[0m: \"None of [Index(['评论内容', '用户总分', '店铺id'], dtype='object')] are in the [columns]\""
     ]
    }
   ],
   "source": [
    "# use explode to give each dict in a list a separate row\n",
    "df_review = pd.DataFrame(d3.精选评论.explode().reset_index(drop=True))\n",
    "\n",
    "# normalize the column of dicts, join back to the remaining dataframe columns, and drop the unneeded column\n",
    "df_review = pd.json_normalize(df_review.精选评论)\n",
    "df_review_NLP = df_review[['评论内容','用户总分','店铺id']]"
   ]
  },
  {
   "cell_type": "code",
   "execution_count": 35,
   "id": "304472c7-4eb9-4951-b950-8593c88388e6",
   "metadata": {
    "tags": []
   },
   "outputs": [
    {
     "name": "stderr",
     "output_type": "stream",
     "text": [
      "/tmp/ipykernel_13870/2206967058.py:1: SettingWithCopyWarning: \n",
      "A value is trying to be set on a copy of a slice from a DataFrame.\n",
      "Try using .loc[row_indexer,col_indexer] = value instead\n",
      "\n",
      "See the caveats in the documentation: https://pandas.pydata.org/pandas-docs/stable/user_guide/indexing.html#returning-a-view-versus-a-copy\n",
      "  df_review_NLP['评论内容'] = df_review_NLP['评论内容'].apply(lambda x:' '.join(jieba.cut(x)))\n"
     ]
    }
   ],
   "source": [
    "df_review_NLP['评论内容'] = df_review_NLP['评论内容'].apply(lambda x:' '.join(jieba.cut(x)))"
   ]
  },
  {
   "cell_type": "code",
   "execution_count": 36,
   "id": "c32cedc7-9250-4ca5-80ee-195e5da474a5",
   "metadata": {
    "tags": []
   },
   "outputs": [
    {
     "name": "stderr",
     "output_type": "stream",
     "text": [
      "/tmp/ipykernel_13870/3972556165.py:5: SettingWithCopyWarning: \n",
      "A value is trying to be set on a copy of a slice from a DataFrame.\n",
      "Try using .loc[row_indexer,col_indexer] = value instead\n",
      "\n",
      "See the caveats in the documentation: https://pandas.pydata.org/pandas-docs/stable/user_guide/indexing.html#returning-a-view-versus-a-copy\n",
      "  df_review_NLP[i] = pd.to_numeric(df_review_NLP[i],errors='coerce')\n"
     ]
    }
   ],
   "source": [
    "# cols = ['用户总分','用户打分.口味','用户打分.环境','用户打分.服务']\n",
    "cols = ['用户总分']\n",
    "\n",
    "for i in cols:\n",
    "    df_review_NLP[i] = pd.to_numeric(df_review_NLP[i],errors='coerce')"
   ]
  },
  {
   "cell_type": "code",
   "execution_count": 37,
   "id": "8d23a3d9-d2cf-42fd-a040-1c88007cc411",
   "metadata": {
    "tags": []
   },
   "outputs": [
    {
     "name": "stderr",
     "output_type": "stream",
     "text": [
      "/tmp/ipykernel_13870/1501798206.py:1: SettingWithCopyWarning: \n",
      "A value is trying to be set on a copy of a slice from a DataFrame.\n",
      "Try using .loc[row_indexer,col_indexer] = value instead\n",
      "\n",
      "See the caveats in the documentation: https://pandas.pydata.org/pandas-docs/stable/user_guide/indexing.html#returning-a-view-versus-a-copy\n",
      "  df_review_NLP['target'] = df_review_NLP['用户总分'].map(lambda x:score_trans(x))\n"
     ]
    }
   ],
   "source": [
    "df_review_NLP['target'] = df_review_NLP['用户总分'].map(lambda x:score_trans(x))\n",
    "df_model = df_review_NLP.dropna()"
   ]
  },
  {
   "cell_type": "code",
   "execution_count": 38,
   "id": "7c6e8281-3ef4-42f2-acb1-a1df23556495",
   "metadata": {},
   "outputs": [],
   "source": [
    "x_train, x_test, y_train, y_test = train_test_split(df_model['评论内容'], df_model['target'], random_state=3, test_size=0.25)"
   ]
  },
  {
   "cell_type": "code",
   "execution_count": 39,
   "id": "41934c8e-e674-46bd-8b88-222ac7772881",
   "metadata": {},
   "outputs": [],
   "source": [
    "#引入停用词\n",
    "infile = open(\"raw_data/cn_stopwords.txt\",encoding='utf-8')\n",
    "stopwords_lst = infile.readlines()\n",
    "stopwords = [x.strip() for x in stopwords_lst]"
   ]
  },
  {
   "cell_type": "code",
   "execution_count": 40,
   "id": "b8ccba2a-3078-4fe2-99e4-df484bd52fb5",
   "metadata": {},
   "outputs": [
    {
     "data": {
      "text/plain": [
       "TfidfVectorizer(analyzer='word', binary=False, decode_error='strict',\n",
       "                dtype=<class 'numpy.float64'>, encoding='utf-8',\n",
       "                input='content', lowercase=True, max_df=1.0, max_features=3000,\n",
       "                min_df=1, ngram_range=(1, 2), norm='l2', preprocessor=None,\n",
       "                smooth_idf=True,\n",
       "                stop_words=['$', '0', '1', '2', '3', '4', '5', '6', '7', '8',\n",
       "                            '9', '?', '_', '“', '”', '、', '。', '《', '》', '一',\n",
       "                            '一些', '一何', '一切', '一则', '一方面', '一旦', '一来', '一样',\n",
       "                            '一般', '一转眼', ...],\n",
       "                strip_accents=None, sublinear_tf=False,\n",
       "                token_pattern='(?u)\\\\b\\\\w\\\\w+\\\\b', tokenizer=None, use_idf=True,\n",
       "                vocabulary=None)"
      ]
     },
     "execution_count": 40,
     "metadata": {},
     "output_type": "execute_result"
    }
   ],
   "source": [
    "tv = TfidfVectorizer(stop_words=stopwords, max_features=3000, ngram_range=(1,2))\n",
    "tv.fit(x_train)"
   ]
  },
  {
   "cell_type": "code",
   "execution_count": 41,
   "id": "b60333f4-55a7-4f4d-aaa0-2da80f077e00",
   "metadata": {},
   "outputs": [
    {
     "data": {
      "text/plain": [
       "0.9223671651288577"
      ]
     },
     "execution_count": 41,
     "metadata": {},
     "output_type": "execute_result"
    }
   ],
   "source": [
    "classifier = MultinomialNB()\n",
    "classifier.fit(tv.transform(x_train), y_train)\n",
    "classifier.score(tv.transform(x_test), y_test)"
   ]
  },
  {
   "cell_type": "code",
   "execution_count": 42,
   "id": "273598d6-adae-45a6-9fd3-2f2551594e56",
   "metadata": {},
   "outputs": [
    {
     "data": {
      "text/plain": [
       "0.8762372223589145"
      ]
     },
     "execution_count": 42,
     "metadata": {},
     "output_type": "execute_result"
    }
   ],
   "source": [
    "y_pred = classifier.predict_proba(tv.transform(x_test))[:,1]\n",
    "roc_auc_score(y_test,y_pred)"
   ]
  },
  {
   "cell_type": "code",
   "execution_count": 43,
   "id": "a95a5148-e564-413d-8eb2-e665a51074cd",
   "metadata": {
    "tags": []
   },
   "outputs": [
    {
     "name": "stdout",
     "output_type": "stream",
     "text": [
      "好评实例的模型预测情感得分为0.95\n",
      "差评实例的模型预测情感得分为0.79\n"
     ]
    }
   ],
   "source": [
    "test1 = '很好吃，环境好，所有员工的态度都很好，上菜快，服务也很好，味道好吃，都是用蒸馏水煮的，推荐，超好吃' #5星好评\n",
    "test2 = '糯米外皮不绵滑，豆沙馅粗躁，没有香甜味。12元一碗不值，不好吃。' #1星差评\n",
    "print('好评实例的模型预测情感得分为{}\\n差评实例的模型预测情感得分为{}'.format(ceshi(classifier,test1),ceshi(classifier,test2)))"
   ]
  },
  {
   "cell_type": "code",
   "execution_count": 62,
   "id": "79243263-fdbc-4037-a0a0-42ff71e3127b",
   "metadata": {},
   "outputs": [
    {
     "data": {
      "text/plain": [
       "1.0    11581\n",
       "0.0      988\n",
       "Name: target, dtype: int64"
      ]
     },
     "execution_count": 62,
     "metadata": {},
     "output_type": "execute_result"
    }
   ],
   "source": [
    "df_review_NLP['target'].value_counts()"
   ]
  },
  {
   "cell_type": "code",
   "execution_count": 72,
   "id": "9198101c-8c99-4689-80de-1a05a07ce8df",
   "metadata": {},
   "outputs": [],
   "source": [
    "index_tmp = y_train==0\n",
    "y_tmp = y_train[index_tmp]\n",
    "x_tmp = x_train[index_tmp]\n",
    "x_train2 = pd.concat([x_train,x_tmp,x_tmp,x_tmp,x_tmp,x_tmp])\n",
    "y_train2 = pd.concat([y_train,y_tmp,y_tmp,y_tmp,y_tmp,y_tmp])"
   ]
  },
  {
   "cell_type": "code",
   "execution_count": 73,
   "id": "1fa9e62e-75fc-4704-8dad-27ad98822e9a",
   "metadata": {},
   "outputs": [
    {
     "data": {
      "text/plain": [
       "0.8920289328293108"
      ]
     },
     "execution_count": 73,
     "metadata": {},
     "output_type": "execute_result"
    }
   ],
   "source": [
    "clf2 = MultinomialNB()\n",
    "clf2.fit(tv.transform(x_train2), y_train2)\n",
    "y_pred2 = clf2.predict_proba(tv.transform(x_test))[:,1]\n",
    "roc_auc_score(y_test,y_pred2)"
   ]
  },
  {
   "cell_type": "code",
   "execution_count": 74,
   "id": "5637f734-5e88-4bdf-8526-ef41fa65a903",
   "metadata": {},
   "outputs": [
    {
     "name": "stdout",
     "output_type": "stream",
     "text": [
      "0.81\n",
      "0.69\n"
     ]
    }
   ],
   "source": [
    "print(ceshi(clf2,'很好吃，环境好，超好吃'))\n",
    "print(ceshi(clf2,'排队人太多，环境不好，不好吃'))"
   ]
  },
  {
   "cell_type": "code",
   "execution_count": 48,
   "id": "1983c50b-70ab-4d56-9b69-08356a7f6cc2",
   "metadata": {},
   "outputs": [],
   "source": [
    "from nlp import nlp_score,review_clean,score_trans,test"
   ]
  },
  {
   "cell_type": "code",
   "execution_count": 49,
   "id": "af4bd22d-92e4-4b54-9f75-6c72cece5454",
   "metadata": {},
   "outputs": [
    {
     "data": {
      "text/html": [
       "<div>\n",
       "<style scoped>\n",
       "    .dataframe tbody tr th:only-of-type {\n",
       "        vertical-align: middle;\n",
       "    }\n",
       "\n",
       "    .dataframe tbody tr th {\n",
       "        vertical-align: top;\n",
       "    }\n",
       "\n",
       "    .dataframe thead th {\n",
       "        text-align: right;\n",
       "    }\n",
       "</style>\n",
       "<table border=\"1\" class=\"dataframe\">\n",
       "  <thead>\n",
       "    <tr style=\"text-align: right;\">\n",
       "      <th></th>\n",
       "      <th>_id</th>\n",
       "      <th>中评个数</th>\n",
       "      <th>好评个数</th>\n",
       "      <th>差评个数</th>\n",
       "      <th>带图评论个数</th>\n",
       "      <th>店铺id</th>\n",
       "      <th>推荐菜</th>\n",
       "      <th>精选评论</th>\n",
       "      <th>评论总数</th>\n",
       "      <th>评论摘要</th>\n",
       "    </tr>\n",
       "  </thead>\n",
       "  <tbody>\n",
       "    <tr>\n",
       "      <th>0</th>\n",
       "      <td>62db5b0c817bf9b8a5707520</td>\n",
       "      <td>567</td>\n",
       "      <td>3513</td>\n",
       "      <td>226</td>\n",
       "      <td>3191</td>\n",
       "      <td>l1KkGwL9nhdbxYJG</td>\n",
       "      <td>-</td>\n",
       "      <td>[{\"店铺id\": \"l1KkGwL9nhdbxYJG\", \"评论id\": \"1109187...</td>\n",
       "      <td>4306</td>\n",
       "      <td>[{\"描述\": \"菜品健康\", \"个数\": \"310\"}, {\"描述\": \"不用排队\", \"...</td>\n",
       "    </tr>\n",
       "    <tr>\n",
       "      <th>1</th>\n",
       "      <td>62db5bd3817bf9b8a5707522</td>\n",
       "      <td>1123</td>\n",
       "      <td>11613</td>\n",
       "      <td>327</td>\n",
       "      <td>5205</td>\n",
       "      <td>G6lUt8p6xQvkx4jf</td>\n",
       "      <td>-</td>\n",
       "      <td>[{\"店铺id\": \"G6lUt8p6xQvkx4jf\", \"评论id\": \"1116490...</td>\n",
       "      <td>13063</td>\n",
       "      <td>[{\"描述\": \"上菜快\", \"个数\": \"168\"}, {\"描述\": \"不用排队\", \"个...</td>\n",
       "    </tr>\n",
       "    <tr>\n",
       "      <th>2</th>\n",
       "      <td>62db5c97817bf9b8a5707524</td>\n",
       "      <td>91</td>\n",
       "      <td>777</td>\n",
       "      <td>105</td>\n",
       "      <td>674</td>\n",
       "      <td>l26n8GRljBs37jw0</td>\n",
       "      <td>-</td>\n",
       "      <td>[{\"店铺id\": \"l26n8GRljBs37jw0\", \"评论id\": \"1117401...</td>\n",
       "      <td>973</td>\n",
       "      <td>[{\"描述\": \"牛肉赞\", \"个数\": \"49\"}, {\"描述\": \"不用排队\", \"个数...</td>\n",
       "    </tr>\n",
       "    <tr>\n",
       "      <th>3</th>\n",
       "      <td>62db5d63817bf9b8a5707526</td>\n",
       "      <td>543</td>\n",
       "      <td>3353</td>\n",
       "      <td>247</td>\n",
       "      <td>3108</td>\n",
       "      <td>H1AqU2oV2LZE1Eiw</td>\n",
       "      <td>-</td>\n",
       "      <td>[{\"店铺id\": \"H1AqU2oV2LZE1Eiw\", \"评论id\": \"1117591...</td>\n",
       "      <td>4143</td>\n",
       "      <td>[{\"描述\": \"菜品健康\", \"个数\": \"212\"}, {\"描述\": \"不用排队\", \"...</td>\n",
       "    </tr>\n",
       "    <tr>\n",
       "      <th>4</th>\n",
       "      <td>62db5e2b817bf9b8a5707528</td>\n",
       "      <td>1409</td>\n",
       "      <td>6343</td>\n",
       "      <td>634</td>\n",
       "      <td>2457</td>\n",
       "      <td>k7hEx6fVSx6Z75W2</td>\n",
       "      <td>-</td>\n",
       "      <td>[{\"店铺id\": \"k7hEx6fVSx6Z75W2\", \"评论id\": \"1117017...</td>\n",
       "      <td>8386</td>\n",
       "      <td>[{\"描述\": \"菜品健康\", \"个数\": \"337\"}, {\"描述\": \"不用排队\", \"...</td>\n",
       "    </tr>\n",
       "  </tbody>\n",
       "</table>\n",
       "</div>"
      ],
      "text/plain": [
       "                        _id  中评个数   好评个数  差评个数  带图评论个数              店铺id 推荐菜  \\\n",
       "0  62db5b0c817bf9b8a5707520   567   3513   226    3191  l1KkGwL9nhdbxYJG   -   \n",
       "1  62db5bd3817bf9b8a5707522  1123  11613   327    5205  G6lUt8p6xQvkx4jf   -   \n",
       "2  62db5c97817bf9b8a5707524    91    777   105     674  l26n8GRljBs37jw0   -   \n",
       "3  62db5d63817bf9b8a5707526   543   3353   247    3108  H1AqU2oV2LZE1Eiw   -   \n",
       "4  62db5e2b817bf9b8a5707528  1409   6343   634    2457  k7hEx6fVSx6Z75W2   -   \n",
       "\n",
       "                                                精选评论   评论总数  \\\n",
       "0  [{\"店铺id\": \"l1KkGwL9nhdbxYJG\", \"评论id\": \"1109187...   4306   \n",
       "1  [{\"店铺id\": \"G6lUt8p6xQvkx4jf\", \"评论id\": \"1116490...  13063   \n",
       "2  [{\"店铺id\": \"l26n8GRljBs37jw0\", \"评论id\": \"1117401...    973   \n",
       "3  [{\"店铺id\": \"H1AqU2oV2LZE1Eiw\", \"评论id\": \"1117591...   4143   \n",
       "4  [{\"店铺id\": \"k7hEx6fVSx6Z75W2\", \"评论id\": \"1117017...   8386   \n",
       "\n",
       "                                                评论摘要  \n",
       "0  [{\"描述\": \"菜品健康\", \"个数\": \"310\"}, {\"描述\": \"不用排队\", \"...  \n",
       "1  [{\"描述\": \"上菜快\", \"个数\": \"168\"}, {\"描述\": \"不用排队\", \"个...  \n",
       "2  [{\"描述\": \"牛肉赞\", \"个数\": \"49\"}, {\"描述\": \"不用排队\", \"个数...  \n",
       "3  [{\"描述\": \"菜品健康\", \"个数\": \"212\"}, {\"描述\": \"不用排队\", \"...  \n",
       "4  [{\"描述\": \"菜品健康\", \"个数\": \"337\"}, {\"描述\": \"不用排队\", \"...  "
      ]
     },
     "execution_count": 49,
     "metadata": {},
     "output_type": "execute_result"
    }
   ],
   "source": [
    "pd.read_csv(\"raw_data/dianping_review_test.csv\",encoding='utf-8').head()"
   ]
  },
  {
   "cell_type": "code",
   "execution_count": 50,
   "id": "d08caf43-d022-4042-b707-93b3c7e60469",
   "metadata": {},
   "outputs": [],
   "source": [
    "%load_ext autoreload\n",
    "%autoreload 2\n",
    "\n",
    "import pandas as pd\n",
    "import jieba\n",
    "import simplejson\n",
    "from matplotlib import pyplot as plt\n",
    "from sklearn.model_selection import train_test_split\n",
    "from sklearn.feature_extraction.text import TfidfVectorizer\n",
    "from sklearn.naive_bayes import MultinomialNB\n",
    "from sklearn.metrics import roc_auc_score, f1_score"
   ]
  },
  {
   "cell_type": "code",
   "execution_count": 51,
   "id": "1134a7f3-c742-451b-87b3-cc1ee160e823",
   "metadata": {},
   "outputs": [
    {
     "data": {
      "text/html": [
       "<div>\n",
       "<style scoped>\n",
       "    .dataframe tbody tr th:only-of-type {\n",
       "        vertical-align: middle;\n",
       "    }\n",
       "\n",
       "    .dataframe tbody tr th {\n",
       "        vertical-align: top;\n",
       "    }\n",
       "\n",
       "    .dataframe thead th {\n",
       "        text-align: right;\n",
       "    }\n",
       "</style>\n",
       "<table border=\"1\" class=\"dataframe\">\n",
       "  <thead>\n",
       "    <tr style=\"text-align: right;\">\n",
       "      <th></th>\n",
       "      <th>评论内容</th>\n",
       "      <th>用户总分</th>\n",
       "      <th>店铺id</th>\n",
       "    </tr>\n",
       "  </thead>\n",
       "  <tbody>\n",
       "    <tr>\n",
       "      <th>0</th>\n",
       "      <td>平台上买的他家的双人套餐，真的非常非常实在，份量足，味道也很好，推荐推荐  他家是自助铁板烤...</td>\n",
       "      <td>5.0</td>\n",
       "      <td>l1KkGwL9nhdbxYJG</td>\n",
       "    </tr>\n",
       "    <tr>\n",
       "      <th>1</th>\n",
       "      <td>三月份就中的霸王餐被疫情耽搁到现在才去吃真痛苦 这家韩聚场平时也常吃，特色的石板烤肉蛮少见的...</td>\n",
       "      <td>5.0</td>\n",
       "      <td>l1KkGwL9nhdbxYJG</td>\n",
       "    </tr>\n",
       "    <tr>\n",
       "      <th>2</th>\n",
       "      <td>呼呼离谱三人行，人均92吃成了143哈哈哈哈  场地很大，没排队就直接入座啦～服务员也很麻利...</td>\n",
       "      <td>5.0</td>\n",
       "      <td>l1KkGwL9nhdbxYJG</td>\n",
       "    </tr>\n",
       "    <tr>\n",
       "      <th>3</th>\n",
       "      <td>刷某音看到就团了一个随便挑个日子就去了周二6点多店里人不多套餐里有4种肉肉一个菇一份炒年糕还...</td>\n",
       "      <td>4.5</td>\n",
       "      <td>l1KkGwL9nhdbxYJG</td>\n",
       "    </tr>\n",
       "    <tr>\n",
       "      <th>4</th>\n",
       "      <td>解封之后的第一顿烤肉！用餐感受还是非常满意的，可能正好也是赶上肚子饿，吃的可香了，哈哈～肉都...</td>\n",
       "      <td>4.5</td>\n",
       "      <td>l1KkGwL9nhdbxYJG</td>\n",
       "    </tr>\n",
       "  </tbody>\n",
       "</table>\n",
       "</div>"
      ],
      "text/plain": [
       "                                                评论内容  用户总分              店铺id\n",
       "0  平台上买的他家的双人套餐，真的非常非常实在，份量足，味道也很好，推荐推荐  他家是自助铁板烤...   5.0  l1KkGwL9nhdbxYJG\n",
       "1  三月份就中的霸王餐被疫情耽搁到现在才去吃真痛苦 这家韩聚场平时也常吃，特色的石板烤肉蛮少见的...   5.0  l1KkGwL9nhdbxYJG\n",
       "2  呼呼离谱三人行，人均92吃成了143哈哈哈哈  场地很大，没排队就直接入座啦～服务员也很麻利...   5.0  l1KkGwL9nhdbxYJG\n",
       "3  刷某音看到就团了一个随便挑个日子就去了周二6点多店里人不多套餐里有4种肉肉一个菇一份炒年糕还...   4.5  l1KkGwL9nhdbxYJG\n",
       "4  解封之后的第一顿烤肉！用餐感受还是非常满意的，可能正好也是赶上肚子饿，吃的可香了，哈哈～肉都...   4.5  l1KkGwL9nhdbxYJG"
      ]
     },
     "execution_count": 51,
     "metadata": {},
     "output_type": "execute_result"
    }
   ],
   "source": [
    "df = review_clean(pd.read_csv(\"raw_data/dianping_review_test.csv\"))\n",
    "df.head()"
   ]
  },
  {
   "cell_type": "code",
   "execution_count": 104,
   "id": "9f31f593-1649-49e7-85c3-87e44b9624b0",
   "metadata": {
    "tags": []
   },
   "outputs": [
    {
     "name": "stdout",
     "output_type": "stream",
     "text": [
      "0.9328791684014021\n"
     ]
    },
    {
     "data": {
      "text/html": [
       "<div>\n",
       "<style scoped>\n",
       "    .dataframe tbody tr th:only-of-type {\n",
       "        vertical-align: middle;\n",
       "    }\n",
       "\n",
       "    .dataframe tbody tr th {\n",
       "        vertical-align: top;\n",
       "    }\n",
       "\n",
       "    .dataframe thead th {\n",
       "        text-align: right;\n",
       "    }\n",
       "</style>\n",
       "<table border=\"1\" class=\"dataframe\">\n",
       "  <thead>\n",
       "    <tr style=\"text-align: right;\">\n",
       "      <th></th>\n",
       "      <th>评论内容</th>\n",
       "      <th>用户总分</th>\n",
       "      <th>店铺id</th>\n",
       "      <th>target</th>\n",
       "      <th>nlp_score</th>\n",
       "    </tr>\n",
       "  </thead>\n",
       "  <tbody>\n",
       "    <tr>\n",
       "      <th>0</th>\n",
       "      <td>平台 上 买 的 他家 的 双人 套餐 ， 真的 非常 非常 实在 ， 份量 足 ， 味道 ...</td>\n",
       "      <td>5.0</td>\n",
       "      <td>l1KkGwL9nhdbxYJG</td>\n",
       "      <td>1.0</td>\n",
       "      <td>0.97</td>\n",
       "    </tr>\n",
       "    <tr>\n",
       "      <th>1</th>\n",
       "      <td>三月份 就 中 的 霸王餐 被 疫情 耽搁到 现在 才 去 吃 真 痛苦   这家 韩聚场 ...</td>\n",
       "      <td>5.0</td>\n",
       "      <td>l1KkGwL9nhdbxYJG</td>\n",
       "      <td>1.0</td>\n",
       "      <td>0.94</td>\n",
       "    </tr>\n",
       "    <tr>\n",
       "      <th>2</th>\n",
       "      <td>呼呼 离谱 三人行 ， 人均 92 吃成 了 143 哈哈哈哈     场地 很大 ， 没 ...</td>\n",
       "      <td>5.0</td>\n",
       "      <td>l1KkGwL9nhdbxYJG</td>\n",
       "      <td>1.0</td>\n",
       "      <td>0.94</td>\n",
       "    </tr>\n",
       "    <tr>\n",
       "      <th>3</th>\n",
       "      <td>刷 某音 看到 就团 了 一个 随便 挑个 日子 就 去 了 周二 6 点多 店里 人不多 ...</td>\n",
       "      <td>4.5</td>\n",
       "      <td>l1KkGwL9nhdbxYJG</td>\n",
       "      <td>1.0</td>\n",
       "      <td>0.97</td>\n",
       "    </tr>\n",
       "    <tr>\n",
       "      <th>4</th>\n",
       "      <td>解封 之后 的 第一顿 烤肉 ！ 用餐 感受 还是 非常 满意 的 ， 可能 正好 也 是 ...</td>\n",
       "      <td>4.5</td>\n",
       "      <td>l1KkGwL9nhdbxYJG</td>\n",
       "      <td>1.0</td>\n",
       "      <td>0.91</td>\n",
       "    </tr>\n",
       "    <tr>\n",
       "      <th>...</th>\n",
       "      <td>...</td>\n",
       "      <td>...</td>\n",
       "      <td>...</td>\n",
       "      <td>...</td>\n",
       "      <td>...</td>\n",
       "    </tr>\n",
       "    <tr>\n",
       "      <th>12985</th>\n",
       "      <td>超级 好吃 的 火锅 ！ 不 知道 为啥 就是 觉得 很 好吃</td>\n",
       "      <td>5.0</td>\n",
       "      <td>Ga7fXeKdJ29SZjZO</td>\n",
       "      <td>1.0</td>\n",
       "      <td>0.80</td>\n",
       "    </tr>\n",
       "    <tr>\n",
       "      <th>12986</th>\n",
       "      <td>因为 疫情 的 缘故 ， 导致 这个 团购 卷 过期 了 一天 ， 好 在 提前 加微 信验...</td>\n",
       "      <td>4.0</td>\n",
       "      <td>Ga7fXeKdJ29SZjZO</td>\n",
       "      <td>1.0</td>\n",
       "      <td>0.76</td>\n",
       "    </tr>\n",
       "    <tr>\n",
       "      <th>12987</th>\n",
       "      <td>没想到 公司 附近 开 了 一家 哈哈哈 真 好   菜品 还是 一如既往 的 好吃 买 了...</td>\n",
       "      <td>5.0</td>\n",
       "      <td>Ga7fXeKdJ29SZjZO</td>\n",
       "      <td>1.0</td>\n",
       "      <td>0.98</td>\n",
       "    </tr>\n",
       "    <tr>\n",
       "      <th>12988</th>\n",
       "      <td>他家 锅底 不能 选择 辣度 ， 我 自认 吃 辣 不算 菜鸡 ， 哥老官 的 中辣 吃 了...</td>\n",
       "      <td>4.0</td>\n",
       "      <td>Ga7fXeKdJ29SZjZO</td>\n",
       "      <td>1.0</td>\n",
       "      <td>0.71</td>\n",
       "    </tr>\n",
       "    <tr>\n",
       "      <th>12989</th>\n",
       "      <td>上海滩 这 几年 各个 “ 姐 ” 字辈 的 火锅 层出不穷 。   这次 我们 来到 的 ...</td>\n",
       "      <td>5.0</td>\n",
       "      <td>Ga7fXeKdJ29SZjZO</td>\n",
       "      <td>1.0</td>\n",
       "      <td>0.54</td>\n",
       "    </tr>\n",
       "  </tbody>\n",
       "</table>\n",
       "<p>12990 rows × 5 columns</p>\n",
       "</div>"
      ],
      "text/plain": [
       "                                                    评论内容  用户总分  \\\n",
       "0      平台 上 买 的 他家 的 双人 套餐 ， 真的 非常 非常 实在 ， 份量 足 ， 味道 ...   5.0   \n",
       "1      三月份 就 中 的 霸王餐 被 疫情 耽搁到 现在 才 去 吃 真 痛苦   这家 韩聚场 ...   5.0   \n",
       "2      呼呼 离谱 三人行 ， 人均 92 吃成 了 143 哈哈哈哈     场地 很大 ， 没 ...   5.0   \n",
       "3      刷 某音 看到 就团 了 一个 随便 挑个 日子 就 去 了 周二 6 点多 店里 人不多 ...   4.5   \n",
       "4      解封 之后 的 第一顿 烤肉 ！ 用餐 感受 还是 非常 满意 的 ， 可能 正好 也 是 ...   4.5   \n",
       "...                                                  ...   ...   \n",
       "12985                    超级 好吃 的 火锅 ！ 不 知道 为啥 就是 觉得 很 好吃   5.0   \n",
       "12986  因为 疫情 的 缘故 ， 导致 这个 团购 卷 过期 了 一天 ， 好 在 提前 加微 信验...   4.0   \n",
       "12987  没想到 公司 附近 开 了 一家 哈哈哈 真 好   菜品 还是 一如既往 的 好吃 买 了...   5.0   \n",
       "12988  他家 锅底 不能 选择 辣度 ， 我 自认 吃 辣 不算 菜鸡 ， 哥老官 的 中辣 吃 了...   4.0   \n",
       "12989  上海滩 这 几年 各个 “ 姐 ” 字辈 的 火锅 层出不穷 。   这次 我们 来到 的 ...   5.0   \n",
       "\n",
       "                   店铺id  target  nlp_score  \n",
       "0      l1KkGwL9nhdbxYJG     1.0       0.97  \n",
       "1      l1KkGwL9nhdbxYJG     1.0       0.94  \n",
       "2      l1KkGwL9nhdbxYJG     1.0       0.94  \n",
       "3      l1KkGwL9nhdbxYJG     1.0       0.97  \n",
       "4      l1KkGwL9nhdbxYJG     1.0       0.91  \n",
       "...                 ...     ...        ...  \n",
       "12985  Ga7fXeKdJ29SZjZO     1.0       0.80  \n",
       "12986  Ga7fXeKdJ29SZjZO     1.0       0.76  \n",
       "12987  Ga7fXeKdJ29SZjZO     1.0       0.98  \n",
       "12988  Ga7fXeKdJ29SZjZO     1.0       0.71  \n",
       "12989  Ga7fXeKdJ29SZjZO     1.0       0.54  \n",
       "\n",
       "[12990 rows x 5 columns]"
      ]
     },
     "execution_count": 104,
     "metadata": {},
     "output_type": "execute_result"
    }
   ],
   "source": [
    "nlp_score(\"raw_data/dianping_review_test.csv\")"
   ]
  },
  {
   "cell_type": "code",
   "execution_count": null,
   "id": "74142551-a764-4444-bbaa-3f14bf25c8bb",
   "metadata": {},
   "outputs": [],
   "source": []
  }
 ],
 "metadata": {
  "kernelspec": {
   "display_name": "Python 3 (ipykernel)",
   "language": "python",
   "name": "python3"
  },
  "language_info": {
   "codemirror_mode": {
    "name": "ipython",
    "version": 3
   },
   "file_extension": ".py",
   "mimetype": "text/x-python",
   "name": "python",
   "nbconvert_exporter": "python",
   "pygments_lexer": "ipython3",
   "version": "3.8.12"
  }
 },
 "nbformat": 4,
 "nbformat_minor": 5
}
